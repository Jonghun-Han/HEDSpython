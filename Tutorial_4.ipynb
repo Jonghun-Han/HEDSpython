{
  "cells": [
    {
      "cell_type": "markdown",
      "metadata": {
        "id": "OXeoIvywh2V6"
      },
      "source": [
        "# **APIs**"
      ]
    },
    {
      "cell_type": "markdown",
      "metadata": {
        "id": "Nc_263D7h7Fy"
      },
      "source": [
        "API stands for Application Program Interface and is a way for two or more computer programmes to communicate with each other.\n",
        "\n",
        "REST (Representational State Transfer) APIs allow communication between a client (your program) and a server (usually online) using HTTP (HyperText Transfer Protocol) to communicate.\n",
        "\n",
        "A HTTP request is sent from client to server containing the instructions in a file (usually .json). The server then executes the instructions and sends a HTTP response which contains the result."
      ]
    },
    {
      "cell_type": "markdown",
      "metadata": {
        "id": "NhU6Y3XAi_gv"
      },
      "source": [
        "Let's look at an example."
      ]
    },
    {
      "cell_type": "code",
      "execution_count": null,
      "metadata": {
        "id": "BZ-3N3dMh1Z4"
      },
      "outputs": [],
      "source": [
        "import requests\n",
        "import json\n",
        "import pandas"
      ]
    },
    {
      "cell_type": "markdown",
      "metadata": {
        "id": "H52KwE8NjE0V"
      },
      "source": [
        "We first define the HTTP request providing the appropriate URL."
      ]
    },
    {
      "cell_type": "code",
      "execution_count": null,
      "metadata": {
        "id": "mj1KP6MbjDDR"
      },
      "outputs": [],
      "source": [
        "country = 'Italy'\n",
        "daterange = '20211215-20220115'\n",
        "url = ( 'https://covidmap.umd.edu/api/resources?indicator=covid&type=smoothed&country=' +\n",
        "    country + '&daterange=' + daterange )"
      ]
    },
    {
      "cell_type": "markdown",
      "metadata": {
        "id": "Jd7hUYwnjKfk"
      },
      "source": [
        "We then send request via API and collect the text response using the `get()` function."
      ]
    },
    {
      "cell_type": "code",
      "execution_count": null,
      "metadata": {
        "colab": {
          "base_uri": "https://localhost:8080/"
        },
        "id": "mUpI26LbjWcs",
        "outputId": "1a99fc7c-0e36-4b04-f6b3-e042fa373d2c"
      },
      "outputs": [],
      "source": [
        "response = requests.get(url)\n",
        "print(response)"
      ]
    },
    {
      "cell_type": "markdown",
      "metadata": {
        "id": "udoRmgEikRRk"
      },
      "source": [
        "We can get a number of API responses the key ones to remember are:\n",
        "\n",
        "*   200 - success\n",
        "*   400 - bad request (i.e., the error is in our code)\n",
        "*   500 - internal server error (i.e., the error is on the server side)\n"
      ]
    },
    {
      "cell_type": "markdown",
      "metadata": {
        "id": "JvAQZzznjmIa"
      },
      "source": [
        "We then transform the text response in a json file. a json is a JavaScript Object Notation consisting of name-object pairs and punctuation in the form of brackets, parentheses, semicolons and colons (basically a big dictionary!)"
      ]
    },
    {
      "cell_type": "code",
      "execution_count": null,
      "metadata": {
        "colab": {
          "base_uri": "https://localhost:8080/"
        },
        "id": "pETnQ2RRjqDa",
        "outputId": "fcde5049-283a-4b50-c70d-36b0ace1efc5"
      },
      "outputs": [],
      "source": [
        "jsonData = json.loads(response.text)\n",
        "print(jsonData)"
      ]
    },
    {
      "cell_type": "markdown",
      "metadata": {
        "id": "uiSg7untjr4F"
      },
      "source": [
        "And lastly convert the json to a pandas dataframe - ready for us to use."
      ]
    },
    {
      "cell_type": "code",
      "execution_count": null,
      "metadata": {
        "colab": {
          "base_uri": "https://localhost:8080/",
          "height": 206
        },
        "id": "Vx_NA2-vj1tQ",
        "outputId": "917bdcea-2c0d-4f4b-90a2-f3a8d00fead1"
      },
      "outputs": [],
      "source": [
        "df = pandas.DataFrame.from_dict(jsonData['data'])\n",
        "df.head()"
      ]
    },
    {
      "cell_type": "markdown",
      "metadata": {
        "id": "TrrxkDY1lqmS"
      },
      "source": [
        "## **Using World Bank Data API**"
      ]
    },
    {
      "cell_type": "markdown",
      "metadata": {
        "id": "T2Jv0OKOvOGz"
      },
      "source": [
        "You can find the documentation on the API interface and practical examples [here](https://wbdata.readthedocs.io/en/stable/) and [here](https://blogs.worldbank.org/opendata/accessing-world-bank-data-apis-python-r-ruby-stata) respectively.\n",
        "\n",
        "Let's replicate the example code below."
      ]
    },
    {
      "cell_type": "markdown",
      "metadata": {
        "id": "s3mWFfhdv5gL"
      },
      "source": [
        "We first need to install the `wbdata` library which contains the API call."
      ]
    },
    {
      "cell_type": "code",
      "execution_count": null,
      "metadata": {
        "colab": {
          "base_uri": "https://localhost:8080/"
        },
        "id": "I1CUJ89qtPIS",
        "outputId": "9515738d-db3b-4aee-b2ac-9a58603d978c"
      },
      "outputs": [],
      "source": [
        "!pip3 install -U wbdata"
      ]
    },
    {
      "cell_type": "markdown",
      "metadata": {
        "id": "IO57yocNwDaF"
      },
      "source": [
        "We then import the libraries."
      ]
    },
    {
      "cell_type": "code",
      "execution_count": null,
      "metadata": {
        "id": "Uf-LyjWvuVwB"
      },
      "outputs": [],
      "source": [
        "import wbdata\n",
        "import pandas as pd\n",
        "import matplotlib.pyplot as plt\n",
        "import numpy as np"
      ]
    },
    {
      "cell_type": "markdown",
      "metadata": {
        "id": "Rd78mZsNwHcI"
      },
      "source": [
        "The `get_country()` function gives us a list of all countries.  "
      ]
    },
    {
      "cell_type": "code",
      "execution_count": null,
      "metadata": {
        "colab": {
          "base_uri": "https://localhost:8080/"
        },
        "id": "_udqZ4vHurNM",
        "outputId": "2d3e6343-1a88-4295-df24-b81c69bb3244"
      },
      "outputs": [],
      "source": [
        "wbdata.get_countries()"
      ]
    },
    {
      "cell_type": "markdown",
      "metadata": {
        "id": "NyfgVLhNwTvX"
      },
      "source": [
        "We can pick the countries that interest us."
      ]
    },
    {
      "cell_type": "code",
      "execution_count": null,
      "metadata": {
        "id": "98Dkh-ReutWL"
      },
      "outputs": [],
      "source": [
        "countries = [\"USA\",\"GBR\",\"ITA\"]"
      ]
    },
    {
      "cell_type": "markdown",
      "metadata": {
        "id": "AIWV7UgswO2I"
      },
      "source": [
        "The `get_indicator()` function gives us a list of all indicators."
      ]
    },
    {
      "cell_type": "code",
      "execution_count": null,
      "metadata": {
        "colab": {
          "base_uri": "https://localhost:8080/"
        },
        "id": "VxhxFdKIuv3m",
        "outputId": "c7aa4c51-fb46-4aff-db7d-f59392f03ff7"
      },
      "outputs": [],
      "source": [
        "wbdata.get_indicators()"
      ]
    },
    {
      "cell_type": "markdown",
      "metadata": {
        "id": "TzU0WMoqxIoF"
      },
      "source": [
        "We can choose the indicator that we want."
      ]
    },
    {
      "cell_type": "code",
      "execution_count": null,
      "metadata": {
        "id": "PWmDeeXvuyu-"
      },
      "outputs": [],
      "source": [
        "indicators = {'NY.GNP.PCAP.CD':'GNI per Capita'}"
      ]
    },
    {
      "cell_type": "markdown",
      "metadata": {
        "id": "Uu7RMjJVxNTA"
      },
      "source": [
        "We then make the call using the country and indicators parameters."
      ]
    },
    {
      "cell_type": "code",
      "execution_count": null,
      "metadata": {
        "id": "Xh8UwR38u1sl"
      },
      "outputs": [],
      "source": [
        "df = wbdata.get_dataframe(indicators, country=countries, parse_dates=False)"
      ]
    },
    {
      "cell_type": "markdown",
      "metadata": {
        "id": "vbLE07ynxWhq"
      },
      "source": [
        "The df is given as a pivot table. Pandas' `.unstack()` method helps reshape it into something plottable."
      ]
    },
    {
      "cell_type": "code",
      "execution_count": null,
      "metadata": {
        "colab": {
          "base_uri": "https://localhost:8080/",
          "height": 486
        },
        "id": "xjpX5WjKu3mr",
        "outputId": "5fc79391-da72-495e-9696-1381bdedbd35"
      },
      "outputs": [],
      "source": [
        "dfu = df.unstack(level=0)\n",
        "dfu"
      ]
    },
    {
      "cell_type": "markdown",
      "metadata": {
        "id": "zltcOeb3xqdf"
      },
      "source": [
        "We can now plot the GNI for the selected countries."
      ]
    },
    {
      "cell_type": "code",
      "execution_count": null,
      "metadata": {
        "colab": {
          "base_uri": "https://localhost:8080/",
          "height": 472
        },
        "id": "O9mC1HAJu5rx",
        "outputId": "cbdb2e0b-86bf-4998-af14-16eb1d5429d5"
      },
      "outputs": [],
      "source": [
        "dfu.plot();\n",
        "plt.legend(loc='best');\n",
        "plt.title(\"GNI Per Capita ($USD, Atlas Method)\");\n",
        "plt.xlabel('Date');\n",
        "plt.ylabel('GNI Per Capita ($USD, Atlas Method');"
      ]
    },
    {
      "cell_type": "markdown",
      "metadata": {
        "id": "0aTtuoq_mqY3"
      },
      "source": [
        "We can also plot two indicators together if we want to compare their trends.\n",
        "Let us see the relationship between GDP and population un China."
      ]
    },
    {
      "cell_type": "markdown",
      "metadata": {
        "id": "6UH4-EHVnSYs"
      },
      "source": [
        "We first select the country and indicators of interest."
      ]
    },
    {
      "cell_type": "code",
      "execution_count": null,
      "metadata": {
        "id": "9rmLUBWH0p6I"
      },
      "outputs": [],
      "source": [
        "chn = ['CHN']\n",
        "gdp_indicator = {'NY.GDP.PCAP.CD':'GDP'}\n",
        "pop_indicator = {'SP.POP.TOTL':'POP'}"
      ]
    },
    {
      "cell_type": "markdown",
      "metadata": {
        "id": "7DZRP_9qneD5"
      },
      "source": [
        "Then get the data by calling the World Bank Data API."
      ]
    },
    {
      "cell_type": "code",
      "execution_count": null,
      "metadata": {
        "id": "ioKrs1Z-1Bfn"
      },
      "outputs": [],
      "source": [
        "gdp = wbdata.get_dataframe(gdp_indicator, country=chn, parse_dates=False)\n",
        "pop = wbdata.get_dataframe(pop_indicator , country=chn, parse_dates=False)"
      ]
    },
    {
      "cell_type": "markdown",
      "metadata": {
        "id": "sn1qo92pnnBv"
      },
      "source": [
        "To make the two indicators comparable in out plot we standardise them."
      ]
    },
    {
      "cell_type": "code",
      "execution_count": null,
      "metadata": {
        "id": "Ie0f6pse33Td"
      },
      "outputs": [],
      "source": [
        "gdp = (gdp-gdp.mean())/gdp.std()\n",
        "pop = (pop-pop.mean())/pop.std()"
      ]
    },
    {
      "cell_type": "markdown",
      "metadata": {
        "id": "ckLIhdsOnugK"
      },
      "source": [
        "And then make sure that years are in the right order."
      ]
    },
    {
      "cell_type": "code",
      "execution_count": null,
      "metadata": {
        "id": "cutDRT9Vn2c2"
      },
      "outputs": [],
      "source": [
        "gdp = gdp.sort_index(ascending=True)\n",
        "pop = pop.sort_index(ascending=True)"
      ]
    },
    {
      "cell_type": "markdown",
      "metadata": {
        "id": "m6XKGbbYn7S8"
      },
      "source": [
        "We then plot the two indicators."
      ]
    },
    {
      "cell_type": "code",
      "execution_count": null,
      "metadata": {
        "colab": {
          "base_uri": "https://localhost:8080/",
          "height": 985
        },
        "id": "bffLcs3-3iyf",
        "outputId": "96998a00-8faa-437f-ad6f-c4a6efc7a889"
      },
      "outputs": [],
      "source": [
        "fig, ax = plt.subplots(dpi=200)\n",
        "plt.rcParams.update({'font.size': 10})\n",
        "fig.subplots_adjust(wspace=0)\n",
        "ax.plot(gdp, linewidth=2.0, label='GDP')\n",
        "ax.plot(pop, linewidth=2.0, label='POP')\n",
        "plt.xticks(rotation='vertical')\n",
        "plt.xticks(np.arange(0, 61, 5))\n",
        "plt.title('GDP vs. POP in China');\n",
        "plt.xlabel('year');\n",
        "plt.ylabel('standardised value');\n",
        "plt.legend()"
      ]
    },
    {
      "cell_type": "markdown",
      "metadata": {
        "id": "e37T67D7oUDz"
      },
      "source": [
        "# **Exercise**"
      ]
    },
    {
      "cell_type": "markdown",
      "metadata": {
        "id": "fHT6WPUhoY5v"
      },
      "source": [
        "Download the first 10000 violent incidents acoross the world reported in 2020 by the Uppsala Conflict Data Program and create plots as indicated, following examples in the past tutorials and examples contained in the plotting_example.ipynb file."
      ]
    },
    {
      "cell_type": "markdown",
      "metadata": {
        "id": "-z1T7s6bo3mw"
      },
      "source": [
        "1. Familiarize youself with the API documentation, formulate a query to download the data and return the response as a dataframe following the example above."
      ]
    },
    {
      "cell_type": "markdown",
      "metadata": {
        "id": "EcKfHaX1pN6V"
      },
      "source": [
        "2. After checking that you have downloaded the data correctly and what information is available, create a barchart reporting violent incidents by country."
      ]
    },
    {
      "cell_type": "markdown",
      "metadata": {
        "id": "4F7BMEGrpjiN"
      },
      "source": [
        "3. Create a second barchart like the one above but using colors to differentiate types of violence. Make sure a legend and labels are present."
      ]
    },
    {
      "cell_type": "markdown",
      "metadata": {
        "id": "wpEX9miLrPhm"
      },
      "source": [
        "4. Side by side, create three histograms reporting the distribution of violent incidents by type of violence in the sample population of countries."
      ]
    }
  ],
  "metadata": {
    "colab": {
      "provenance": []
    },
    "kernelspec": {
      "display_name": "Python 3",
      "name": "python3"
    },
    "language_info": {
      "name": "python"
    }
  },
  "nbformat": 4,
  "nbformat_minor": 0
}
