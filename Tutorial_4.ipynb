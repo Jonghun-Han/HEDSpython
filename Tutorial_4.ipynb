{
  "cells": [
    {
      "cell_type": "markdown",
      "metadata": {
        "id": "view-in-github",
        "colab_type": "text"
      },
      "source": [
        "<a href=\"https://colab.research.google.com/github/Jonghun-Han/HEDSpython/blob/main/Tutorial_4.ipynb\" target=\"_parent\"><img src=\"https://colab.research.google.com/assets/colab-badge.svg\" alt=\"Open In Colab\"/></a>"
      ]
    },
    {
      "cell_type": "markdown",
      "source": [
        "<a target=\"_blank\" href=\"https://colab.research.google.com/github/robgen/HEDSpython/blob/main/Tutorial_4.ipynb\">\n",
        "  <img src=\"https://colab.research.google.com/assets/colab-badge.svg\" alt=\"Open In Colab\"/>\n",
        "</a>"
      ],
      "metadata": {
        "id": "TCx6IDFBvhU8"
      }
    },
    {
      "cell_type": "markdown",
      "metadata": {
        "id": "LudlcStpotBm"
      },
      "source": [
        "# **Pandas**"
      ]
    },
    {
      "cell_type": "markdown",
      "metadata": {
        "id": "XVJzm2D0ork5"
      },
      "source": [
        "Pandas is an open source Python library for data analysis. Most of the times it is pre-installed in your system, but, as for any other library, you need to import it.\n",
        "\n",
        "Let's start with importing pandas."
      ]
    },
    {
      "cell_type": "code",
      "execution_count": 1,
      "metadata": {
        "id": "hD2s1_-ho2cO"
      },
      "outputs": [],
      "source": [
        "import pandas as pd"
      ]
    },
    {
      "cell_type": "markdown",
      "metadata": {
        "id": "1MSwCYQlpo5b"
      },
      "source": [
        "Let's import a dataset. To do so we use the `read_csv()` function."
      ]
    },
    {
      "cell_type": "code",
      "execution_count": 7,
      "metadata": {
        "id": "rQbafUZIqTYX"
      },
      "outputs": [],
      "source": [
        "# csvFilePath = 'files/internallyDisplaced.csv'\n",
        "csvFilePath = \"https://raw.githubusercontent.com/robgen/HEDSpython/refs/heads/main/files/internallyDisplaced.csv\"\n",
        "internallyDisplaced = pd.read_csv(csvFilePath)"
      ]
    },
    {
      "cell_type": "markdown",
      "metadata": {
        "id": "iP1-HG0aridl"
      },
      "source": [
        "You can also read excel files with the `read_excel()` function. The rest is the same you just need to define the right file path."
      ]
    },
    {
      "cell_type": "markdown",
      "metadata": {
        "id": "mNa3WlC3t2lw"
      },
      "source": [
        "## **Inspecting a dataframe**"
      ]
    },
    {
      "cell_type": "markdown",
      "metadata": {
        "id": "YWNJXfdMt7MC"
      },
      "source": [
        "The methods `.head()` and `.tail()` show respectively the first and last 5 rows of a dataframe."
      ]
    },
    {
      "cell_type": "code",
      "execution_count": null,
      "metadata": {
        "id": "lrGMtmVztvH6"
      },
      "outputs": [],
      "source": [
        "internallyDisplaced.head()"
      ]
    },
    {
      "cell_type": "code",
      "execution_count": null,
      "metadata": {
        "id": "2S2nJ2VUvo_H"
      },
      "outputs": [],
      "source": [
        "internallyDisplaced.tail()"
      ]
    },
    {
      "cell_type": "markdown",
      "metadata": {
        "id": "j9S0quFhvV9q"
      },
      "source": [
        "You can also give the number of rows that you want to show as an argument to the method."
      ]
    },
    {
      "cell_type": "code",
      "execution_count": null,
      "metadata": {
        "id": "pw-OvyJLvegB"
      },
      "outputs": [],
      "source": [
        "internallyDisplaced.head(10)"
      ]
    },
    {
      "cell_type": "code",
      "execution_count": null,
      "metadata": {
        "id": "XzfVoIOyvwf2"
      },
      "outputs": [],
      "source": [
        "internallyDisplaced.tail(10)"
      ]
    },
    {
      "cell_type": "markdown",
      "metadata": {
        "id": "5cVNORp13B-g"
      },
      "source": [
        "The attribute `.shape` returns the dimensions (rows, columns) of the dataframe."
      ]
    },
    {
      "cell_type": "code",
      "execution_count": null,
      "metadata": {
        "id": "cEKq89HW3JuZ"
      },
      "outputs": [],
      "source": [
        "internallyDisplaced.shape"
      ]
    },
    {
      "cell_type": "markdown",
      "metadata": {
        "id": "KxE1OQUA3akQ"
      },
      "source": [
        "You can use the `.sample()` method to show a random number of rows."
      ]
    },
    {
      "cell_type": "code",
      "execution_count": null,
      "metadata": {
        "id": "UD5EzRev3bs5"
      },
      "outputs": [],
      "source": [
        "internallyDisplaced.sample(10)"
      ]
    },
    {
      "cell_type": "markdown",
      "metadata": {
        "id": "w6qAlDCC3pA-"
      },
      "source": [
        "If you re-run the line of code above you will see that the selection of rows will change."
      ]
    },
    {
      "cell_type": "markdown",
      "metadata": {
        "id": "ffHOh28zxoZN"
      },
      "source": [
        "## **Selecting columns and rows in Pandas**"
      ]
    },
    {
      "cell_type": "markdown",
      "source": [
        "Another way to check which columns are in the dataframe is"
      ],
      "metadata": {
        "id": "8luhx2qnuz1k"
      }
    },
    {
      "cell_type": "code",
      "source": [
        "internallyDisplaced.columns"
      ],
      "metadata": {
        "id": "NFXPN7haujKo"
      },
      "execution_count": null,
      "outputs": []
    },
    {
      "cell_type": "markdown",
      "metadata": {
        "id": "DkmPu7-Uxsj2"
      },
      "source": [
        "You can select a single column in the following way."
      ]
    },
    {
      "cell_type": "code",
      "execution_count": 8,
      "metadata": {
        "id": "Pm-piEjmx42w",
        "outputId": "b28d2dac-3e55-40c9-f73e-439182027b28",
        "colab": {
          "base_uri": "https://localhost:8080/",
          "height": 453
        }
      },
      "outputs": [
        {
          "output_type": "execute_result",
          "data": {
            "text/plain": [
              "0         Abyei Area\n",
              "1         Abyei Area\n",
              "2        Afghanistan\n",
              "3        Afghanistan\n",
              "4        Afghanistan\n",
              "            ...     \n",
              "10180       Zimbabwe\n",
              "10181       Zimbabwe\n",
              "10182       Zimbabwe\n",
              "10183       Zimbabwe\n",
              "10184       Zimbabwe\n",
              "Name: Name, Length: 10185, dtype: object"
            ],
            "text/html": [
              "<div>\n",
              "<style scoped>\n",
              "    .dataframe tbody tr th:only-of-type {\n",
              "        vertical-align: middle;\n",
              "    }\n",
              "\n",
              "    .dataframe tbody tr th {\n",
              "        vertical-align: top;\n",
              "    }\n",
              "\n",
              "    .dataframe thead th {\n",
              "        text-align: right;\n",
              "    }\n",
              "</style>\n",
              "<table border=\"1\" class=\"dataframe\">\n",
              "  <thead>\n",
              "    <tr style=\"text-align: right;\">\n",
              "      <th></th>\n",
              "      <th>Name</th>\n",
              "    </tr>\n",
              "  </thead>\n",
              "  <tbody>\n",
              "    <tr>\n",
              "      <th>0</th>\n",
              "      <td>Abyei Area</td>\n",
              "    </tr>\n",
              "    <tr>\n",
              "      <th>1</th>\n",
              "      <td>Abyei Area</td>\n",
              "    </tr>\n",
              "    <tr>\n",
              "      <th>2</th>\n",
              "      <td>Afghanistan</td>\n",
              "    </tr>\n",
              "    <tr>\n",
              "      <th>3</th>\n",
              "      <td>Afghanistan</td>\n",
              "    </tr>\n",
              "    <tr>\n",
              "      <th>4</th>\n",
              "      <td>Afghanistan</td>\n",
              "    </tr>\n",
              "    <tr>\n",
              "      <th>...</th>\n",
              "      <td>...</td>\n",
              "    </tr>\n",
              "    <tr>\n",
              "      <th>10180</th>\n",
              "      <td>Zimbabwe</td>\n",
              "    </tr>\n",
              "    <tr>\n",
              "      <th>10181</th>\n",
              "      <td>Zimbabwe</td>\n",
              "    </tr>\n",
              "    <tr>\n",
              "      <th>10182</th>\n",
              "      <td>Zimbabwe</td>\n",
              "    </tr>\n",
              "    <tr>\n",
              "      <th>10183</th>\n",
              "      <td>Zimbabwe</td>\n",
              "    </tr>\n",
              "    <tr>\n",
              "      <th>10184</th>\n",
              "      <td>Zimbabwe</td>\n",
              "    </tr>\n",
              "  </tbody>\n",
              "</table>\n",
              "<p>10185 rows × 1 columns</p>\n",
              "</div><br><label><b>dtype:</b> object</label>"
            ]
          },
          "metadata": {},
          "execution_count": 8
        }
      ],
      "source": [
        "internallyDisplaced['Name']"
      ]
    },
    {
      "cell_type": "markdown",
      "metadata": {
        "id": "oem9yFngHZ1j"
      },
      "source": [
        "Or in the following way"
      ]
    },
    {
      "cell_type": "code",
      "execution_count": null,
      "metadata": {
        "id": "zNirJcATHciN"
      },
      "outputs": [],
      "source": [
        "internallyDisplaced.Name"
      ]
    },
    {
      "cell_type": "markdown",
      "metadata": {
        "id": "8Ehcv97CyKaP"
      },
      "source": [
        "To select multiple columns you need to parse the column names as a list within the first [].\n",
        "\n",
        "An example"
      ]
    },
    {
      "cell_type": "code",
      "execution_count": 9,
      "metadata": {
        "id": "uXxXibY9ypLh",
        "outputId": "6bde7d8f-7e3b-4e39-996a-530ef89067c0",
        "colab": {
          "base_uri": "https://localhost:8080/",
          "height": 419
        }
      },
      "outputs": [
        {
          "output_type": "execute_result",
          "data": {
            "text/plain": [
              "               Hazard Type         Name\n",
              "0                    Flood   Abyei Area\n",
              "1                    Flood   Abyei Area\n",
              "2                    Flood  Afghanistan\n",
              "3      Extreme temperature  Afghanistan\n",
              "4               Earthquake  Afghanistan\n",
              "...                    ...          ...\n",
              "10180                Storm     Zimbabwe\n",
              "10181                Storm     Zimbabwe\n",
              "10182                Flood     Zimbabwe\n",
              "10183                Flood     Zimbabwe\n",
              "10184                Storm     Zimbabwe\n",
              "\n",
              "[10185 rows x 2 columns]"
            ],
            "text/html": [
              "\n",
              "  <div id=\"df-a4974814-6fd8-46b4-81bb-5075c7ff0870\" class=\"colab-df-container\">\n",
              "    <div>\n",
              "<style scoped>\n",
              "    .dataframe tbody tr th:only-of-type {\n",
              "        vertical-align: middle;\n",
              "    }\n",
              "\n",
              "    .dataframe tbody tr th {\n",
              "        vertical-align: top;\n",
              "    }\n",
              "\n",
              "    .dataframe thead th {\n",
              "        text-align: right;\n",
              "    }\n",
              "</style>\n",
              "<table border=\"1\" class=\"dataframe\">\n",
              "  <thead>\n",
              "    <tr style=\"text-align: right;\">\n",
              "      <th></th>\n",
              "      <th>Hazard Type</th>\n",
              "      <th>Name</th>\n",
              "    </tr>\n",
              "  </thead>\n",
              "  <tbody>\n",
              "    <tr>\n",
              "      <th>0</th>\n",
              "      <td>Flood</td>\n",
              "      <td>Abyei Area</td>\n",
              "    </tr>\n",
              "    <tr>\n",
              "      <th>1</th>\n",
              "      <td>Flood</td>\n",
              "      <td>Abyei Area</td>\n",
              "    </tr>\n",
              "    <tr>\n",
              "      <th>2</th>\n",
              "      <td>Flood</td>\n",
              "      <td>Afghanistan</td>\n",
              "    </tr>\n",
              "    <tr>\n",
              "      <th>3</th>\n",
              "      <td>Extreme temperature</td>\n",
              "      <td>Afghanistan</td>\n",
              "    </tr>\n",
              "    <tr>\n",
              "      <th>4</th>\n",
              "      <td>Earthquake</td>\n",
              "      <td>Afghanistan</td>\n",
              "    </tr>\n",
              "    <tr>\n",
              "      <th>...</th>\n",
              "      <td>...</td>\n",
              "      <td>...</td>\n",
              "    </tr>\n",
              "    <tr>\n",
              "      <th>10180</th>\n",
              "      <td>Storm</td>\n",
              "      <td>Zimbabwe</td>\n",
              "    </tr>\n",
              "    <tr>\n",
              "      <th>10181</th>\n",
              "      <td>Storm</td>\n",
              "      <td>Zimbabwe</td>\n",
              "    </tr>\n",
              "    <tr>\n",
              "      <th>10182</th>\n",
              "      <td>Flood</td>\n",
              "      <td>Zimbabwe</td>\n",
              "    </tr>\n",
              "    <tr>\n",
              "      <th>10183</th>\n",
              "      <td>Flood</td>\n",
              "      <td>Zimbabwe</td>\n",
              "    </tr>\n",
              "    <tr>\n",
              "      <th>10184</th>\n",
              "      <td>Storm</td>\n",
              "      <td>Zimbabwe</td>\n",
              "    </tr>\n",
              "  </tbody>\n",
              "</table>\n",
              "<p>10185 rows × 2 columns</p>\n",
              "</div>\n",
              "    <div class=\"colab-df-buttons\">\n",
              "\n",
              "  <div class=\"colab-df-container\">\n",
              "    <button class=\"colab-df-convert\" onclick=\"convertToInteractive('df-a4974814-6fd8-46b4-81bb-5075c7ff0870')\"\n",
              "            title=\"Convert this dataframe to an interactive table.\"\n",
              "            style=\"display:none;\">\n",
              "\n",
              "  <svg xmlns=\"http://www.w3.org/2000/svg\" height=\"24px\" viewBox=\"0 -960 960 960\">\n",
              "    <path d=\"M120-120v-720h720v720H120Zm60-500h600v-160H180v160Zm220 220h160v-160H400v160Zm0 220h160v-160H400v160ZM180-400h160v-160H180v160Zm440 0h160v-160H620v160ZM180-180h160v-160H180v160Zm440 0h160v-160H620v160Z\"/>\n",
              "  </svg>\n",
              "    </button>\n",
              "\n",
              "  <style>\n",
              "    .colab-df-container {\n",
              "      display:flex;\n",
              "      gap: 12px;\n",
              "    }\n",
              "\n",
              "    .colab-df-convert {\n",
              "      background-color: #E8F0FE;\n",
              "      border: none;\n",
              "      border-radius: 50%;\n",
              "      cursor: pointer;\n",
              "      display: none;\n",
              "      fill: #1967D2;\n",
              "      height: 32px;\n",
              "      padding: 0 0 0 0;\n",
              "      width: 32px;\n",
              "    }\n",
              "\n",
              "    .colab-df-convert:hover {\n",
              "      background-color: #E2EBFA;\n",
              "      box-shadow: 0px 1px 2px rgba(60, 64, 67, 0.3), 0px 1px 3px 1px rgba(60, 64, 67, 0.15);\n",
              "      fill: #174EA6;\n",
              "    }\n",
              "\n",
              "    .colab-df-buttons div {\n",
              "      margin-bottom: 4px;\n",
              "    }\n",
              "\n",
              "    [theme=dark] .colab-df-convert {\n",
              "      background-color: #3B4455;\n",
              "      fill: #D2E3FC;\n",
              "    }\n",
              "\n",
              "    [theme=dark] .colab-df-convert:hover {\n",
              "      background-color: #434B5C;\n",
              "      box-shadow: 0px 1px 3px 1px rgba(0, 0, 0, 0.15);\n",
              "      filter: drop-shadow(0px 1px 2px rgba(0, 0, 0, 0.3));\n",
              "      fill: #FFFFFF;\n",
              "    }\n",
              "  </style>\n",
              "\n",
              "    <script>\n",
              "      const buttonEl =\n",
              "        document.querySelector('#df-a4974814-6fd8-46b4-81bb-5075c7ff0870 button.colab-df-convert');\n",
              "      buttonEl.style.display =\n",
              "        google.colab.kernel.accessAllowed ? 'block' : 'none';\n",
              "\n",
              "      async function convertToInteractive(key) {\n",
              "        const element = document.querySelector('#df-a4974814-6fd8-46b4-81bb-5075c7ff0870');\n",
              "        const dataTable =\n",
              "          await google.colab.kernel.invokeFunction('convertToInteractive',\n",
              "                                                    [key], {});\n",
              "        if (!dataTable) return;\n",
              "\n",
              "        const docLinkHtml = 'Like what you see? Visit the ' +\n",
              "          '<a target=\"_blank\" href=https://colab.research.google.com/notebooks/data_table.ipynb>data table notebook</a>'\n",
              "          + ' to learn more about interactive tables.';\n",
              "        element.innerHTML = '';\n",
              "        dataTable['output_type'] = 'display_data';\n",
              "        await google.colab.output.renderOutput(dataTable, element);\n",
              "        const docLink = document.createElement('div');\n",
              "        docLink.innerHTML = docLinkHtml;\n",
              "        element.appendChild(docLink);\n",
              "      }\n",
              "    </script>\n",
              "  </div>\n",
              "\n",
              "\n",
              "<div id=\"df-415fdf87-9c57-44bd-95dd-75b1c88cdc6d\">\n",
              "  <button class=\"colab-df-quickchart\" onclick=\"quickchart('df-415fdf87-9c57-44bd-95dd-75b1c88cdc6d')\"\n",
              "            title=\"Suggest charts\"\n",
              "            style=\"display:none;\">\n",
              "\n",
              "<svg xmlns=\"http://www.w3.org/2000/svg\" height=\"24px\"viewBox=\"0 0 24 24\"\n",
              "     width=\"24px\">\n",
              "    <g>\n",
              "        <path d=\"M19 3H5c-1.1 0-2 .9-2 2v14c0 1.1.9 2 2 2h14c1.1 0 2-.9 2-2V5c0-1.1-.9-2-2-2zM9 17H7v-7h2v7zm4 0h-2V7h2v10zm4 0h-2v-4h2v4z\"/>\n",
              "    </g>\n",
              "</svg>\n",
              "  </button>\n",
              "\n",
              "<style>\n",
              "  .colab-df-quickchart {\n",
              "      --bg-color: #E8F0FE;\n",
              "      --fill-color: #1967D2;\n",
              "      --hover-bg-color: #E2EBFA;\n",
              "      --hover-fill-color: #174EA6;\n",
              "      --disabled-fill-color: #AAA;\n",
              "      --disabled-bg-color: #DDD;\n",
              "  }\n",
              "\n",
              "  [theme=dark] .colab-df-quickchart {\n",
              "      --bg-color: #3B4455;\n",
              "      --fill-color: #D2E3FC;\n",
              "      --hover-bg-color: #434B5C;\n",
              "      --hover-fill-color: #FFFFFF;\n",
              "      --disabled-bg-color: #3B4455;\n",
              "      --disabled-fill-color: #666;\n",
              "  }\n",
              "\n",
              "  .colab-df-quickchart {\n",
              "    background-color: var(--bg-color);\n",
              "    border: none;\n",
              "    border-radius: 50%;\n",
              "    cursor: pointer;\n",
              "    display: none;\n",
              "    fill: var(--fill-color);\n",
              "    height: 32px;\n",
              "    padding: 0;\n",
              "    width: 32px;\n",
              "  }\n",
              "\n",
              "  .colab-df-quickchart:hover {\n",
              "    background-color: var(--hover-bg-color);\n",
              "    box-shadow: 0 1px 2px rgba(60, 64, 67, 0.3), 0 1px 3px 1px rgba(60, 64, 67, 0.15);\n",
              "    fill: var(--button-hover-fill-color);\n",
              "  }\n",
              "\n",
              "  .colab-df-quickchart-complete:disabled,\n",
              "  .colab-df-quickchart-complete:disabled:hover {\n",
              "    background-color: var(--disabled-bg-color);\n",
              "    fill: var(--disabled-fill-color);\n",
              "    box-shadow: none;\n",
              "  }\n",
              "\n",
              "  .colab-df-spinner {\n",
              "    border: 2px solid var(--fill-color);\n",
              "    border-color: transparent;\n",
              "    border-bottom-color: var(--fill-color);\n",
              "    animation:\n",
              "      spin 1s steps(1) infinite;\n",
              "  }\n",
              "\n",
              "  @keyframes spin {\n",
              "    0% {\n",
              "      border-color: transparent;\n",
              "      border-bottom-color: var(--fill-color);\n",
              "      border-left-color: var(--fill-color);\n",
              "    }\n",
              "    20% {\n",
              "      border-color: transparent;\n",
              "      border-left-color: var(--fill-color);\n",
              "      border-top-color: var(--fill-color);\n",
              "    }\n",
              "    30% {\n",
              "      border-color: transparent;\n",
              "      border-left-color: var(--fill-color);\n",
              "      border-top-color: var(--fill-color);\n",
              "      border-right-color: var(--fill-color);\n",
              "    }\n",
              "    40% {\n",
              "      border-color: transparent;\n",
              "      border-right-color: var(--fill-color);\n",
              "      border-top-color: var(--fill-color);\n",
              "    }\n",
              "    60% {\n",
              "      border-color: transparent;\n",
              "      border-right-color: var(--fill-color);\n",
              "    }\n",
              "    80% {\n",
              "      border-color: transparent;\n",
              "      border-right-color: var(--fill-color);\n",
              "      border-bottom-color: var(--fill-color);\n",
              "    }\n",
              "    90% {\n",
              "      border-color: transparent;\n",
              "      border-bottom-color: var(--fill-color);\n",
              "    }\n",
              "  }\n",
              "</style>\n",
              "\n",
              "  <script>\n",
              "    async function quickchart(key) {\n",
              "      const quickchartButtonEl =\n",
              "        document.querySelector('#' + key + ' button');\n",
              "      quickchartButtonEl.disabled = true;  // To prevent multiple clicks.\n",
              "      quickchartButtonEl.classList.add('colab-df-spinner');\n",
              "      try {\n",
              "        const charts = await google.colab.kernel.invokeFunction(\n",
              "            'suggestCharts', [key], {});\n",
              "      } catch (error) {\n",
              "        console.error('Error during call to suggestCharts:', error);\n",
              "      }\n",
              "      quickchartButtonEl.classList.remove('colab-df-spinner');\n",
              "      quickchartButtonEl.classList.add('colab-df-quickchart-complete');\n",
              "    }\n",
              "    (() => {\n",
              "      let quickchartButtonEl =\n",
              "        document.querySelector('#df-415fdf87-9c57-44bd-95dd-75b1c88cdc6d button');\n",
              "      quickchartButtonEl.style.display =\n",
              "        google.colab.kernel.accessAllowed ? 'block' : 'none';\n",
              "    })();\n",
              "  </script>\n",
              "</div>\n",
              "\n",
              "    </div>\n",
              "  </div>\n"
            ],
            "application/vnd.google.colaboratory.intrinsic+json": {
              "type": "dataframe",
              "summary": "{\n  \"name\": \"internallyDisplaced[['Hazard Type', 'Name']]\",\n  \"rows\": 10185,\n  \"fields\": [\n    {\n      \"column\": \"Hazard Type\",\n      \"properties\": {\n        \"dtype\": \"category\",\n        \"num_unique_values\": 14,\n        \"samples\": [\n          \"Mass movement\",\n          \"Wet Mass movement\",\n          \"Flood\"\n        ],\n        \"semantic_type\": \"\",\n        \"description\": \"\"\n      }\n    },\n    {\n      \"column\": \"Name\",\n      \"properties\": {\n        \"dtype\": \"category\",\n        \"num_unique_values\": 208,\n        \"samples\": [\n          \"Solomon Islands\",\n          \"Burkina Faso\",\n          \"Guyana\"\n        ],\n        \"semantic_type\": \"\",\n        \"description\": \"\"\n      }\n    }\n  ]\n}"
            }
          },
          "metadata": {},
          "execution_count": 9
        }
      ],
      "source": [
        "internallyDisplaced[['Hazard Type', 'Name']]"
      ]
    },
    {
      "cell_type": "markdown",
      "metadata": {
        "id": "0Q8E-wXBzsdf"
      },
      "source": [
        "You can compare column items against a certain value. Doing so will return `True` or `False` for each item."
      ]
    },
    {
      "cell_type": "code",
      "execution_count": 10,
      "metadata": {
        "id": "NZC1z2BdzgcO",
        "outputId": "a1ef4d17-831f-414c-bfaa-cf50f8c5c178",
        "colab": {
          "base_uri": "https://localhost:8080/",
          "height": 453
        }
      },
      "outputs": [
        {
          "output_type": "execute_result",
          "data": {
            "text/plain": [
              "0         True\n",
              "1         True\n",
              "2         True\n",
              "3        False\n",
              "4        False\n",
              "         ...  \n",
              "10180    False\n",
              "10181    False\n",
              "10182     True\n",
              "10183     True\n",
              "10184    False\n",
              "Name: Hazard Type, Length: 10185, dtype: bool"
            ],
            "text/html": [
              "<div>\n",
              "<style scoped>\n",
              "    .dataframe tbody tr th:only-of-type {\n",
              "        vertical-align: middle;\n",
              "    }\n",
              "\n",
              "    .dataframe tbody tr th {\n",
              "        vertical-align: top;\n",
              "    }\n",
              "\n",
              "    .dataframe thead th {\n",
              "        text-align: right;\n",
              "    }\n",
              "</style>\n",
              "<table border=\"1\" class=\"dataframe\">\n",
              "  <thead>\n",
              "    <tr style=\"text-align: right;\">\n",
              "      <th></th>\n",
              "      <th>Hazard Type</th>\n",
              "    </tr>\n",
              "  </thead>\n",
              "  <tbody>\n",
              "    <tr>\n",
              "      <th>0</th>\n",
              "      <td>True</td>\n",
              "    </tr>\n",
              "    <tr>\n",
              "      <th>1</th>\n",
              "      <td>True</td>\n",
              "    </tr>\n",
              "    <tr>\n",
              "      <th>2</th>\n",
              "      <td>True</td>\n",
              "    </tr>\n",
              "    <tr>\n",
              "      <th>3</th>\n",
              "      <td>False</td>\n",
              "    </tr>\n",
              "    <tr>\n",
              "      <th>4</th>\n",
              "      <td>False</td>\n",
              "    </tr>\n",
              "    <tr>\n",
              "      <th>...</th>\n",
              "      <td>...</td>\n",
              "    </tr>\n",
              "    <tr>\n",
              "      <th>10180</th>\n",
              "      <td>False</td>\n",
              "    </tr>\n",
              "    <tr>\n",
              "      <th>10181</th>\n",
              "      <td>False</td>\n",
              "    </tr>\n",
              "    <tr>\n",
              "      <th>10182</th>\n",
              "      <td>True</td>\n",
              "    </tr>\n",
              "    <tr>\n",
              "      <th>10183</th>\n",
              "      <td>True</td>\n",
              "    </tr>\n",
              "    <tr>\n",
              "      <th>10184</th>\n",
              "      <td>False</td>\n",
              "    </tr>\n",
              "  </tbody>\n",
              "</table>\n",
              "<p>10185 rows × 1 columns</p>\n",
              "</div><br><label><b>dtype:</b> bool</label>"
            ]
          },
          "metadata": {},
          "execution_count": 10
        }
      ],
      "source": [
        "internallyDisplaced['Hazard Type'] == 'Flood'"
      ]
    },
    {
      "cell_type": "markdown",
      "metadata": {
        "id": "yIXDMRNG0MdH"
      },
      "source": [
        "You can use such comparison to select specific rows in a dataframe (i.e., those that meet the stated condition)."
      ]
    },
    {
      "cell_type": "code",
      "execution_count": 11,
      "metadata": {
        "id": "Oxyhaqif0ZD6",
        "outputId": "c4f94297-0e91-4d72-9a2e-35cc15a63afd",
        "colab": {
          "base_uri": "https://localhost:8080/",
          "height": 419
        }
      },
      "outputs": [
        {
          "output_type": "execute_result",
          "data": {
            "text/plain": [
              "      ISO3         Name  Year  Start Date  \\\n",
              "0      AB9   Abyei Area  2018  01/07/2018   \n",
              "1      AB9   Abyei Area  2019  01/06/2019   \n",
              "2      AFG  Afghanistan  2008  01/08/2008   \n",
              "7      AFG  Afghanistan  2009  01/01/2009   \n",
              "8      AFG  Afghanistan  2009  01/01/2009   \n",
              "...    ...          ...   ...         ...   \n",
              "10169  ZWE     Zimbabwe  2016  14/12/2016   \n",
              "10173  ZWE     Zimbabwe  2017  01/01/2017   \n",
              "10178  ZWE     Zimbabwe  2019  13/02/2019   \n",
              "10182  ZWE     Zimbabwe  2020  11/02/2020   \n",
              "10183  ZWE     Zimbabwe  2020  17/01/2020   \n",
              "\n",
              "                                              Event Name  Hazard Category  \\\n",
              "0                              Abyie: Flood - 01/07/2018  Weather related   \n",
              "1             Abyei: Flood - southern parts - 01/06/2019  Weather related   \n",
              "2                                                    NaN  Weather related   \n",
              "7                                                    NaN  Weather related   \n",
              "8                                                    NaN  Weather related   \n",
              "...                                                  ...              ...   \n",
              "10169              Floods in Matabeleland North Province  Weather related   \n",
              "10173              Zimbabwe: Rainy season - January 2017  Weather related   \n",
              "10178  Zimbabwe: Floods- Chiredzi (Masvingo)- 13/02/2019  Weather related   \n",
              "10182  Zimbabwe: Flash flooding- Matabeleland North (...  Weather related   \n",
              "10183  Zimbabwe: Flash flooding- Matabeleland North (...  Weather related   \n",
              "\n",
              "      Hazard Type  New Displacements  \n",
              "0           Flood                2.0  \n",
              "1           Flood            40000.0  \n",
              "2           Flood              180.0  \n",
              "7           Flood                NaN  \n",
              "8           Flood            25185.0  \n",
              "...           ...                ...  \n",
              "10169       Flood              400.0  \n",
              "10173       Flood             8485.0  \n",
              "10178       Flood              200.0  \n",
              "10182       Flood              148.0  \n",
              "10183       Flood               35.0  \n",
              "\n",
              "[4737 rows x 8 columns]"
            ],
            "text/html": [
              "\n",
              "  <div id=\"df-a1b51153-2cdd-4320-8136-19363a6f5b98\" class=\"colab-df-container\">\n",
              "    <div>\n",
              "<style scoped>\n",
              "    .dataframe tbody tr th:only-of-type {\n",
              "        vertical-align: middle;\n",
              "    }\n",
              "\n",
              "    .dataframe tbody tr th {\n",
              "        vertical-align: top;\n",
              "    }\n",
              "\n",
              "    .dataframe thead th {\n",
              "        text-align: right;\n",
              "    }\n",
              "</style>\n",
              "<table border=\"1\" class=\"dataframe\">\n",
              "  <thead>\n",
              "    <tr style=\"text-align: right;\">\n",
              "      <th></th>\n",
              "      <th>ISO3</th>\n",
              "      <th>Name</th>\n",
              "      <th>Year</th>\n",
              "      <th>Start Date</th>\n",
              "      <th>Event Name</th>\n",
              "      <th>Hazard Category</th>\n",
              "      <th>Hazard Type</th>\n",
              "      <th>New Displacements</th>\n",
              "    </tr>\n",
              "  </thead>\n",
              "  <tbody>\n",
              "    <tr>\n",
              "      <th>0</th>\n",
              "      <td>AB9</td>\n",
              "      <td>Abyei Area</td>\n",
              "      <td>2018</td>\n",
              "      <td>01/07/2018</td>\n",
              "      <td>Abyie: Flood - 01/07/2018</td>\n",
              "      <td>Weather related</td>\n",
              "      <td>Flood</td>\n",
              "      <td>2.0</td>\n",
              "    </tr>\n",
              "    <tr>\n",
              "      <th>1</th>\n",
              "      <td>AB9</td>\n",
              "      <td>Abyei Area</td>\n",
              "      <td>2019</td>\n",
              "      <td>01/06/2019</td>\n",
              "      <td>Abyei: Flood - southern parts - 01/06/2019</td>\n",
              "      <td>Weather related</td>\n",
              "      <td>Flood</td>\n",
              "      <td>40000.0</td>\n",
              "    </tr>\n",
              "    <tr>\n",
              "      <th>2</th>\n",
              "      <td>AFG</td>\n",
              "      <td>Afghanistan</td>\n",
              "      <td>2008</td>\n",
              "      <td>01/08/2008</td>\n",
              "      <td>NaN</td>\n",
              "      <td>Weather related</td>\n",
              "      <td>Flood</td>\n",
              "      <td>180.0</td>\n",
              "    </tr>\n",
              "    <tr>\n",
              "      <th>7</th>\n",
              "      <td>AFG</td>\n",
              "      <td>Afghanistan</td>\n",
              "      <td>2009</td>\n",
              "      <td>01/01/2009</td>\n",
              "      <td>NaN</td>\n",
              "      <td>Weather related</td>\n",
              "      <td>Flood</td>\n",
              "      <td>NaN</td>\n",
              "    </tr>\n",
              "    <tr>\n",
              "      <th>8</th>\n",
              "      <td>AFG</td>\n",
              "      <td>Afghanistan</td>\n",
              "      <td>2009</td>\n",
              "      <td>01/01/2009</td>\n",
              "      <td>NaN</td>\n",
              "      <td>Weather related</td>\n",
              "      <td>Flood</td>\n",
              "      <td>25185.0</td>\n",
              "    </tr>\n",
              "    <tr>\n",
              "      <th>...</th>\n",
              "      <td>...</td>\n",
              "      <td>...</td>\n",
              "      <td>...</td>\n",
              "      <td>...</td>\n",
              "      <td>...</td>\n",
              "      <td>...</td>\n",
              "      <td>...</td>\n",
              "      <td>...</td>\n",
              "    </tr>\n",
              "    <tr>\n",
              "      <th>10169</th>\n",
              "      <td>ZWE</td>\n",
              "      <td>Zimbabwe</td>\n",
              "      <td>2016</td>\n",
              "      <td>14/12/2016</td>\n",
              "      <td>Floods in Matabeleland North Province</td>\n",
              "      <td>Weather related</td>\n",
              "      <td>Flood</td>\n",
              "      <td>400.0</td>\n",
              "    </tr>\n",
              "    <tr>\n",
              "      <th>10173</th>\n",
              "      <td>ZWE</td>\n",
              "      <td>Zimbabwe</td>\n",
              "      <td>2017</td>\n",
              "      <td>01/01/2017</td>\n",
              "      <td>Zimbabwe: Rainy season - January 2017</td>\n",
              "      <td>Weather related</td>\n",
              "      <td>Flood</td>\n",
              "      <td>8485.0</td>\n",
              "    </tr>\n",
              "    <tr>\n",
              "      <th>10178</th>\n",
              "      <td>ZWE</td>\n",
              "      <td>Zimbabwe</td>\n",
              "      <td>2019</td>\n",
              "      <td>13/02/2019</td>\n",
              "      <td>Zimbabwe: Floods- Chiredzi (Masvingo)- 13/02/2019</td>\n",
              "      <td>Weather related</td>\n",
              "      <td>Flood</td>\n",
              "      <td>200.0</td>\n",
              "    </tr>\n",
              "    <tr>\n",
              "      <th>10182</th>\n",
              "      <td>ZWE</td>\n",
              "      <td>Zimbabwe</td>\n",
              "      <td>2020</td>\n",
              "      <td>11/02/2020</td>\n",
              "      <td>Zimbabwe: Flash flooding- Matabeleland North (...</td>\n",
              "      <td>Weather related</td>\n",
              "      <td>Flood</td>\n",
              "      <td>148.0</td>\n",
              "    </tr>\n",
              "    <tr>\n",
              "      <th>10183</th>\n",
              "      <td>ZWE</td>\n",
              "      <td>Zimbabwe</td>\n",
              "      <td>2020</td>\n",
              "      <td>17/01/2020</td>\n",
              "      <td>Zimbabwe: Flash flooding- Matabeleland North (...</td>\n",
              "      <td>Weather related</td>\n",
              "      <td>Flood</td>\n",
              "      <td>35.0</td>\n",
              "    </tr>\n",
              "  </tbody>\n",
              "</table>\n",
              "<p>4737 rows × 8 columns</p>\n",
              "</div>\n",
              "    <div class=\"colab-df-buttons\">\n",
              "\n",
              "  <div class=\"colab-df-container\">\n",
              "    <button class=\"colab-df-convert\" onclick=\"convertToInteractive('df-a1b51153-2cdd-4320-8136-19363a6f5b98')\"\n",
              "            title=\"Convert this dataframe to an interactive table.\"\n",
              "            style=\"display:none;\">\n",
              "\n",
              "  <svg xmlns=\"http://www.w3.org/2000/svg\" height=\"24px\" viewBox=\"0 -960 960 960\">\n",
              "    <path d=\"M120-120v-720h720v720H120Zm60-500h600v-160H180v160Zm220 220h160v-160H400v160Zm0 220h160v-160H400v160ZM180-400h160v-160H180v160Zm440 0h160v-160H620v160ZM180-180h160v-160H180v160Zm440 0h160v-160H620v160Z\"/>\n",
              "  </svg>\n",
              "    </button>\n",
              "\n",
              "  <style>\n",
              "    .colab-df-container {\n",
              "      display:flex;\n",
              "      gap: 12px;\n",
              "    }\n",
              "\n",
              "    .colab-df-convert {\n",
              "      background-color: #E8F0FE;\n",
              "      border: none;\n",
              "      border-radius: 50%;\n",
              "      cursor: pointer;\n",
              "      display: none;\n",
              "      fill: #1967D2;\n",
              "      height: 32px;\n",
              "      padding: 0 0 0 0;\n",
              "      width: 32px;\n",
              "    }\n",
              "\n",
              "    .colab-df-convert:hover {\n",
              "      background-color: #E2EBFA;\n",
              "      box-shadow: 0px 1px 2px rgba(60, 64, 67, 0.3), 0px 1px 3px 1px rgba(60, 64, 67, 0.15);\n",
              "      fill: #174EA6;\n",
              "    }\n",
              "\n",
              "    .colab-df-buttons div {\n",
              "      margin-bottom: 4px;\n",
              "    }\n",
              "\n",
              "    [theme=dark] .colab-df-convert {\n",
              "      background-color: #3B4455;\n",
              "      fill: #D2E3FC;\n",
              "    }\n",
              "\n",
              "    [theme=dark] .colab-df-convert:hover {\n",
              "      background-color: #434B5C;\n",
              "      box-shadow: 0px 1px 3px 1px rgba(0, 0, 0, 0.15);\n",
              "      filter: drop-shadow(0px 1px 2px rgba(0, 0, 0, 0.3));\n",
              "      fill: #FFFFFF;\n",
              "    }\n",
              "  </style>\n",
              "\n",
              "    <script>\n",
              "      const buttonEl =\n",
              "        document.querySelector('#df-a1b51153-2cdd-4320-8136-19363a6f5b98 button.colab-df-convert');\n",
              "      buttonEl.style.display =\n",
              "        google.colab.kernel.accessAllowed ? 'block' : 'none';\n",
              "\n",
              "      async function convertToInteractive(key) {\n",
              "        const element = document.querySelector('#df-a1b51153-2cdd-4320-8136-19363a6f5b98');\n",
              "        const dataTable =\n",
              "          await google.colab.kernel.invokeFunction('convertToInteractive',\n",
              "                                                    [key], {});\n",
              "        if (!dataTable) return;\n",
              "\n",
              "        const docLinkHtml = 'Like what you see? Visit the ' +\n",
              "          '<a target=\"_blank\" href=https://colab.research.google.com/notebooks/data_table.ipynb>data table notebook</a>'\n",
              "          + ' to learn more about interactive tables.';\n",
              "        element.innerHTML = '';\n",
              "        dataTable['output_type'] = 'display_data';\n",
              "        await google.colab.output.renderOutput(dataTable, element);\n",
              "        const docLink = document.createElement('div');\n",
              "        docLink.innerHTML = docLinkHtml;\n",
              "        element.appendChild(docLink);\n",
              "      }\n",
              "    </script>\n",
              "  </div>\n",
              "\n",
              "\n",
              "<div id=\"df-1377747d-3874-48d3-b951-798fc0c7248b\">\n",
              "  <button class=\"colab-df-quickchart\" onclick=\"quickchart('df-1377747d-3874-48d3-b951-798fc0c7248b')\"\n",
              "            title=\"Suggest charts\"\n",
              "            style=\"display:none;\">\n",
              "\n",
              "<svg xmlns=\"http://www.w3.org/2000/svg\" height=\"24px\"viewBox=\"0 0 24 24\"\n",
              "     width=\"24px\">\n",
              "    <g>\n",
              "        <path d=\"M19 3H5c-1.1 0-2 .9-2 2v14c0 1.1.9 2 2 2h14c1.1 0 2-.9 2-2V5c0-1.1-.9-2-2-2zM9 17H7v-7h2v7zm4 0h-2V7h2v10zm4 0h-2v-4h2v4z\"/>\n",
              "    </g>\n",
              "</svg>\n",
              "  </button>\n",
              "\n",
              "<style>\n",
              "  .colab-df-quickchart {\n",
              "      --bg-color: #E8F0FE;\n",
              "      --fill-color: #1967D2;\n",
              "      --hover-bg-color: #E2EBFA;\n",
              "      --hover-fill-color: #174EA6;\n",
              "      --disabled-fill-color: #AAA;\n",
              "      --disabled-bg-color: #DDD;\n",
              "  }\n",
              "\n",
              "  [theme=dark] .colab-df-quickchart {\n",
              "      --bg-color: #3B4455;\n",
              "      --fill-color: #D2E3FC;\n",
              "      --hover-bg-color: #434B5C;\n",
              "      --hover-fill-color: #FFFFFF;\n",
              "      --disabled-bg-color: #3B4455;\n",
              "      --disabled-fill-color: #666;\n",
              "  }\n",
              "\n",
              "  .colab-df-quickchart {\n",
              "    background-color: var(--bg-color);\n",
              "    border: none;\n",
              "    border-radius: 50%;\n",
              "    cursor: pointer;\n",
              "    display: none;\n",
              "    fill: var(--fill-color);\n",
              "    height: 32px;\n",
              "    padding: 0;\n",
              "    width: 32px;\n",
              "  }\n",
              "\n",
              "  .colab-df-quickchart:hover {\n",
              "    background-color: var(--hover-bg-color);\n",
              "    box-shadow: 0 1px 2px rgba(60, 64, 67, 0.3), 0 1px 3px 1px rgba(60, 64, 67, 0.15);\n",
              "    fill: var(--button-hover-fill-color);\n",
              "  }\n",
              "\n",
              "  .colab-df-quickchart-complete:disabled,\n",
              "  .colab-df-quickchart-complete:disabled:hover {\n",
              "    background-color: var(--disabled-bg-color);\n",
              "    fill: var(--disabled-fill-color);\n",
              "    box-shadow: none;\n",
              "  }\n",
              "\n",
              "  .colab-df-spinner {\n",
              "    border: 2px solid var(--fill-color);\n",
              "    border-color: transparent;\n",
              "    border-bottom-color: var(--fill-color);\n",
              "    animation:\n",
              "      spin 1s steps(1) infinite;\n",
              "  }\n",
              "\n",
              "  @keyframes spin {\n",
              "    0% {\n",
              "      border-color: transparent;\n",
              "      border-bottom-color: var(--fill-color);\n",
              "      border-left-color: var(--fill-color);\n",
              "    }\n",
              "    20% {\n",
              "      border-color: transparent;\n",
              "      border-left-color: var(--fill-color);\n",
              "      border-top-color: var(--fill-color);\n",
              "    }\n",
              "    30% {\n",
              "      border-color: transparent;\n",
              "      border-left-color: var(--fill-color);\n",
              "      border-top-color: var(--fill-color);\n",
              "      border-right-color: var(--fill-color);\n",
              "    }\n",
              "    40% {\n",
              "      border-color: transparent;\n",
              "      border-right-color: var(--fill-color);\n",
              "      border-top-color: var(--fill-color);\n",
              "    }\n",
              "    60% {\n",
              "      border-color: transparent;\n",
              "      border-right-color: var(--fill-color);\n",
              "    }\n",
              "    80% {\n",
              "      border-color: transparent;\n",
              "      border-right-color: var(--fill-color);\n",
              "      border-bottom-color: var(--fill-color);\n",
              "    }\n",
              "    90% {\n",
              "      border-color: transparent;\n",
              "      border-bottom-color: var(--fill-color);\n",
              "    }\n",
              "  }\n",
              "</style>\n",
              "\n",
              "  <script>\n",
              "    async function quickchart(key) {\n",
              "      const quickchartButtonEl =\n",
              "        document.querySelector('#' + key + ' button');\n",
              "      quickchartButtonEl.disabled = true;  // To prevent multiple clicks.\n",
              "      quickchartButtonEl.classList.add('colab-df-spinner');\n",
              "      try {\n",
              "        const charts = await google.colab.kernel.invokeFunction(\n",
              "            'suggestCharts', [key], {});\n",
              "      } catch (error) {\n",
              "        console.error('Error during call to suggestCharts:', error);\n",
              "      }\n",
              "      quickchartButtonEl.classList.remove('colab-df-spinner');\n",
              "      quickchartButtonEl.classList.add('colab-df-quickchart-complete');\n",
              "    }\n",
              "    (() => {\n",
              "      let quickchartButtonEl =\n",
              "        document.querySelector('#df-1377747d-3874-48d3-b951-798fc0c7248b button');\n",
              "      quickchartButtonEl.style.display =\n",
              "        google.colab.kernel.accessAllowed ? 'block' : 'none';\n",
              "    })();\n",
              "  </script>\n",
              "</div>\n",
              "\n",
              "    </div>\n",
              "  </div>\n"
            ],
            "application/vnd.google.colaboratory.intrinsic+json": {
              "type": "dataframe",
              "summary": "{\n  \"name\": \"internallyDisplaced[internallyDisplaced['Hazard Type'] == 'Flood']\",\n  \"rows\": 4737,\n  \"fields\": [\n    {\n      \"column\": \"ISO3\",\n      \"properties\": {\n        \"dtype\": \"category\",\n        \"num_unique_values\": 173,\n        \"samples\": [\n          \"UZB\",\n          \"ECU\",\n          \"LKA\"\n        ],\n        \"semantic_type\": \"\",\n        \"description\": \"\"\n      }\n    },\n    {\n      \"column\": \"Name\",\n      \"properties\": {\n        \"dtype\": \"category\",\n        \"num_unique_values\": 176,\n        \"samples\": [\n          \"Brunei Darussalam\",\n          \"Spain\",\n          \"Sierra Leone\"\n        ],\n        \"semantic_type\": \"\",\n        \"description\": \"\"\n      }\n    },\n    {\n      \"column\": \"Year\",\n      \"properties\": {\n        \"dtype\": \"number\",\n        \"std\": 3,\n        \"min\": 2008,\n        \"max\": 2020,\n        \"num_unique_values\": 13,\n        \"samples\": [\n          2017,\n          2015,\n          2018\n        ],\n        \"semantic_type\": \"\",\n        \"description\": \"\"\n      }\n    },\n    {\n      \"column\": \"Start Date\",\n      \"properties\": {\n        \"dtype\": \"category\",\n        \"num_unique_values\": 2000,\n        \"samples\": [\n          \"17/02/2018\",\n          \"24/08/2020\",\n          \"18/10/2020\"\n        ],\n        \"semantic_type\": \"\",\n        \"description\": \"\"\n      }\n    },\n    {\n      \"column\": \"Event Name\",\n      \"properties\": {\n        \"dtype\": \"string\",\n        \"num_unique_values\": 3967,\n        \"samples\": [\n          \"Flash Flood - Kalamansig\",\n          \"Iran: flood - 6 provinces - 25/02/2018\",\n          \"Burundi: Flash floods - Bubanza; Bujumbura Mairie; Bujumbura Rural; Cankuzo; Cibitoke; Gitega; Karuzi; Kayanza; Makamba; Muramvya; Muyinga; Mwaro; Ngozi; Rumonge; Rutana; Ruyigi - April 2018\"\n        ],\n        \"semantic_type\": \"\",\n        \"description\": \"\"\n      }\n    },\n    {\n      \"column\": \"Hazard Category\",\n      \"properties\": {\n        \"dtype\": \"category\",\n        \"num_unique_values\": 1,\n        \"samples\": [\n          \"Weather related\"\n        ],\n        \"semantic_type\": \"\",\n        \"description\": \"\"\n      }\n    },\n    {\n      \"column\": \"Hazard Type\",\n      \"properties\": {\n        \"dtype\": \"category\",\n        \"num_unique_values\": 1,\n        \"samples\": [\n          \"Flood\"\n        ],\n        \"semantic_type\": \"\",\n        \"description\": \"\"\n      }\n    },\n    {\n      \"column\": \"New Displacements\",\n      \"properties\": {\n        \"dtype\": \"number\",\n        \"std\": 345937.82787249796,\n        \"min\": 1.0,\n        \"max\": 15200000.0,\n        \"num_unique_values\": 1828,\n        \"samples\": [\n          10000.0\n        ],\n        \"semantic_type\": \"\",\n        \"description\": \"\"\n      }\n    }\n  ]\n}"
            }
          },
          "metadata": {},
          "execution_count": 11
        }
      ],
      "source": [
        "internallyDisplaced[internallyDisplaced['Hazard Type'] == 'Flood']"
      ]
    },
    {
      "cell_type": "markdown",
      "metadata": {
        "id": "ZbLwozfN0hpM"
      },
      "source": [
        "You can also combine different conditions."
      ]
    },
    {
      "cell_type": "code",
      "execution_count": null,
      "metadata": {
        "id": "-A1ns-Ii0k9G"
      },
      "outputs": [],
      "source": [
        "internallyDisplaced[(internallyDisplaced['Hazard Type'] == 'Flood')| (internallyDisplaced['Hazard Type'] == 'Storm')]"
      ]
    },
    {
      "cell_type": "markdown",
      "metadata": {
        "id": "e91M4B7D03JH"
      },
      "source": [
        "Note remember the () inside or the code will throw an error."
      ]
    },
    {
      "cell_type": "markdown",
      "metadata": {
        "id": "vbLmJKu51DX7"
      },
      "source": [
        "You can use the following operators to combine conditions:\n",
        "\n",
        "\n",
        "*   & to AND\n",
        "*   | to OR\n",
        "*   ~ to NEGATE"
      ]
    },
    {
      "cell_type": "code",
      "execution_count": 12,
      "metadata": {
        "id": "cvChO0I51hzD",
        "outputId": "a6aad85f-b0f5-4e96-e6aa-6e30170fe328",
        "colab": {
          "base_uri": "https://localhost:8080/",
          "height": 390
        }
      },
      "outputs": [
        {
          "output_type": "execute_result",
          "data": {
            "text/plain": [
              "      ISO3      Name  Year  Start Date  \\\n",
              "10150  ZWE  Zimbabwe  2010  01/01/2010   \n",
              "10151  ZWE  Zimbabwe  2011  01/01/2011   \n",
              "10152  ZWE  Zimbabwe  2013  17/01/2013   \n",
              "10153  ZWE  Zimbabwe  2014  01/02/2014   \n",
              "10154  ZWE  Zimbabwe  2014  17/12/2014   \n",
              "10165  ZWE  Zimbabwe  2014  01/12/2014   \n",
              "10169  ZWE  Zimbabwe  2016  14/12/2016   \n",
              "10173  ZWE  Zimbabwe  2017  01/01/2017   \n",
              "10178  ZWE  Zimbabwe  2019  13/02/2019   \n",
              "10182  ZWE  Zimbabwe  2020  11/02/2020   \n",
              "10183  ZWE  Zimbabwe  2020  17/01/2020   \n",
              "\n",
              "                                              Event Name  Hazard Category  \\\n",
              "10150                                                NaN  Weather related   \n",
              "10151                                                NaN  Weather related   \n",
              "10152                          Zimbabwe January Flooding  Weather related   \n",
              "10153                            Tokwe Mukorsi Dam flood  Weather related   \n",
              "10154                                      Mutare floods  Weather related   \n",
              "10165                                       Mutare flood  Weather related   \n",
              "10169              Floods in Matabeleland North Province  Weather related   \n",
              "10173              Zimbabwe: Rainy season - January 2017  Weather related   \n",
              "10178  Zimbabwe: Floods- Chiredzi (Masvingo)- 13/02/2019  Weather related   \n",
              "10182  Zimbabwe: Flash flooding- Matabeleland North (...  Weather related   \n",
              "10183  Zimbabwe: Flash flooding- Matabeleland North (...  Weather related   \n",
              "\n",
              "      Hazard Type  New Displacements  \n",
              "10150       Flood                NaN  \n",
              "10151       Flood                NaN  \n",
              "10152       Flood            43809.0  \n",
              "10153       Flood            20000.0  \n",
              "10154       Flood               90.0  \n",
              "10165       Flood                8.0  \n",
              "10169       Flood              400.0  \n",
              "10173       Flood             8485.0  \n",
              "10178       Flood              200.0  \n",
              "10182       Flood              148.0  \n",
              "10183       Flood               35.0  "
            ],
            "text/html": [
              "\n",
              "  <div id=\"df-4013d4f7-80a4-4e4a-b23f-d2cddfe6a790\" class=\"colab-df-container\">\n",
              "    <div>\n",
              "<style scoped>\n",
              "    .dataframe tbody tr th:only-of-type {\n",
              "        vertical-align: middle;\n",
              "    }\n",
              "\n",
              "    .dataframe tbody tr th {\n",
              "        vertical-align: top;\n",
              "    }\n",
              "\n",
              "    .dataframe thead th {\n",
              "        text-align: right;\n",
              "    }\n",
              "</style>\n",
              "<table border=\"1\" class=\"dataframe\">\n",
              "  <thead>\n",
              "    <tr style=\"text-align: right;\">\n",
              "      <th></th>\n",
              "      <th>ISO3</th>\n",
              "      <th>Name</th>\n",
              "      <th>Year</th>\n",
              "      <th>Start Date</th>\n",
              "      <th>Event Name</th>\n",
              "      <th>Hazard Category</th>\n",
              "      <th>Hazard Type</th>\n",
              "      <th>New Displacements</th>\n",
              "    </tr>\n",
              "  </thead>\n",
              "  <tbody>\n",
              "    <tr>\n",
              "      <th>10150</th>\n",
              "      <td>ZWE</td>\n",
              "      <td>Zimbabwe</td>\n",
              "      <td>2010</td>\n",
              "      <td>01/01/2010</td>\n",
              "      <td>NaN</td>\n",
              "      <td>Weather related</td>\n",
              "      <td>Flood</td>\n",
              "      <td>NaN</td>\n",
              "    </tr>\n",
              "    <tr>\n",
              "      <th>10151</th>\n",
              "      <td>ZWE</td>\n",
              "      <td>Zimbabwe</td>\n",
              "      <td>2011</td>\n",
              "      <td>01/01/2011</td>\n",
              "      <td>NaN</td>\n",
              "      <td>Weather related</td>\n",
              "      <td>Flood</td>\n",
              "      <td>NaN</td>\n",
              "    </tr>\n",
              "    <tr>\n",
              "      <th>10152</th>\n",
              "      <td>ZWE</td>\n",
              "      <td>Zimbabwe</td>\n",
              "      <td>2013</td>\n",
              "      <td>17/01/2013</td>\n",
              "      <td>Zimbabwe January Flooding</td>\n",
              "      <td>Weather related</td>\n",
              "      <td>Flood</td>\n",
              "      <td>43809.0</td>\n",
              "    </tr>\n",
              "    <tr>\n",
              "      <th>10153</th>\n",
              "      <td>ZWE</td>\n",
              "      <td>Zimbabwe</td>\n",
              "      <td>2014</td>\n",
              "      <td>01/02/2014</td>\n",
              "      <td>Tokwe Mukorsi Dam flood</td>\n",
              "      <td>Weather related</td>\n",
              "      <td>Flood</td>\n",
              "      <td>20000.0</td>\n",
              "    </tr>\n",
              "    <tr>\n",
              "      <th>10154</th>\n",
              "      <td>ZWE</td>\n",
              "      <td>Zimbabwe</td>\n",
              "      <td>2014</td>\n",
              "      <td>17/12/2014</td>\n",
              "      <td>Mutare floods</td>\n",
              "      <td>Weather related</td>\n",
              "      <td>Flood</td>\n",
              "      <td>90.0</td>\n",
              "    </tr>\n",
              "    <tr>\n",
              "      <th>10165</th>\n",
              "      <td>ZWE</td>\n",
              "      <td>Zimbabwe</td>\n",
              "      <td>2014</td>\n",
              "      <td>01/12/2014</td>\n",
              "      <td>Mutare flood</td>\n",
              "      <td>Weather related</td>\n",
              "      <td>Flood</td>\n",
              "      <td>8.0</td>\n",
              "    </tr>\n",
              "    <tr>\n",
              "      <th>10169</th>\n",
              "      <td>ZWE</td>\n",
              "      <td>Zimbabwe</td>\n",
              "      <td>2016</td>\n",
              "      <td>14/12/2016</td>\n",
              "      <td>Floods in Matabeleland North Province</td>\n",
              "      <td>Weather related</td>\n",
              "      <td>Flood</td>\n",
              "      <td>400.0</td>\n",
              "    </tr>\n",
              "    <tr>\n",
              "      <th>10173</th>\n",
              "      <td>ZWE</td>\n",
              "      <td>Zimbabwe</td>\n",
              "      <td>2017</td>\n",
              "      <td>01/01/2017</td>\n",
              "      <td>Zimbabwe: Rainy season - January 2017</td>\n",
              "      <td>Weather related</td>\n",
              "      <td>Flood</td>\n",
              "      <td>8485.0</td>\n",
              "    </tr>\n",
              "    <tr>\n",
              "      <th>10178</th>\n",
              "      <td>ZWE</td>\n",
              "      <td>Zimbabwe</td>\n",
              "      <td>2019</td>\n",
              "      <td>13/02/2019</td>\n",
              "      <td>Zimbabwe: Floods- Chiredzi (Masvingo)- 13/02/2019</td>\n",
              "      <td>Weather related</td>\n",
              "      <td>Flood</td>\n",
              "      <td>200.0</td>\n",
              "    </tr>\n",
              "    <tr>\n",
              "      <th>10182</th>\n",
              "      <td>ZWE</td>\n",
              "      <td>Zimbabwe</td>\n",
              "      <td>2020</td>\n",
              "      <td>11/02/2020</td>\n",
              "      <td>Zimbabwe: Flash flooding- Matabeleland North (...</td>\n",
              "      <td>Weather related</td>\n",
              "      <td>Flood</td>\n",
              "      <td>148.0</td>\n",
              "    </tr>\n",
              "    <tr>\n",
              "      <th>10183</th>\n",
              "      <td>ZWE</td>\n",
              "      <td>Zimbabwe</td>\n",
              "      <td>2020</td>\n",
              "      <td>17/01/2020</td>\n",
              "      <td>Zimbabwe: Flash flooding- Matabeleland North (...</td>\n",
              "      <td>Weather related</td>\n",
              "      <td>Flood</td>\n",
              "      <td>35.0</td>\n",
              "    </tr>\n",
              "  </tbody>\n",
              "</table>\n",
              "</div>\n",
              "    <div class=\"colab-df-buttons\">\n",
              "\n",
              "  <div class=\"colab-df-container\">\n",
              "    <button class=\"colab-df-convert\" onclick=\"convertToInteractive('df-4013d4f7-80a4-4e4a-b23f-d2cddfe6a790')\"\n",
              "            title=\"Convert this dataframe to an interactive table.\"\n",
              "            style=\"display:none;\">\n",
              "\n",
              "  <svg xmlns=\"http://www.w3.org/2000/svg\" height=\"24px\" viewBox=\"0 -960 960 960\">\n",
              "    <path d=\"M120-120v-720h720v720H120Zm60-500h600v-160H180v160Zm220 220h160v-160H400v160Zm0 220h160v-160H400v160ZM180-400h160v-160H180v160Zm440 0h160v-160H620v160ZM180-180h160v-160H180v160Zm440 0h160v-160H620v160Z\"/>\n",
              "  </svg>\n",
              "    </button>\n",
              "\n",
              "  <style>\n",
              "    .colab-df-container {\n",
              "      display:flex;\n",
              "      gap: 12px;\n",
              "    }\n",
              "\n",
              "    .colab-df-convert {\n",
              "      background-color: #E8F0FE;\n",
              "      border: none;\n",
              "      border-radius: 50%;\n",
              "      cursor: pointer;\n",
              "      display: none;\n",
              "      fill: #1967D2;\n",
              "      height: 32px;\n",
              "      padding: 0 0 0 0;\n",
              "      width: 32px;\n",
              "    }\n",
              "\n",
              "    .colab-df-convert:hover {\n",
              "      background-color: #E2EBFA;\n",
              "      box-shadow: 0px 1px 2px rgba(60, 64, 67, 0.3), 0px 1px 3px 1px rgba(60, 64, 67, 0.15);\n",
              "      fill: #174EA6;\n",
              "    }\n",
              "\n",
              "    .colab-df-buttons div {\n",
              "      margin-bottom: 4px;\n",
              "    }\n",
              "\n",
              "    [theme=dark] .colab-df-convert {\n",
              "      background-color: #3B4455;\n",
              "      fill: #D2E3FC;\n",
              "    }\n",
              "\n",
              "    [theme=dark] .colab-df-convert:hover {\n",
              "      background-color: #434B5C;\n",
              "      box-shadow: 0px 1px 3px 1px rgba(0, 0, 0, 0.15);\n",
              "      filter: drop-shadow(0px 1px 2px rgba(0, 0, 0, 0.3));\n",
              "      fill: #FFFFFF;\n",
              "    }\n",
              "  </style>\n",
              "\n",
              "    <script>\n",
              "      const buttonEl =\n",
              "        document.querySelector('#df-4013d4f7-80a4-4e4a-b23f-d2cddfe6a790 button.colab-df-convert');\n",
              "      buttonEl.style.display =\n",
              "        google.colab.kernel.accessAllowed ? 'block' : 'none';\n",
              "\n",
              "      async function convertToInteractive(key) {\n",
              "        const element = document.querySelector('#df-4013d4f7-80a4-4e4a-b23f-d2cddfe6a790');\n",
              "        const dataTable =\n",
              "          await google.colab.kernel.invokeFunction('convertToInteractive',\n",
              "                                                    [key], {});\n",
              "        if (!dataTable) return;\n",
              "\n",
              "        const docLinkHtml = 'Like what you see? Visit the ' +\n",
              "          '<a target=\"_blank\" href=https://colab.research.google.com/notebooks/data_table.ipynb>data table notebook</a>'\n",
              "          + ' to learn more about interactive tables.';\n",
              "        element.innerHTML = '';\n",
              "        dataTable['output_type'] = 'display_data';\n",
              "        await google.colab.output.renderOutput(dataTable, element);\n",
              "        const docLink = document.createElement('div');\n",
              "        docLink.innerHTML = docLinkHtml;\n",
              "        element.appendChild(docLink);\n",
              "      }\n",
              "    </script>\n",
              "  </div>\n",
              "\n",
              "\n",
              "<div id=\"df-11919d96-de77-4bad-9eb7-7b9ce3b6615f\">\n",
              "  <button class=\"colab-df-quickchart\" onclick=\"quickchart('df-11919d96-de77-4bad-9eb7-7b9ce3b6615f')\"\n",
              "            title=\"Suggest charts\"\n",
              "            style=\"display:none;\">\n",
              "\n",
              "<svg xmlns=\"http://www.w3.org/2000/svg\" height=\"24px\"viewBox=\"0 0 24 24\"\n",
              "     width=\"24px\">\n",
              "    <g>\n",
              "        <path d=\"M19 3H5c-1.1 0-2 .9-2 2v14c0 1.1.9 2 2 2h14c1.1 0 2-.9 2-2V5c0-1.1-.9-2-2-2zM9 17H7v-7h2v7zm4 0h-2V7h2v10zm4 0h-2v-4h2v4z\"/>\n",
              "    </g>\n",
              "</svg>\n",
              "  </button>\n",
              "\n",
              "<style>\n",
              "  .colab-df-quickchart {\n",
              "      --bg-color: #E8F0FE;\n",
              "      --fill-color: #1967D2;\n",
              "      --hover-bg-color: #E2EBFA;\n",
              "      --hover-fill-color: #174EA6;\n",
              "      --disabled-fill-color: #AAA;\n",
              "      --disabled-bg-color: #DDD;\n",
              "  }\n",
              "\n",
              "  [theme=dark] .colab-df-quickchart {\n",
              "      --bg-color: #3B4455;\n",
              "      --fill-color: #D2E3FC;\n",
              "      --hover-bg-color: #434B5C;\n",
              "      --hover-fill-color: #FFFFFF;\n",
              "      --disabled-bg-color: #3B4455;\n",
              "      --disabled-fill-color: #666;\n",
              "  }\n",
              "\n",
              "  .colab-df-quickchart {\n",
              "    background-color: var(--bg-color);\n",
              "    border: none;\n",
              "    border-radius: 50%;\n",
              "    cursor: pointer;\n",
              "    display: none;\n",
              "    fill: var(--fill-color);\n",
              "    height: 32px;\n",
              "    padding: 0;\n",
              "    width: 32px;\n",
              "  }\n",
              "\n",
              "  .colab-df-quickchart:hover {\n",
              "    background-color: var(--hover-bg-color);\n",
              "    box-shadow: 0 1px 2px rgba(60, 64, 67, 0.3), 0 1px 3px 1px rgba(60, 64, 67, 0.15);\n",
              "    fill: var(--button-hover-fill-color);\n",
              "  }\n",
              "\n",
              "  .colab-df-quickchart-complete:disabled,\n",
              "  .colab-df-quickchart-complete:disabled:hover {\n",
              "    background-color: var(--disabled-bg-color);\n",
              "    fill: var(--disabled-fill-color);\n",
              "    box-shadow: none;\n",
              "  }\n",
              "\n",
              "  .colab-df-spinner {\n",
              "    border: 2px solid var(--fill-color);\n",
              "    border-color: transparent;\n",
              "    border-bottom-color: var(--fill-color);\n",
              "    animation:\n",
              "      spin 1s steps(1) infinite;\n",
              "  }\n",
              "\n",
              "  @keyframes spin {\n",
              "    0% {\n",
              "      border-color: transparent;\n",
              "      border-bottom-color: var(--fill-color);\n",
              "      border-left-color: var(--fill-color);\n",
              "    }\n",
              "    20% {\n",
              "      border-color: transparent;\n",
              "      border-left-color: var(--fill-color);\n",
              "      border-top-color: var(--fill-color);\n",
              "    }\n",
              "    30% {\n",
              "      border-color: transparent;\n",
              "      border-left-color: var(--fill-color);\n",
              "      border-top-color: var(--fill-color);\n",
              "      border-right-color: var(--fill-color);\n",
              "    }\n",
              "    40% {\n",
              "      border-color: transparent;\n",
              "      border-right-color: var(--fill-color);\n",
              "      border-top-color: var(--fill-color);\n",
              "    }\n",
              "    60% {\n",
              "      border-color: transparent;\n",
              "      border-right-color: var(--fill-color);\n",
              "    }\n",
              "    80% {\n",
              "      border-color: transparent;\n",
              "      border-right-color: var(--fill-color);\n",
              "      border-bottom-color: var(--fill-color);\n",
              "    }\n",
              "    90% {\n",
              "      border-color: transparent;\n",
              "      border-bottom-color: var(--fill-color);\n",
              "    }\n",
              "  }\n",
              "</style>\n",
              "\n",
              "  <script>\n",
              "    async function quickchart(key) {\n",
              "      const quickchartButtonEl =\n",
              "        document.querySelector('#' + key + ' button');\n",
              "      quickchartButtonEl.disabled = true;  // To prevent multiple clicks.\n",
              "      quickchartButtonEl.classList.add('colab-df-spinner');\n",
              "      try {\n",
              "        const charts = await google.colab.kernel.invokeFunction(\n",
              "            'suggestCharts', [key], {});\n",
              "      } catch (error) {\n",
              "        console.error('Error during call to suggestCharts:', error);\n",
              "      }\n",
              "      quickchartButtonEl.classList.remove('colab-df-spinner');\n",
              "      quickchartButtonEl.classList.add('colab-df-quickchart-complete');\n",
              "    }\n",
              "    (() => {\n",
              "      let quickchartButtonEl =\n",
              "        document.querySelector('#df-11919d96-de77-4bad-9eb7-7b9ce3b6615f button');\n",
              "      quickchartButtonEl.style.display =\n",
              "        google.colab.kernel.accessAllowed ? 'block' : 'none';\n",
              "    })();\n",
              "  </script>\n",
              "</div>\n",
              "\n",
              "    </div>\n",
              "  </div>\n"
            ],
            "application/vnd.google.colaboratory.intrinsic+json": {
              "type": "dataframe",
              "summary": "{\n  \"name\": \"internallyDisplaced[(internallyDisplaced['Hazard Type'] == 'Flood') & (internallyDisplaced['Name'] == 'Zimbabwe')]\",\n  \"rows\": 11,\n  \"fields\": [\n    {\n      \"column\": \"ISO3\",\n      \"properties\": {\n        \"dtype\": \"category\",\n        \"num_unique_values\": 1,\n        \"samples\": [\n          \"ZWE\"\n        ],\n        \"semantic_type\": \"\",\n        \"description\": \"\"\n      }\n    },\n    {\n      \"column\": \"Name\",\n      \"properties\": {\n        \"dtype\": \"category\",\n        \"num_unique_values\": 1,\n        \"samples\": [\n          \"Zimbabwe\"\n        ],\n        \"semantic_type\": \"\",\n        \"description\": \"\"\n      }\n    },\n    {\n      \"column\": \"Year\",\n      \"properties\": {\n        \"dtype\": \"number\",\n        \"std\": 3,\n        \"min\": 2010,\n        \"max\": 2020,\n        \"num_unique_values\": 8,\n        \"samples\": [\n          2011\n        ],\n        \"semantic_type\": \"\",\n        \"description\": \"\"\n      }\n    },\n    {\n      \"column\": \"Start Date\",\n      \"properties\": {\n        \"dtype\": \"string\",\n        \"num_unique_values\": 11,\n        \"samples\": [\n          \"01/12/2014\"\n        ],\n        \"semantic_type\": \"\",\n        \"description\": \"\"\n      }\n    },\n    {\n      \"column\": \"Event Name\",\n      \"properties\": {\n        \"dtype\": \"string\",\n        \"num_unique_values\": 9,\n        \"samples\": [\n          \"Zimbabwe: Flash flooding- Matabeleland North (Binga)- 11/02/2020\"\n        ],\n        \"semantic_type\": \"\",\n        \"description\": \"\"\n      }\n    },\n    {\n      \"column\": \"Hazard Category\",\n      \"properties\": {\n        \"dtype\": \"category\",\n        \"num_unique_values\": 1,\n        \"samples\": [\n          \"Weather related\"\n        ],\n        \"semantic_type\": \"\",\n        \"description\": \"\"\n      }\n    },\n    {\n      \"column\": \"Hazard Type\",\n      \"properties\": {\n        \"dtype\": \"category\",\n        \"num_unique_values\": 1,\n        \"samples\": [\n          \"Flood\"\n        ],\n        \"semantic_type\": \"\",\n        \"description\": \"\"\n      }\n    },\n    {\n      \"column\": \"New Displacements\",\n      \"properties\": {\n        \"dtype\": \"number\",\n        \"std\": 14985.416228045779,\n        \"min\": 8.0,\n        \"max\": 43809.0,\n        \"num_unique_values\": 9,\n        \"samples\": [\n          148.0\n        ],\n        \"semantic_type\": \"\",\n        \"description\": \"\"\n      }\n    }\n  ]\n}"
            }
          },
          "metadata": {},
          "execution_count": 12
        }
      ],
      "source": [
        "internallyDisplaced[(internallyDisplaced['Hazard Type'] == 'Flood') & (internallyDisplaced['Name'] == 'Zimbabwe')]"
      ]
    },
    {
      "cell_type": "code",
      "execution_count": 13,
      "metadata": {
        "id": "odFVbEFJ1tsw",
        "outputId": "72756379-1448-46da-933c-21a14b6abfdb",
        "colab": {
          "base_uri": "https://localhost:8080/",
          "height": 419
        }
      },
      "outputs": [
        {
          "output_type": "execute_result",
          "data": {
            "text/plain": [
              "      ISO3         Name  Year  Start Date  \\\n",
              "0      AB9   Abyei Area  2018  01/07/2018   \n",
              "1      AB9   Abyei Area  2019  01/06/2019   \n",
              "2      AFG  Afghanistan  2008  01/08/2008   \n",
              "7      AFG  Afghanistan  2009  01/01/2009   \n",
              "8      AFG  Afghanistan  2009  01/01/2009   \n",
              "...    ...          ...   ...         ...   \n",
              "10145  ZMB       Zambia  2020  01/02/2020   \n",
              "10146  ZMB       Zambia  2020  12/04/2020   \n",
              "10147  ZMB       Zambia  2020  01/03/2020   \n",
              "10148  ZMB       Zambia  2020  24/01/2020   \n",
              "10149  ZMB       Zambia  2020  26/12/2020   \n",
              "\n",
              "                                              Event Name  Hazard Category  \\\n",
              "0                              Abyie: Flood - 01/07/2018  Weather related   \n",
              "1             Abyei: Flood - southern parts - 01/06/2019  Weather related   \n",
              "2                                                    NaN  Weather related   \n",
              "7                                                    NaN  Weather related   \n",
              "8                                                    NaN  Weather related   \n",
              "...                                                  ...              ...   \n",
              "10145  Zambia: Flash floods - Eastern Province (Lumez...  Weather related   \n",
              "10146     Zambia: Floods - Luapula province - 12/04/2020  Weather related   \n",
              "10147  Zambia: Floods - Luapula province (Samfya) - 0...  Weather related   \n",
              "10148  Zambia: Floods - Eastern province (Mambwe dist...  Weather related   \n",
              "10149  Zambia: Floods - Central province (Mumbwa) - 2...  Weather related   \n",
              "\n",
              "      Hazard Type  New Displacements  \n",
              "0           Flood                2.0  \n",
              "1           Flood            40000.0  \n",
              "2           Flood              180.0  \n",
              "7           Flood                NaN  \n",
              "8           Flood            25185.0  \n",
              "...           ...                ...  \n",
              "10145       Flood              559.0  \n",
              "10146       Flood             2601.0  \n",
              "10147       Flood             1500.0  \n",
              "10148       Flood              500.0  \n",
              "10149       Flood              814.0  \n",
              "\n",
              "[4726 rows x 8 columns]"
            ],
            "text/html": [
              "\n",
              "  <div id=\"df-85b6782f-f507-45c1-8bc5-66998c7416c6\" class=\"colab-df-container\">\n",
              "    <div>\n",
              "<style scoped>\n",
              "    .dataframe tbody tr th:only-of-type {\n",
              "        vertical-align: middle;\n",
              "    }\n",
              "\n",
              "    .dataframe tbody tr th {\n",
              "        vertical-align: top;\n",
              "    }\n",
              "\n",
              "    .dataframe thead th {\n",
              "        text-align: right;\n",
              "    }\n",
              "</style>\n",
              "<table border=\"1\" class=\"dataframe\">\n",
              "  <thead>\n",
              "    <tr style=\"text-align: right;\">\n",
              "      <th></th>\n",
              "      <th>ISO3</th>\n",
              "      <th>Name</th>\n",
              "      <th>Year</th>\n",
              "      <th>Start Date</th>\n",
              "      <th>Event Name</th>\n",
              "      <th>Hazard Category</th>\n",
              "      <th>Hazard Type</th>\n",
              "      <th>New Displacements</th>\n",
              "    </tr>\n",
              "  </thead>\n",
              "  <tbody>\n",
              "    <tr>\n",
              "      <th>0</th>\n",
              "      <td>AB9</td>\n",
              "      <td>Abyei Area</td>\n",
              "      <td>2018</td>\n",
              "      <td>01/07/2018</td>\n",
              "      <td>Abyie: Flood - 01/07/2018</td>\n",
              "      <td>Weather related</td>\n",
              "      <td>Flood</td>\n",
              "      <td>2.0</td>\n",
              "    </tr>\n",
              "    <tr>\n",
              "      <th>1</th>\n",
              "      <td>AB9</td>\n",
              "      <td>Abyei Area</td>\n",
              "      <td>2019</td>\n",
              "      <td>01/06/2019</td>\n",
              "      <td>Abyei: Flood - southern parts - 01/06/2019</td>\n",
              "      <td>Weather related</td>\n",
              "      <td>Flood</td>\n",
              "      <td>40000.0</td>\n",
              "    </tr>\n",
              "    <tr>\n",
              "      <th>2</th>\n",
              "      <td>AFG</td>\n",
              "      <td>Afghanistan</td>\n",
              "      <td>2008</td>\n",
              "      <td>01/08/2008</td>\n",
              "      <td>NaN</td>\n",
              "      <td>Weather related</td>\n",
              "      <td>Flood</td>\n",
              "      <td>180.0</td>\n",
              "    </tr>\n",
              "    <tr>\n",
              "      <th>7</th>\n",
              "      <td>AFG</td>\n",
              "      <td>Afghanistan</td>\n",
              "      <td>2009</td>\n",
              "      <td>01/01/2009</td>\n",
              "      <td>NaN</td>\n",
              "      <td>Weather related</td>\n",
              "      <td>Flood</td>\n",
              "      <td>NaN</td>\n",
              "    </tr>\n",
              "    <tr>\n",
              "      <th>8</th>\n",
              "      <td>AFG</td>\n",
              "      <td>Afghanistan</td>\n",
              "      <td>2009</td>\n",
              "      <td>01/01/2009</td>\n",
              "      <td>NaN</td>\n",
              "      <td>Weather related</td>\n",
              "      <td>Flood</td>\n",
              "      <td>25185.0</td>\n",
              "    </tr>\n",
              "    <tr>\n",
              "      <th>...</th>\n",
              "      <td>...</td>\n",
              "      <td>...</td>\n",
              "      <td>...</td>\n",
              "      <td>...</td>\n",
              "      <td>...</td>\n",
              "      <td>...</td>\n",
              "      <td>...</td>\n",
              "      <td>...</td>\n",
              "    </tr>\n",
              "    <tr>\n",
              "      <th>10145</th>\n",
              "      <td>ZMB</td>\n",
              "      <td>Zambia</td>\n",
              "      <td>2020</td>\n",
              "      <td>01/02/2020</td>\n",
              "      <td>Zambia: Flash floods - Eastern Province (Lumez...</td>\n",
              "      <td>Weather related</td>\n",
              "      <td>Flood</td>\n",
              "      <td>559.0</td>\n",
              "    </tr>\n",
              "    <tr>\n",
              "      <th>10146</th>\n",
              "      <td>ZMB</td>\n",
              "      <td>Zambia</td>\n",
              "      <td>2020</td>\n",
              "      <td>12/04/2020</td>\n",
              "      <td>Zambia: Floods - Luapula province - 12/04/2020</td>\n",
              "      <td>Weather related</td>\n",
              "      <td>Flood</td>\n",
              "      <td>2601.0</td>\n",
              "    </tr>\n",
              "    <tr>\n",
              "      <th>10147</th>\n",
              "      <td>ZMB</td>\n",
              "      <td>Zambia</td>\n",
              "      <td>2020</td>\n",
              "      <td>01/03/2020</td>\n",
              "      <td>Zambia: Floods - Luapula province (Samfya) - 0...</td>\n",
              "      <td>Weather related</td>\n",
              "      <td>Flood</td>\n",
              "      <td>1500.0</td>\n",
              "    </tr>\n",
              "    <tr>\n",
              "      <th>10148</th>\n",
              "      <td>ZMB</td>\n",
              "      <td>Zambia</td>\n",
              "      <td>2020</td>\n",
              "      <td>24/01/2020</td>\n",
              "      <td>Zambia: Floods - Eastern province (Mambwe dist...</td>\n",
              "      <td>Weather related</td>\n",
              "      <td>Flood</td>\n",
              "      <td>500.0</td>\n",
              "    </tr>\n",
              "    <tr>\n",
              "      <th>10149</th>\n",
              "      <td>ZMB</td>\n",
              "      <td>Zambia</td>\n",
              "      <td>2020</td>\n",
              "      <td>26/12/2020</td>\n",
              "      <td>Zambia: Floods - Central province (Mumbwa) - 2...</td>\n",
              "      <td>Weather related</td>\n",
              "      <td>Flood</td>\n",
              "      <td>814.0</td>\n",
              "    </tr>\n",
              "  </tbody>\n",
              "</table>\n",
              "<p>4726 rows × 8 columns</p>\n",
              "</div>\n",
              "    <div class=\"colab-df-buttons\">\n",
              "\n",
              "  <div class=\"colab-df-container\">\n",
              "    <button class=\"colab-df-convert\" onclick=\"convertToInteractive('df-85b6782f-f507-45c1-8bc5-66998c7416c6')\"\n",
              "            title=\"Convert this dataframe to an interactive table.\"\n",
              "            style=\"display:none;\">\n",
              "\n",
              "  <svg xmlns=\"http://www.w3.org/2000/svg\" height=\"24px\" viewBox=\"0 -960 960 960\">\n",
              "    <path d=\"M120-120v-720h720v720H120Zm60-500h600v-160H180v160Zm220 220h160v-160H400v160Zm0 220h160v-160H400v160ZM180-400h160v-160H180v160Zm440 0h160v-160H620v160ZM180-180h160v-160H180v160Zm440 0h160v-160H620v160Z\"/>\n",
              "  </svg>\n",
              "    </button>\n",
              "\n",
              "  <style>\n",
              "    .colab-df-container {\n",
              "      display:flex;\n",
              "      gap: 12px;\n",
              "    }\n",
              "\n",
              "    .colab-df-convert {\n",
              "      background-color: #E8F0FE;\n",
              "      border: none;\n",
              "      border-radius: 50%;\n",
              "      cursor: pointer;\n",
              "      display: none;\n",
              "      fill: #1967D2;\n",
              "      height: 32px;\n",
              "      padding: 0 0 0 0;\n",
              "      width: 32px;\n",
              "    }\n",
              "\n",
              "    .colab-df-convert:hover {\n",
              "      background-color: #E2EBFA;\n",
              "      box-shadow: 0px 1px 2px rgba(60, 64, 67, 0.3), 0px 1px 3px 1px rgba(60, 64, 67, 0.15);\n",
              "      fill: #174EA6;\n",
              "    }\n",
              "\n",
              "    .colab-df-buttons div {\n",
              "      margin-bottom: 4px;\n",
              "    }\n",
              "\n",
              "    [theme=dark] .colab-df-convert {\n",
              "      background-color: #3B4455;\n",
              "      fill: #D2E3FC;\n",
              "    }\n",
              "\n",
              "    [theme=dark] .colab-df-convert:hover {\n",
              "      background-color: #434B5C;\n",
              "      box-shadow: 0px 1px 3px 1px rgba(0, 0, 0, 0.15);\n",
              "      filter: drop-shadow(0px 1px 2px rgba(0, 0, 0, 0.3));\n",
              "      fill: #FFFFFF;\n",
              "    }\n",
              "  </style>\n",
              "\n",
              "    <script>\n",
              "      const buttonEl =\n",
              "        document.querySelector('#df-85b6782f-f507-45c1-8bc5-66998c7416c6 button.colab-df-convert');\n",
              "      buttonEl.style.display =\n",
              "        google.colab.kernel.accessAllowed ? 'block' : 'none';\n",
              "\n",
              "      async function convertToInteractive(key) {\n",
              "        const element = document.querySelector('#df-85b6782f-f507-45c1-8bc5-66998c7416c6');\n",
              "        const dataTable =\n",
              "          await google.colab.kernel.invokeFunction('convertToInteractive',\n",
              "                                                    [key], {});\n",
              "        if (!dataTable) return;\n",
              "\n",
              "        const docLinkHtml = 'Like what you see? Visit the ' +\n",
              "          '<a target=\"_blank\" href=https://colab.research.google.com/notebooks/data_table.ipynb>data table notebook</a>'\n",
              "          + ' to learn more about interactive tables.';\n",
              "        element.innerHTML = '';\n",
              "        dataTable['output_type'] = 'display_data';\n",
              "        await google.colab.output.renderOutput(dataTable, element);\n",
              "        const docLink = document.createElement('div');\n",
              "        docLink.innerHTML = docLinkHtml;\n",
              "        element.appendChild(docLink);\n",
              "      }\n",
              "    </script>\n",
              "  </div>\n",
              "\n",
              "\n",
              "<div id=\"df-457cb229-fb4a-4891-807d-f201ad7b5880\">\n",
              "  <button class=\"colab-df-quickchart\" onclick=\"quickchart('df-457cb229-fb4a-4891-807d-f201ad7b5880')\"\n",
              "            title=\"Suggest charts\"\n",
              "            style=\"display:none;\">\n",
              "\n",
              "<svg xmlns=\"http://www.w3.org/2000/svg\" height=\"24px\"viewBox=\"0 0 24 24\"\n",
              "     width=\"24px\">\n",
              "    <g>\n",
              "        <path d=\"M19 3H5c-1.1 0-2 .9-2 2v14c0 1.1.9 2 2 2h14c1.1 0 2-.9 2-2V5c0-1.1-.9-2-2-2zM9 17H7v-7h2v7zm4 0h-2V7h2v10zm4 0h-2v-4h2v4z\"/>\n",
              "    </g>\n",
              "</svg>\n",
              "  </button>\n",
              "\n",
              "<style>\n",
              "  .colab-df-quickchart {\n",
              "      --bg-color: #E8F0FE;\n",
              "      --fill-color: #1967D2;\n",
              "      --hover-bg-color: #E2EBFA;\n",
              "      --hover-fill-color: #174EA6;\n",
              "      --disabled-fill-color: #AAA;\n",
              "      --disabled-bg-color: #DDD;\n",
              "  }\n",
              "\n",
              "  [theme=dark] .colab-df-quickchart {\n",
              "      --bg-color: #3B4455;\n",
              "      --fill-color: #D2E3FC;\n",
              "      --hover-bg-color: #434B5C;\n",
              "      --hover-fill-color: #FFFFFF;\n",
              "      --disabled-bg-color: #3B4455;\n",
              "      --disabled-fill-color: #666;\n",
              "  }\n",
              "\n",
              "  .colab-df-quickchart {\n",
              "    background-color: var(--bg-color);\n",
              "    border: none;\n",
              "    border-radius: 50%;\n",
              "    cursor: pointer;\n",
              "    display: none;\n",
              "    fill: var(--fill-color);\n",
              "    height: 32px;\n",
              "    padding: 0;\n",
              "    width: 32px;\n",
              "  }\n",
              "\n",
              "  .colab-df-quickchart:hover {\n",
              "    background-color: var(--hover-bg-color);\n",
              "    box-shadow: 0 1px 2px rgba(60, 64, 67, 0.3), 0 1px 3px 1px rgba(60, 64, 67, 0.15);\n",
              "    fill: var(--button-hover-fill-color);\n",
              "  }\n",
              "\n",
              "  .colab-df-quickchart-complete:disabled,\n",
              "  .colab-df-quickchart-complete:disabled:hover {\n",
              "    background-color: var(--disabled-bg-color);\n",
              "    fill: var(--disabled-fill-color);\n",
              "    box-shadow: none;\n",
              "  }\n",
              "\n",
              "  .colab-df-spinner {\n",
              "    border: 2px solid var(--fill-color);\n",
              "    border-color: transparent;\n",
              "    border-bottom-color: var(--fill-color);\n",
              "    animation:\n",
              "      spin 1s steps(1) infinite;\n",
              "  }\n",
              "\n",
              "  @keyframes spin {\n",
              "    0% {\n",
              "      border-color: transparent;\n",
              "      border-bottom-color: var(--fill-color);\n",
              "      border-left-color: var(--fill-color);\n",
              "    }\n",
              "    20% {\n",
              "      border-color: transparent;\n",
              "      border-left-color: var(--fill-color);\n",
              "      border-top-color: var(--fill-color);\n",
              "    }\n",
              "    30% {\n",
              "      border-color: transparent;\n",
              "      border-left-color: var(--fill-color);\n",
              "      border-top-color: var(--fill-color);\n",
              "      border-right-color: var(--fill-color);\n",
              "    }\n",
              "    40% {\n",
              "      border-color: transparent;\n",
              "      border-right-color: var(--fill-color);\n",
              "      border-top-color: var(--fill-color);\n",
              "    }\n",
              "    60% {\n",
              "      border-color: transparent;\n",
              "      border-right-color: var(--fill-color);\n",
              "    }\n",
              "    80% {\n",
              "      border-color: transparent;\n",
              "      border-right-color: var(--fill-color);\n",
              "      border-bottom-color: var(--fill-color);\n",
              "    }\n",
              "    90% {\n",
              "      border-color: transparent;\n",
              "      border-bottom-color: var(--fill-color);\n",
              "    }\n",
              "  }\n",
              "</style>\n",
              "\n",
              "  <script>\n",
              "    async function quickchart(key) {\n",
              "      const quickchartButtonEl =\n",
              "        document.querySelector('#' + key + ' button');\n",
              "      quickchartButtonEl.disabled = true;  // To prevent multiple clicks.\n",
              "      quickchartButtonEl.classList.add('colab-df-spinner');\n",
              "      try {\n",
              "        const charts = await google.colab.kernel.invokeFunction(\n",
              "            'suggestCharts', [key], {});\n",
              "      } catch (error) {\n",
              "        console.error('Error during call to suggestCharts:', error);\n",
              "      }\n",
              "      quickchartButtonEl.classList.remove('colab-df-spinner');\n",
              "      quickchartButtonEl.classList.add('colab-df-quickchart-complete');\n",
              "    }\n",
              "    (() => {\n",
              "      let quickchartButtonEl =\n",
              "        document.querySelector('#df-457cb229-fb4a-4891-807d-f201ad7b5880 button');\n",
              "      quickchartButtonEl.style.display =\n",
              "        google.colab.kernel.accessAllowed ? 'block' : 'none';\n",
              "    })();\n",
              "  </script>\n",
              "</div>\n",
              "\n",
              "    </div>\n",
              "  </div>\n"
            ],
            "application/vnd.google.colaboratory.intrinsic+json": {
              "type": "dataframe",
              "summary": "{\n  \"name\": \"internallyDisplaced[(internallyDisplaced['Hazard Type'] == 'Flood') & ~ (internallyDisplaced['Name'] == 'Zimbabwe')]\",\n  \"rows\": 4726,\n  \"fields\": [\n    {\n      \"column\": \"ISO3\",\n      \"properties\": {\n        \"dtype\": \"category\",\n        \"num_unique_values\": 172,\n        \"samples\": [\n          \"JAM\",\n          \"SLV\",\n          \"TON\"\n        ],\n        \"semantic_type\": \"\",\n        \"description\": \"\"\n      }\n    },\n    {\n      \"column\": \"Name\",\n      \"properties\": {\n        \"dtype\": \"category\",\n        \"num_unique_values\": 175,\n        \"samples\": [\n          \"Trinidad and Tobago\",\n          \"Slovak Republic\",\n          \"Marshall Islands\"\n        ],\n        \"semantic_type\": \"\",\n        \"description\": \"\"\n      }\n    },\n    {\n      \"column\": \"Year\",\n      \"properties\": {\n        \"dtype\": \"number\",\n        \"std\": 3,\n        \"min\": 2008,\n        \"max\": 2020,\n        \"num_unique_values\": 13,\n        \"samples\": [\n          2017,\n          2015,\n          2018\n        ],\n        \"semantic_type\": \"\",\n        \"description\": \"\"\n      }\n    },\n    {\n      \"column\": \"Start Date\",\n      \"properties\": {\n        \"dtype\": \"category\",\n        \"num_unique_values\": 1999,\n        \"samples\": [\n          \"12/12/2020\",\n          \"07/02/2019\",\n          \"24/07/2018\"\n        ],\n        \"semantic_type\": \"\",\n        \"description\": \"\"\n      }\n    },\n    {\n      \"column\": \"Event Name\",\n      \"properties\": {\n        \"dtype\": \"string\",\n        \"num_unique_values\": 3958,\n        \"samples\": [\n          \"Afghanistan: Floods - Badakhshan (Fayzabad) - 28/06/2020\",\n          \"Colombia: Floods - Magdalena (Aracataca) - 10/06/2020\",\n          \"Flash floods in  Ilam, Lorestan and Kerman\"\n        ],\n        \"semantic_type\": \"\",\n        \"description\": \"\"\n      }\n    },\n    {\n      \"column\": \"Hazard Category\",\n      \"properties\": {\n        \"dtype\": \"category\",\n        \"num_unique_values\": 1,\n        \"samples\": [\n          \"Weather related\"\n        ],\n        \"semantic_type\": \"\",\n        \"description\": \"\"\n      }\n    },\n    {\n      \"column\": \"Hazard Type\",\n      \"properties\": {\n        \"dtype\": \"category\",\n        \"num_unique_values\": 1,\n        \"samples\": [\n          \"Flood\"\n        ],\n        \"semantic_type\": \"\",\n        \"description\": \"\"\n      }\n    },\n    {\n      \"column\": \"New Displacements\",\n      \"properties\": {\n        \"dtype\": \"number\",\n        \"std\": 346283.4804046777,\n        \"min\": 1.0,\n        \"max\": 15200000.0,\n        \"num_unique_values\": 1826,\n        \"samples\": [\n          771.0\n        ],\n        \"semantic_type\": \"\",\n        \"description\": \"\"\n      }\n    }\n  ]\n}"
            }
          },
          "metadata": {},
          "execution_count": 13
        }
      ],
      "source": [
        "internallyDisplaced[(internallyDisplaced['Hazard Type'] == 'Flood') & ~ (internallyDisplaced['Name'] == 'Zimbabwe')]"
      ]
    },
    {
      "cell_type": "markdown",
      "source": [
        "Try to select the event name, year and type of hazard that happened in the UK after 2010."
      ],
      "metadata": {
        "id": "AXor68nWvE96"
      }
    },
    {
      "cell_type": "code",
      "source": [
        "# insert your code below.\n",
        "# suggestion: first select hazard that happened after 2010 in the UK and then select columns.\n",
        "internallyDisplaced[(internallyDisplaced['Hazard Type'])]\n"
      ],
      "metadata": {
        "id": "fjG6H5QDvwC7"
      },
      "execution_count": null,
      "outputs": []
    },
    {
      "cell_type": "markdown",
      "metadata": {
        "id": "0YfHwm9C_xpQ"
      },
      "source": [
        "You can also index over a subset of a dataframe. For instance, here is an alternative way to select the first or last 10 rows of a subset of a dataframe."
      ]
    },
    {
      "cell_type": "code",
      "execution_count": null,
      "metadata": {
        "id": "S15knr0WAfe4"
      },
      "outputs": [],
      "source": [
        "internallyDisplaced['New Displacements'][:10] # first 10"
      ]
    },
    {
      "cell_type": "code",
      "execution_count": null,
      "metadata": {
        "id": "WhIuVXpeA2Wg"
      },
      "outputs": [],
      "source": [
        "internallyDisplaced['New Displacements'][-10:] # last 10"
      ]
    },
    {
      "cell_type": "markdown",
      "metadata": {
        "id": "HxnkhNfE33de"
      },
      "source": [
        "You can store subset of dataframes on separate variables and use all methods presented above on them."
      ]
    },
    {
      "cell_type": "markdown",
      "metadata": {
        "id": "fgVF6ydTAaT5"
      },
      "source": [
        "Now let's introduce some new methods that are useful for numeric columns to exemplify."
      ]
    },
    {
      "cell_type": "markdown",
      "metadata": {
        "id": "eR-74zbe4d-A"
      },
      "source": [
        "`.min()` gives you the minimum value."
      ]
    },
    {
      "cell_type": "code",
      "execution_count": null,
      "metadata": {
        "id": "567JRK9O4RFj"
      },
      "outputs": [],
      "source": [
        "internallyDisplaced['New Displacements'].min()"
      ]
    },
    {
      "cell_type": "markdown",
      "metadata": {
        "id": "fKbYXIXC4i6d"
      },
      "source": [
        "`.max()` gives you the maximum value."
      ]
    },
    {
      "cell_type": "code",
      "execution_count": null,
      "metadata": {
        "id": "C5CFuseS4ol_"
      },
      "outputs": [],
      "source": [
        "internallyDisplaced['New Displacements'].max()"
      ]
    },
    {
      "cell_type": "markdown",
      "metadata": {
        "id": "1TJPrRiA4uzK"
      },
      "source": [
        ".`mean()` gives you the mean value."
      ]
    },
    {
      "cell_type": "code",
      "execution_count": null,
      "metadata": {
        "id": "Vd4onlyG4z2i"
      },
      "outputs": [],
      "source": [
        "internallyDisplaced['New Displacements'].mean()"
      ]
    },
    {
      "cell_type": "markdown",
      "metadata": {
        "id": "0tJYDTqY-_qB"
      },
      "source": [
        "`.describe()` gives you the summary statistics for numeric columns in dataframe."
      ]
    },
    {
      "cell_type": "code",
      "execution_count": null,
      "metadata": {
        "id": "XvB1l8QG_AeX"
      },
      "outputs": [],
      "source": [
        "internallyDisplaced.describe()"
      ]
    },
    {
      "cell_type": "markdown",
      "metadata": {
        "id": "Q1gEaR4jGZcu"
      },
      "source": [
        "You can use `.loc` and `.iloc` to select a specific item in a dataframe. The only difference between the two is that `.loc` takes rows and columns names as arguments while `.iloc` takes their index.\n",
        "\n",
        "Note, in this case, the row names are indexes."
      ]
    },
    {
      "cell_type": "code",
      "execution_count": null,
      "metadata": {
        "id": "_mkRR_-PGcsg"
      },
      "outputs": [],
      "source": [
        "internallyDisplaced.loc[1, 'Name']"
      ]
    },
    {
      "cell_type": "code",
      "execution_count": null,
      "metadata": {
        "id": "S-1mNbMJG0lO"
      },
      "outputs": [],
      "source": [
        "internallyDisplaced.iloc[1, 1]"
      ]
    },
    {
      "cell_type": "markdown",
      "metadata": {
        "id": "MRxmcZVY6AqN"
      },
      "source": [
        "You can create a new column by simply assigning it to the column name."
      ]
    },
    {
      "cell_type": "code",
      "execution_count": null,
      "metadata": {
        "id": "EPSdx-1W6Qus"
      },
      "outputs": [],
      "source": [
        "internallyDisplaced['Before_2010'] =  internallyDisplaced['Year'] <= 2010\n",
        "internallyDisplaced[['Event Name','Before_2010']]"
      ]
    },
    {
      "cell_type": "markdown",
      "source": [
        "Now create a column to identify events that happened between 2010 and 2012."
      ],
      "metadata": {
        "id": "QaquuO1vik1b"
      }
    },
    {
      "cell_type": "code",
      "source": [
        "# insert your code here\n"
      ],
      "metadata": {
        "id": "tu0ERMspiuJx"
      },
      "execution_count": null,
      "outputs": []
    },
    {
      "cell_type": "markdown",
      "metadata": {
        "id": "VxBr7ieh6xSM"
      },
      "source": [
        "The method `.groupby()` is used to split a dataframe into groups.\n",
        "\n",
        "Let's say you want to know how many people were displaced by a specific hazard before and after 2010."
      ]
    },
    {
      "cell_type": "code",
      "execution_count": null,
      "metadata": {
        "id": "o-yRA_Iw7aI_"
      },
      "outputs": [],
      "source": [
        "internallyDisplaced.groupby(['Hazard Type', 'Before_2010'])['New Displacements'].sum()"
      ]
    },
    {
      "cell_type": "markdown",
      "metadata": {
        "id": "P7pOV_qN9KOC"
      },
      "source": [
        "You can also use `.groupby()` to know how many instances of a class are in the dataframe.  "
      ]
    },
    {
      "cell_type": "code",
      "execution_count": null,
      "metadata": {
        "id": "jVJEHqZI9i5y"
      },
      "outputs": [],
      "source": [
        "internallyDisplaced.groupby(['Hazard Type'])['Hazard Type'].count()"
      ]
    },
    {
      "cell_type": "markdown",
      "source": [
        "When was the latest year each hazard type was recorded in each country?"
      ],
      "metadata": {
        "id": "98Go4s-ui_-a"
      }
    },
    {
      "cell_type": "code",
      "source": [
        "# insert code here\n"
      ],
      "metadata": {
        "id": "L35aM9UtjW_X"
      },
      "execution_count": null,
      "outputs": []
    },
    {
      "cell_type": "markdown",
      "metadata": {
        "id": "a1tE8aZiA6Y3"
      },
      "source": [
        "## **Dealing with missing data**"
      ]
    },
    {
      "cell_type": "markdown",
      "metadata": {
        "id": "jS8mAAvtCHDk"
      },
      "source": [
        "The method `.isna()` tells you which items are `NaN` in your dataframem combining it with `.sum()` allows us to know how many missing values there are per column."
      ]
    },
    {
      "cell_type": "code",
      "execution_count": null,
      "metadata": {
        "id": "pwi0Cb70CMwc"
      },
      "outputs": [],
      "source": [
        "internallyDisplaced.isna().sum()"
      ]
    },
    {
      "cell_type": "markdown",
      "metadata": {
        "id": "33iMifHlBEQz"
      },
      "source": [
        "We can deal with missing data in our dataframe by replacing them with some fix value (i.e., the sample mean)."
      ]
    },
    {
      "cell_type": "code",
      "source": [
        "internallyDisplaced['New Displacements'].mean()"
      ],
      "metadata": {
        "collapsed": true,
        "id": "Zu8Zpt_ofPMZ"
      },
      "execution_count": null,
      "outputs": []
    },
    {
      "cell_type": "code",
      "execution_count": null,
      "metadata": {
        "id": "IBAmb8mEBPHr"
      },
      "outputs": [],
      "source": [
        "internallyDisplaced['New Displacements'].fillna(internallyDisplaced['New Displacements'].mean())"
      ]
    },
    {
      "cell_type": "markdown",
      "metadata": {
        "id": "lEvs7ScnBk2z"
      },
      "source": [
        "Note that you need to reassign the colum to `internallyDisplaced['New Displacements']` running `internallyDisplaced['New Displacements'].fillna(internallyDisplaced['New Displacements'].mean())` or your changes will not be reflected in the dataframe."
      ]
    },
    {
      "cell_type": "code",
      "execution_count": null,
      "metadata": {
        "id": "_vdDl43mBrmC"
      },
      "outputs": [],
      "source": [
        "internallyDisplaced"
      ]
    },
    {
      "cell_type": "markdown",
      "metadata": {
        "id": "x-kgdRmbCBa7"
      },
      "source": [
        "You can also choose to drop incomplete rows using `.dropna()`."
      ]
    },
    {
      "cell_type": "code",
      "execution_count": null,
      "metadata": {
        "id": "5J0hgw-jBsFQ"
      },
      "outputs": [],
      "source": [
        "internallyDisplaced.dropna()"
      ]
    },
    {
      "cell_type": "markdown",
      "metadata": {
        "id": "eP85tFUuDxhd"
      },
      "source": [
        "You can also:\n",
        "\n",
        "1.   Only drop rows (or columns) where all values are `NaN` values using `.dropna(how='all')`\n",
        "2.   Put a threshold to how many non null values need to be in a row (or column) in order to keep it, using `.dropna(thresh=10)`\n",
        "3.   Choose for which column `NaN` values should be counted while dropping using `.dropna(subset=['New Displacements'])`.\n",
        "\n",
        "An example:\n"
      ]
    },
    {
      "cell_type": "code",
      "execution_count": null,
      "metadata": {
        "id": "e1TyvsqRD4nZ"
      },
      "outputs": [],
      "source": [
        "internallyDisplaced.dropna(subset=['New Displacements'])"
      ]
    },
    {
      "cell_type": "markdown",
      "metadata": {
        "id": "2-j5Ul8hsbW5"
      },
      "source": [
        "##**Data Manipulation and Visualization**"
      ]
    },
    {
      "cell_type": "markdown",
      "metadata": {
        "id": "3GukdH4GvjG7"
      },
      "source": [
        "Now let's go over some example of data manipulation and visualization."
      ]
    },
    {
      "cell_type": "markdown",
      "metadata": {
        "id": "aG0e5HHVsl7Z"
      },
      "source": [
        "First, as usual, we import relevant libraries."
      ]
    },
    {
      "cell_type": "code",
      "execution_count": null,
      "metadata": {
        "id": "QyEALwhxtNxW"
      },
      "outputs": [],
      "source": [
        "import pandas as pd\n",
        "from matplotlib import pyplot as plt\n",
        "import numpy as np\n",
        "import re"
      ]
    },
    {
      "cell_type": "markdown",
      "metadata": {
        "id": "5CeeuCxGtnpJ"
      },
      "source": [
        "Take a look at the `emdat_EQ_FL_LA_1900-2022_world.xlsx` file in the files folder. You can see that this presents a header in the first 6 lines so we have to make sure that the first 6 lines are skipped when reading the excel. We can create a function that does this for us."
      ]
    },
    {
      "cell_type": "code",
      "execution_count": null,
      "metadata": {
        "id": "sQkzXEtstQS3"
      },
      "outputs": [],
      "source": [
        "def read_EMDAT(emdatXlsFilePath):\n",
        "    rowsToSkip = range(6)\n",
        "    rawData = pd.read_excel(emdatXlsFilePath, skiprows=rowsToSkip)\n",
        "    return rawData"
      ]
    },
    {
      "cell_type": "markdown",
      "metadata": {
        "id": "Cj39GQssuZ_i"
      },
      "source": [
        "We can now run the function using our file path as an argument."
      ]
    },
    {
      "cell_type": "code",
      "execution_count": null,
      "metadata": {
        "id": "1kQPsLiLugAb"
      },
      "outputs": [],
      "source": [
        "emdatFilePath = 'https://github.com/robgen/HEDSpython/raw/refs/heads/main/files/emdat_EQ_FL_LA_1900-2022_world.xlsx'\n",
        "impactData = read_EMDAT(emdatFilePath)"
      ]
    },
    {
      "cell_type": "markdown",
      "metadata": {
        "id": "okG-2mevu72K"
      },
      "source": [
        "We can now check what unique disaster types are reported in the dataframe."
      ]
    },
    {
      "cell_type": "code",
      "execution_count": null,
      "metadata": {
        "id": "7wgLhhfGuz8_"
      },
      "outputs": [],
      "source": [
        "hazTypesGeneral = pd.unique(impactData['Disaster Type'])\n",
        "hazTypesGeneral"
      ]
    },
    {
      "cell_type": "markdown",
      "metadata": {
        "id": "iZo3_NOIvCi1"
      },
      "source": [
        "Yes, you can use `.unique()` both as a method and as a function. The result is exactly the same."
      ]
    },
    {
      "cell_type": "code",
      "source": [
        "impactData['Disaster Type'].unique()"
      ],
      "metadata": {
        "id": "IANjiG5jj6F1"
      },
      "execution_count": null,
      "outputs": []
    },
    {
      "cell_type": "markdown",
      "metadata": {
        "id": "JDZH4UK5vydL"
      },
      "source": [
        "Let's create a pie chart by event type in the dataframe and of events that happened after 1970.\n",
        "\n",
        "We first identify how many disasters of each type there are and sore them in a list."
      ]
    },
    {
      "cell_type": "code",
      "execution_count": null,
      "metadata": {
        "id": "B2vqNvbhu1s5"
      },
      "outputs": [],
      "source": [
        "numHazTypeGeneral = []\n",
        "splitYear = 1970\n",
        "numHazTypeGeneralAfterYear = []\n",
        "for hazType in hazTypesGeneral:\n",
        "  num_hazrds = sum(impactData['Disaster Type'] == hazType)\n",
        "  numHazTypeGeneral.append(num_hazrds)\n",
        "  num_hazards_post_1970 = sum(impactData['Disaster Type'].eq(hazType) & \\\n",
        "                                          impactData['Start Year'].ge(splitYear))\n",
        "  numHazTypeGeneralAfterYear.append(num_hazards_post_1970)\n",
        "print(numHazTypeGeneral)\n",
        "print(numHazTypeGeneralAfterYear)"
      ]
    },
    {
      "cell_type": "markdown",
      "metadata": {
        "id": "lhkPh0IMwkgn"
      },
      "source": [
        "We then plot the values using the pyplot library."
      ]
    },
    {
      "cell_type": "code",
      "execution_count": null,
      "metadata": {
        "id": "Qycg2tqcw5Xd"
      },
      "outputs": [],
      "source": [
        "plt.figure(dpi=200)\n",
        "plt.pie(numHazTypeGeneral, labels=hazTypesGeneral, autopct='%1.1f%%')\n",
        "plt.show()"
      ]
    },
    {
      "cell_type": "markdown",
      "metadata": {
        "id": "tEBIX9VTxCMk"
      },
      "source": [
        "We can do the same for events after 1970."
      ]
    },
    {
      "cell_type": "code",
      "execution_count": null,
      "metadata": {
        "id": "FkfKeGWzw_sJ"
      },
      "outputs": [],
      "source": [
        "plt.figure(dpi=200)\n",
        "plt.pie(numHazTypeGeneralAfterYear, labels=hazTypesGeneral, autopct='%1.1f%%')\n",
        "plt.show()"
      ]
    },
    {
      "cell_type": "markdown",
      "metadata": {
        "id": "iS973MQczV_s"
      },
      "source": [
        "We now try to create two plots side by side, one with the overall hazard distribution overtime and the other with a bar chart reporting the the split in time of floods events before and after 1970."
      ]
    },
    {
      "cell_type": "code",
      "execution_count": null,
      "metadata": {
        "id": "sxg2GUkCx854"
      },
      "outputs": [],
      "source": [
        "# make figure and assign axis objects\n",
        "fig, (ax1, ax2) = plt.subplots(1, 2, figsize=(9, 5), dpi=200)\n",
        "fig.subplots_adjust(wspace=0)\n",
        "\n",
        "# pie chart parameters\n",
        "explode = [0 for x in range(len(hazTypesGeneral))]\n",
        "\n",
        "ax1.pie(numHazTypeGeneral, autopct='%1.1f%%', labels=hazTypesGeneral)\n",
        "\n",
        "# bar chart parameters\n",
        "hazToSplit = 2\n",
        "specific_ratios = [numHazTypeGeneral[hazToSplit]-numHazTypeGeneralAfterYear[hazToSplit],\n",
        "                   numHazTypeGeneral[hazToSplit]]\n",
        "specific_labels = ['Before '+str(splitYear), str(splitYear)+' onwards']\n",
        "\n",
        "width = 0.2\n",
        "bc = ax2.bar(0, specific_ratios[0], width, bottom=None,\n",
        "             label=specific_labels[0], color='C'+str(hazToSplit), alpha= 0.3)\n",
        "ax2.bar_label(bc, labels=[f\"{specific_ratios[0]}\"], label_type='center')\n",
        "bc = ax2.bar(0, specific_ratios[1], width, bottom=specific_ratios[0],\n",
        "             label=specific_labels[1], color='C'+str(hazToSplit), alpha= 0.6)\n",
        "ax2.bar_label(bc, labels=[f\"{specific_ratios[1]}\"], label_type='center')\n",
        "\n",
        "ax2.set_title(hazTypesGeneral[hazToSplit])\n",
        "ax2.legend()\n",
        "ax2.axis('off')\n",
        "ax2.set_xlim(- 2.5 * width, 2.5 * width)\n",
        "\n",
        "plt.show()"
      ]
    },
    {
      "cell_type": "markdown",
      "metadata": {
        "id": "1Peukpph0LYi"
      },
      "source": [
        "We can also plot events overtime."
      ]
    },
    {
      "cell_type": "code",
      "execution_count": null,
      "metadata": {
        "id": "rtoOmGSn0QMG"
      },
      "outputs": [],
      "source": [
        "minYear = min(impactData['Start Year'])\n",
        "maxYear = max(impactData['Start Year'])\n",
        "\n",
        "numEventsOneYear = []\n",
        "for yr in range(minYear, maxYear+1):\n",
        "    numEventsOneYear.append(sum(impactData['Start Year'] == yr))\n",
        "\n",
        "plt.figure(dpi=200)\n",
        "plt.bar(range(minYear, maxYear+1), numEventsOneYear)\n",
        "plt.xlabel('Year')\n",
        "plt.ylabel('Number of events [-]')\n",
        "plt.show()"
      ]
    },
    {
      "cell_type": "markdown",
      "metadata": {
        "id": "yTSehBe80-I-"
      },
      "source": [
        "We can also plot the frequency by event type."
      ]
    },
    {
      "cell_type": "code",
      "execution_count": null,
      "metadata": {
        "id": "Jiw81FrJ0ybP"
      },
      "outputs": [],
      "source": [
        "# disaggregated events\n",
        "numEventsOneYearDisagg = dict()\n",
        "for hazType in hazTypesGeneral:\n",
        "    numEventsOneYearDisagg[hazType] = []\n",
        "    for yr in range(minYear, maxYear+1):\n",
        "        numEventsOneYearDisagg[hazType].append(\n",
        "            sum(impactData['Start Year'].eq(yr) &\n",
        "                impactData['Disaster Type'].eq(hazType) ) )\n",
        "\n",
        "plt.figure(dpi=200)\n",
        "prevSeries = None\n",
        "for hazType in hazTypesGeneral:\n",
        "    plt.bar(range(minYear, maxYear+1), numEventsOneYearDisagg[hazType],\n",
        "            label=hazType, bottom=prevSeries)\n",
        "    prevSeries = numEventsOneYearDisagg[hazType]\n",
        "\n",
        "plt.legend()\n",
        "plt.xlabel('Year')\n",
        "plt.ylabel('Number of events [-]')\n",
        "plt.show()"
      ]
    },
    {
      "cell_type": "markdown",
      "metadata": {
        "id": "ph_SKKyb4-5x"
      },
      "source": [
        "We can also map the events using the given latitude and longitude values."
      ]
    },
    {
      "cell_type": "markdown",
      "source": [
        "First, we only retain values where longitude and latutitude are not NaN."
      ],
      "metadata": {
        "id": "A7eUfHNa-uaR"
      }
    },
    {
      "cell_type": "code",
      "source": [
        "impactData = impactData.dropna(subset=['Longitude', 'Latitude'])"
      ],
      "metadata": {
        "id": "pOms6qoP-7pq"
      },
      "execution_count": null,
      "outputs": []
    },
    {
      "cell_type": "markdown",
      "source": [
        "Let's check that we did this successfully."
      ],
      "metadata": {
        "id": "YXO21pXnfYW3"
      }
    },
    {
      "cell_type": "code",
      "source": [
        "impactData[['Longitude','Latitude']]"
      ],
      "metadata": {
        "id": "7mdbQ5IEfbv5"
      },
      "execution_count": null,
      "outputs": []
    },
    {
      "cell_type": "markdown",
      "metadata": {
        "id": "PnMXU5PJ4uzB"
      },
      "source": [
        "Now let's convert latitude and longitude values into floats."
      ]
    },
    {
      "cell_type": "code",
      "source": [
        "for index, row in impactData.iterrows():\n",
        "\n",
        "    try:\n",
        "        # proper number or nan\n",
        "        impactData['Longitude'][index]= float(row['Longitude'])\n",
        "    except:\n",
        "        # string\n",
        "        impactData['Longitude'][index] = float(re.findall(r\"[-+]?(?:\\d*\\.\\d+|\\d+)\", row['Longitude'])[0])\n",
        "\n",
        "    try:\n",
        "        # proper number or nan\n",
        "        impactData['Latitude'][index] = float(row['Latitude'])\n",
        "    except:\n",
        "        # string\n",
        "        impactData['Latitude'][index] = float(re.findall(r\"[-+]?(?:\\d*\\.\\d+|\\d+)\", row['Latitude'])[0])\n",
        "\n",
        "impactData[['Latitude', 'Longitude']]"
      ],
      "metadata": {
        "id": "Gyn7_qs0bnwG"
      },
      "execution_count": null,
      "outputs": []
    },
    {
      "cell_type": "code",
      "source": [
        "hazTypesGeneral = pd.unique(impactData['Disaster Type']).tolist()\n",
        "hazTypesGeneral.sort(reverse = True)\n",
        "hazTypesGeneral"
      ],
      "metadata": {
        "id": "Y276QB_hdzU3"
      },
      "execution_count": null,
      "outputs": []
    },
    {
      "cell_type": "markdown",
      "metadata": {
        "id": "faRn3h7L5GWF"
      },
      "source": [
        "We then map them using the resulting coordinates."
      ]
    },
    {
      "cell_type": "code",
      "execution_count": null,
      "metadata": {
        "id": "ygfUYsvR4378"
      },
      "outputs": [],
      "source": [
        "plt.figure(dpi=200)\n",
        "\n",
        "for ind,hazType in enumerate(hazTypesGeneral):\n",
        "    impactSliced = impactData[impactData['Disaster Type'] == hazType]\n",
        "    plt.scatter(impactSliced['Longitude'], impactSliced['Latitude'],\n",
        "                c='C'+str(ind), alpha=0.5, edgecolors='none',\n",
        "                label=hazType)\n",
        "\n",
        "plt.legend()\n",
        "plt.xlabel('Longitude [°]')\n",
        "plt.ylabel('Latitude [°]')\n",
        "plt.show()"
      ]
    },
    {
      "cell_type": "markdown",
      "metadata": {
        "id": "6P8deYyQ7dqh"
      },
      "source": [
        "We can also loop over the hazard types to create separate equivalent plots by hazard.\n",
        "\n",
        "In the example below we generate three different maps for each hazard scaling the dimensions of each event location by total deaths.  "
      ]
    },
    {
      "cell_type": "code",
      "execution_count": null,
      "metadata": {
        "id": "Hp-L_67-5YeR"
      },
      "outputs": [],
      "source": [
        "scaleFactor = [0.5, 0.01]\n",
        "for ind,hazType in enumerate(hazTypesGeneral):\n",
        "  plt.figure(dpi=200)\n",
        "  impactSliced = impactData[impactData['Disaster Type'] == hazType]\n",
        "  plt.scatter(impactSliced['Longitude'], impactSliced['Latitude'],\n",
        "              c='C'+str(ind), alpha=0.5, edgecolors='none',\n",
        "              label=hazType, s=impactSliced['Total Deaths']*scaleFactor[ind])\n",
        "\n",
        "  plt.title(hazType)\n",
        "  plt.xlabel('Longitude [°]')\n",
        "  plt.ylabel('Latitude [°]')\n",
        "  plt.show()"
      ]
    }
  ],
  "metadata": {
    "colab": {
      "provenance": [],
      "include_colab_link": true
    },
    "kernelspec": {
      "display_name": "Python 3",
      "name": "python3"
    },
    "language_info": {
      "name": "python"
    }
  },
  "nbformat": 4,
  "nbformat_minor": 0
}