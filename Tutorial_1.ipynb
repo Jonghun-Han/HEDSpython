{
  "cells": [
    {
      "cell_type": "markdown",
      "metadata": {
        "id": "zsrzyXaq0-zX"
      },
      "source": [
        "# **Introduction to Python programming**"
      ]
    },
    {
      "cell_type": "markdown",
      "metadata": {
        "id": "qsMxJY_5nxOB"
      },
      "source": [
        "## **What is a Python program?**"
      ]
    },
    {
      "cell_type": "markdown",
      "metadata": {
        "id": "jIHEGFoDr-Oc"
      },
      "source": [
        "A Python program is a sequence of instructions written in Python that are executed in a sequential order to perform some action.\n",
        "\n",
        "Below is a simple Python program. Press the **play** button to execute it."
      ]
    },
    {
      "cell_type": "code",
      "execution_count": null,
      "metadata": {
        "colab": {
          "base_uri": "https://localhost:8080/"
        },
        "id": "_JMYuuaknsWV",
        "outputId": "f4eb7994-556d-42c7-e6dc-56600da9c0a7"
      },
      "outputs": [
        {
          "name": "stdout",
          "output_type": "stream",
          "text": [
            "Hello, World!\n"
          ]
        }
      ],
      "source": [
        "print('Hello, World!')"
      ]
    },
    {
      "cell_type": "markdown",
      "metadata": {
        "id": "Rkf8s3PbsWTW"
      },
      "source": [
        "Well done! You have just run your first Python program.\n",
        "\n",
        "The `print()` function prints the specified message to the screen. You can change this with anything you like. Now try typing your name and re-running the program."
      ]
    },
    {
      "cell_type": "markdown",
      "metadata": {
        "id": "zt2IoSeUtshc"
      },
      "source": [
        "## **Data Types**"
      ]
    },
    {
      "cell_type": "markdown",
      "metadata": {
        "id": "jkI83XjluoVU"
      },
      "source": [
        "Python can store objects of different types and different data types can do different things.\n",
        "\n",
        "Basic data types are: integer, floating point (rational), string and boolean."
      ]
    },
    {
      "cell_type": "code",
      "execution_count": null,
      "metadata": {
        "id": "T4nV0gkPup0n"
      },
      "outputs": [],
      "source": [
        "a = 11 # integer\n",
        "b = 123.4 # float\n",
        "c = 'Humanitarian' # string\n",
        "d = True # boolean\n",
        "\n",
        "# Anything after an hashtag is a comment. The program won't read it"
      ]
    },
    {
      "cell_type": "markdown",
      "metadata": {
        "id": "XyF8K8K4uz3j"
      },
      "source": [
        "*Note:* to define a **string**, quotes are needed. You can use both `'` or `\"`.\n",
        "\n",
        "Now run the code above using the **play** button. The `=` operator assigns each value to a specific variable. By running the code snippet, we have stored the values in the specified variables. We can now print the specific values by calling the variable instead inside the `print()` function."
      ]
    },
    {
      "cell_type": "code",
      "execution_count": null,
      "metadata": {
        "colab": {
          "base_uri": "https://localhost:8080/"
        },
        "id": "ujj30U49vtwL",
        "outputId": "a03639ab-d889-4a90-cbad-80c735a27df9"
      },
      "outputs": [
        {
          "name": "stdout",
          "output_type": "stream",
          "text": [
            "11\n"
          ]
        }
      ],
      "source": [
        "print(a)"
      ]
    },
    {
      "cell_type": "markdown",
      "metadata": {
        "id": "XDY8_MPBwFRx"
      },
      "source": [
        " The `type()` function prints the data type of the specified object."
      ]
    },
    {
      "cell_type": "code",
      "execution_count": null,
      "metadata": {
        "colab": {
          "base_uri": "https://localhost:8080/"
        },
        "id": "kHk9NkFXwPNQ",
        "outputId": "d0a7cc34-5f73-41d9-a01f-3088a720c0d6"
      },
      "outputs": [
        {
          "data": {
            "text/plain": [
              "int"
            ]
          },
          "execution_count": 156,
          "metadata": {},
          "output_type": "execute_result"
        }
      ],
      "source": [
        "type(a)"
      ]
    },
    {
      "cell_type": "markdown",
      "metadata": {
        "id": "GD0ZMcI1xHZo"
      },
      "source": [
        "Feel free to play around with the code snippets above, printing the other variables and their data type."
      ]
    },
    {
      "cell_type": "markdown",
      "metadata": {
        "id": "KBFY6QLwADQ0"
      },
      "source": [
        "You can run simple expressions with basic data types."
      ]
    },
    {
      "cell_type": "code",
      "execution_count": null,
      "metadata": {
        "id": "Na9rRBytxMpR"
      },
      "outputs": [],
      "source": [
        "A = 5 + 9 # add\n",
        "B = 5 - 11 # subtract\n",
        "C = 4/2 # divide\n",
        "D = 11 * 2 # multiply\n",
        "E = 4**2 # exponent\n",
        "F = 7%2 # modulo"
      ]
    },
    {
      "cell_type": "markdown",
      "metadata": {
        "id": "4Al_xEfQEFV7"
      },
      "source": [
        "Now check your outputs."
      ]
    },
    {
      "cell_type": "code",
      "execution_count": null,
      "metadata": {
        "colab": {
          "base_uri": "https://localhost:8080/"
        },
        "id": "_Jq6u_blD12M",
        "outputId": "5ac6200d-b538-4650-9ae7-268d85c783de"
      },
      "outputs": [
        {
          "name": "stdout",
          "output_type": "stream",
          "text": [
            "14\n"
          ]
        }
      ],
      "source": [
        "print(A) # or B or C.."
      ]
    },
    {
      "cell_type": "markdown",
      "metadata": {
        "id": "FhahPtRmAS6H"
      },
      "source": [
        "Also variables can be called in expressions and operations can mix integers and floats."
      ]
    },
    {
      "cell_type": "code",
      "execution_count": null,
      "metadata": {
        "id": "aVmqVgnlAav_"
      },
      "outputs": [],
      "source": [
        "G = 5 - a\n",
        "H = a * 2\n",
        "I = a * b # returns a float"
      ]
    },
    {
      "cell_type": "code",
      "execution_count": null,
      "metadata": {
        "colab": {
          "base_uri": "https://localhost:8080/"
        },
        "id": "pildDKNbD63i",
        "outputId": "3c369a45-da72-4392-a3a1-f8ffec6b7229"
      },
      "outputs": [
        {
          "name": "stdout",
          "output_type": "stream",
          "text": [
            "-6\n"
          ]
        }
      ],
      "source": [
        "print(G)"
      ]
    },
    {
      "cell_type": "markdown",
      "metadata": {
        "id": "Ya0kyjYlFCSY"
      },
      "source": [
        "## **Boolean**"
      ]
    },
    {
      "cell_type": "markdown",
      "metadata": {
        "id": "qNvyzVgdFE4B"
      },
      "source": [
        "We have already seen that the operator `=` assigns some data to a variable. The function `==` checks if two variables are the same. The value returned is a boolean."
      ]
    },
    {
      "cell_type": "code",
      "execution_count": null,
      "metadata": {
        "colab": {
          "base_uri": "https://localhost:8080/"
        },
        "id": "uILg9jLxFZCN",
        "outputId": "a5b0d36c-fc2b-4ff4-ad49-c6ac419064d4"
      },
      "outputs": [
        {
          "name": "stdout",
          "output_type": "stream",
          "text": [
            "True\n",
            "False\n"
          ]
        }
      ],
      "source": [
        "print(G == B)\n",
        "print(G == A)"
      ]
    },
    {
      "cell_type": "markdown",
      "metadata": {
        "id": "fV43NFT1ErlA"
      },
      "source": [
        "## **Strings**"
      ]
    },
    {
      "cell_type": "markdown",
      "metadata": {
        "id": "T5tZiUikGWC3"
      },
      "source": [
        "Now let's define some strings"
      ]
    },
    {
      "cell_type": "code",
      "execution_count": null,
      "metadata": {
        "id": "QI5xiVEIGZq6"
      },
      "outputs": [],
      "source": [
        "s1 = 'Humanitarian'\n",
        "s2 = 'Engineering'\n",
        "s3 = 'and'\n",
        "s4 = \"Data\" # you can use either '' or \"\".\n",
        "s5 = 'Science'"
      ]
    },
    {
      "cell_type": "markdown",
      "metadata": {
        "id": "f7rHzeM0asvB"
      },
      "source": [
        "*Note:* It is good practice to use one approach consistently (either `''` or `\"\"`) and not mix them."
      ]
    },
    {
      "cell_type": "markdown",
      "metadata": {
        "id": "QgNQDjQKAklK"
      },
      "source": [
        "You can concatenate strings using the `+` operator"
      ]
    },
    {
      "cell_type": "code",
      "execution_count": null,
      "metadata": {
        "id": "070nVr0cAqlx"
      },
      "outputs": [],
      "source": [
        "humEng = s1 + s2\n",
        "humDataScience = s1 + s4 + s5\n",
        "humEngDataScience = humEng + s3 + s4 + s5 + 'is the best'"
      ]
    },
    {
      "cell_type": "code",
      "execution_count": null,
      "metadata": {
        "colab": {
          "base_uri": "https://localhost:8080/"
        },
        "id": "MFEmY8D6EBmi",
        "outputId": "82205e17-1624-46da-9d88-15b1f8032990"
      },
      "outputs": [
        {
          "name": "stdout",
          "output_type": "stream",
          "text": [
            "HumanitarianEngineering\n",
            "HumanitarianDataScience\n",
            "HumanitarianEngineeringandDataScienceis the best\n"
          ]
        }
      ],
      "source": [
        "print(humEng)\n",
        "print(humDataScience)\n",
        "print(humEngDataScience)"
      ]
    },
    {
      "cell_type": "markdown",
      "metadata": {
        "id": "rKKFxOciac0D"
      },
      "source": [
        "Note that there are no spaces. Try to redefine the strings to add the spaces."
      ]
    },
    {
      "cell_type": "markdown",
      "metadata": {
        "id": "tBQ7qJudbVZp"
      },
      "source": [
        "You can replicate a string by using the `*` operator\n"
      ]
    },
    {
      "cell_type": "code",
      "execution_count": null,
      "metadata": {
        "colab": {
          "base_uri": "https://localhost:8080/"
        },
        "id": "w-wpu3Apbiv2",
        "outputId": "3a209259-38f5-4293-ea3a-1c5642863aff"
      },
      "outputs": [
        {
          "name": "stdout",
          "output_type": "stream",
          "text": [
            "HumanitarianHumanitarianHumanitarian\n"
          ]
        }
      ],
      "source": [
        "print(3*s1)"
      ]
    },
    {
      "cell_type": "markdown",
      "metadata": {
        "id": "oWtNFXTzbpwR"
      },
      "source": [
        "You can check how many characters are in a string using the `len()` function.\n",
        "\n",
        "*Note*: each space counts as a character."
      ]
    },
    {
      "cell_type": "code",
      "execution_count": null,
      "metadata": {
        "colab": {
          "base_uri": "https://localhost:8080/"
        },
        "id": "MhHrgeHJb3wv",
        "outputId": "bc657c70-3ca9-4db7-8f0b-4c793d0d0577"
      },
      "outputs": [
        {
          "name": "stdout",
          "output_type": "stream",
          "text": [
            "23\n"
          ]
        }
      ],
      "source": [
        "print(len(humEng))"
      ]
    },
    {
      "cell_type": "markdown",
      "metadata": {
        "id": "fqmc1LHvb-T4"
      },
      "source": [
        "You can index over a string to select specific elements of it.\n",
        "\n",
        " Indexing in Python starts at 0, which means that the first element in a sequence has an index of 0, the second element has an index of 1, and so on."
      ]
    },
    {
      "cell_type": "code",
      "execution_count": null,
      "metadata": {
        "colab": {
          "base_uri": "https://localhost:8080/",
          "height": 35
        },
        "id": "aITnLRQzccA7",
        "outputId": "7de3fb7f-ac58-4c4c-a6dd-9f62e38c4c17"
      },
      "outputs": [
        {
          "data": {
            "application/vnd.google.colaboratory.intrinsic+json": {
              "type": "string"
            },
            "text/plain": [
              "'inn'"
            ]
          },
          "execution_count": 51,
          "metadata": {},
          "output_type": "execute_result"
        }
      ],
      "source": [
        "humEng[0]\n",
        "\n",
        "humEng[:5] # access the first 5 characters\n",
        "humEng[-4:] # access the last 4 characters\n",
        "\n",
        "humEng[9:15] # access characters from index 9 to 15\n",
        "humEng[9:15:2] # access every other character from index 9 to 15"
      ]
    },
    {
      "cell_type": "markdown",
      "metadata": {
        "id": "7qtOP590cwph"
      },
      "source": [
        "The last character is located at the position `len(string)-1`. The last character can be also called with the index -1 and the index -2 refers to the second to last character, and so on."
      ]
    },
    {
      "cell_type": "code",
      "execution_count": null,
      "metadata": {
        "id": "iFhaKwwScwap"
      },
      "outputs": [],
      "source": [
        "print(humEng[22])\n",
        "print(humEng[-1])\n",
        "print(humEng[-2])"
      ]
    },
    {
      "cell_type": "markdown",
      "metadata": {
        "id": "Zf2LYKojdJz7"
      },
      "source": [
        "You can access a range of elements using `:`."
      ]
    },
    {
      "cell_type": "code",
      "execution_count": null,
      "metadata": {
        "colab": {
          "base_uri": "https://localhost:8080/",
          "height": 35
        },
        "id": "I84Ogsl5dVVq",
        "outputId": "a3838cb0-9326-48ec-ccff-798e0adc3e31"
      },
      "outputs": [
        {
          "data": {
            "application/vnd.google.colaboratory.intrinsic+json": {
              "type": "string"
            },
            "text/plain": [
              "'ring'"
            ]
          },
          "execution_count": 54,
          "metadata": {},
          "output_type": "execute_result"
        }
      ],
      "source": [
        "print(humEng[9:15]) # access characters from index 9 to 15\n",
        "print(humEng[:5]) # access the first 5 characters\n",
        "print(humEng[-4:]) # access the last 4 characters\n",
        "print(humEng[9:15:2]) # access every other character from index 9 to 15"
      ]
    },
    {
      "cell_type": "markdown",
      "metadata": {
        "id": "yndJUzPNhkCx"
      },
      "source": [
        "A method is a function that is defined for a specific data type (i.e., does not work with other data types). `.upper()`, `.lower()` and `.title()` are common string methods."
      ]
    },
    {
      "cell_type": "code",
      "execution_count": null,
      "metadata": {
        "colab": {
          "base_uri": "https://localhost:8080/"
        },
        "id": "XI-y1d_UhtV1",
        "outputId": "e7350c96-ba26-4af8-9193-c2029318390b"
      },
      "outputs": [
        {
          "name": "stdout",
          "output_type": "stream",
          "text": [
            "humanitarianengineeringanddatascienceis the best\n",
            "HUMANITARIANENGINEERINGANDDATASCIENCEIS THE BEST\n",
            "Humanitarianengineeringanddatascienceis The Best\n"
          ]
        }
      ],
      "source": [
        "print(humEngDataScience.lower())\n",
        "print(humEngDataScience.upper())\n",
        "print(humEngDataScience.title())"
      ]
    },
    {
      "cell_type": "markdown",
      "metadata": {
        "id": "7k2eUsdVXqdH"
      },
      "source": [
        "You can check the other available methods for the data type using the `help()` function."
      ]
    },
    {
      "cell_type": "code",
      "execution_count": null,
      "metadata": {
        "colab": {
          "base_uri": "https://localhost:8080/"
        },
        "id": "ltmJCWWIXxGq",
        "outputId": "635ab66d-9c48-423a-c82a-0d2c420006d1"
      },
      "outputs": [
        {
          "name": "stdout",
          "output_type": "stream",
          "text": [
            "Help on class str in module builtins:\n",
            "\n",
            "class str(object)\n",
            " |  str(object='') -> str\n",
            " |  str(bytes_or_buffer[, encoding[, errors]]) -> str\n",
            " |  \n",
            " |  Create a new string object from the given object. If encoding or\n",
            " |  errors is specified, then the object must expose a data buffer\n",
            " |  that will be decoded using the given encoding and error handler.\n",
            " |  Otherwise, returns the result of object.__str__() (if defined)\n",
            " |  or repr(object).\n",
            " |  encoding defaults to sys.getdefaultencoding().\n",
            " |  errors defaults to 'strict'.\n",
            " |  \n",
            " |  Methods defined here:\n",
            " |  \n",
            " |  __add__(self, value, /)\n",
            " |      Return self+value.\n",
            " |  \n",
            " |  __contains__(self, key, /)\n",
            " |      Return key in self.\n",
            " |  \n",
            " |  __eq__(self, value, /)\n",
            " |      Return self==value.\n",
            " |  \n",
            " |  __format__(self, format_spec, /)\n",
            " |      Return a formatted version of the string as described by format_spec.\n",
            " |  \n",
            " |  __ge__(self, value, /)\n",
            " |      Return self>=value.\n",
            " |  \n",
            " |  __getattribute__(self, name, /)\n",
            " |      Return getattr(self, name).\n",
            " |  \n",
            " |  __getitem__(self, key, /)\n",
            " |      Return self[key].\n",
            " |  \n",
            " |  __getnewargs__(...)\n",
            " |  \n",
            " |  __gt__(self, value, /)\n",
            " |      Return self>value.\n",
            " |  \n",
            " |  __hash__(self, /)\n",
            " |      Return hash(self).\n",
            " |  \n",
            " |  __iter__(self, /)\n",
            " |      Implement iter(self).\n",
            " |  \n",
            " |  __le__(self, value, /)\n",
            " |      Return self<=value.\n",
            " |  \n",
            " |  __len__(self, /)\n",
            " |      Return len(self).\n",
            " |  \n",
            " |  __lt__(self, value, /)\n",
            " |      Return self<value.\n",
            " |  \n",
            " |  __mod__(self, value, /)\n",
            " |      Return self%value.\n",
            " |  \n",
            " |  __mul__(self, value, /)\n",
            " |      Return self*value.\n",
            " |  \n",
            " |  __ne__(self, value, /)\n",
            " |      Return self!=value.\n",
            " |  \n",
            " |  __repr__(self, /)\n",
            " |      Return repr(self).\n",
            " |  \n",
            " |  __rmod__(self, value, /)\n",
            " |      Return value%self.\n",
            " |  \n",
            " |  __rmul__(self, value, /)\n",
            " |      Return value*self.\n",
            " |  \n",
            " |  __sizeof__(self, /)\n",
            " |      Return the size of the string in memory, in bytes.\n",
            " |  \n",
            " |  __str__(self, /)\n",
            " |      Return str(self).\n",
            " |  \n",
            " |  capitalize(self, /)\n",
            " |      Return a capitalized version of the string.\n",
            " |      \n",
            " |      More specifically, make the first character have upper case and the rest lower\n",
            " |      case.\n",
            " |  \n",
            " |  casefold(self, /)\n",
            " |      Return a version of the string suitable for caseless comparisons.\n",
            " |  \n",
            " |  center(self, width, fillchar=' ', /)\n",
            " |      Return a centered string of length width.\n",
            " |      \n",
            " |      Padding is done using the specified fill character (default is a space).\n",
            " |  \n",
            " |  count(...)\n",
            " |      S.count(sub[, start[, end]]) -> int\n",
            " |      \n",
            " |      Return the number of non-overlapping occurrences of substring sub in\n",
            " |      string S[start:end].  Optional arguments start and end are\n",
            " |      interpreted as in slice notation.\n",
            " |  \n",
            " |  encode(self, /, encoding='utf-8', errors='strict')\n",
            " |      Encode the string using the codec registered for encoding.\n",
            " |      \n",
            " |      encoding\n",
            " |        The encoding in which to encode the string.\n",
            " |      errors\n",
            " |        The error handling scheme to use for encoding errors.\n",
            " |        The default is 'strict' meaning that encoding errors raise a\n",
            " |        UnicodeEncodeError.  Other possible values are 'ignore', 'replace' and\n",
            " |        'xmlcharrefreplace' as well as any other name registered with\n",
            " |        codecs.register_error that can handle UnicodeEncodeErrors.\n",
            " |  \n",
            " |  endswith(...)\n",
            " |      S.endswith(suffix[, start[, end]]) -> bool\n",
            " |      \n",
            " |      Return True if S ends with the specified suffix, False otherwise.\n",
            " |      With optional start, test S beginning at that position.\n",
            " |      With optional end, stop comparing S at that position.\n",
            " |      suffix can also be a tuple of strings to try.\n",
            " |  \n",
            " |  expandtabs(self, /, tabsize=8)\n",
            " |      Return a copy where all tab characters are expanded using spaces.\n",
            " |      \n",
            " |      If tabsize is not given, a tab size of 8 characters is assumed.\n",
            " |  \n",
            " |  find(...)\n",
            " |      S.find(sub[, start[, end]]) -> int\n",
            " |      \n",
            " |      Return the lowest index in S where substring sub is found,\n",
            " |      such that sub is contained within S[start:end].  Optional\n",
            " |      arguments start and end are interpreted as in slice notation.\n",
            " |      \n",
            " |      Return -1 on failure.\n",
            " |  \n",
            " |  format(...)\n",
            " |      S.format(*args, **kwargs) -> str\n",
            " |      \n",
            " |      Return a formatted version of S, using substitutions from args and kwargs.\n",
            " |      The substitutions are identified by braces ('{' and '}').\n",
            " |  \n",
            " |  format_map(...)\n",
            " |      S.format_map(mapping) -> str\n",
            " |      \n",
            " |      Return a formatted version of S, using substitutions from mapping.\n",
            " |      The substitutions are identified by braces ('{' and '}').\n",
            " |  \n",
            " |  index(...)\n",
            " |      S.index(sub[, start[, end]]) -> int\n",
            " |      \n",
            " |      Return the lowest index in S where substring sub is found,\n",
            " |      such that sub is contained within S[start:end].  Optional\n",
            " |      arguments start and end are interpreted as in slice notation.\n",
            " |      \n",
            " |      Raises ValueError when the substring is not found.\n",
            " |  \n",
            " |  isalnum(self, /)\n",
            " |      Return True if the string is an alpha-numeric string, False otherwise.\n",
            " |      \n",
            " |      A string is alpha-numeric if all characters in the string are alpha-numeric and\n",
            " |      there is at least one character in the string.\n",
            " |  \n",
            " |  isalpha(self, /)\n",
            " |      Return True if the string is an alphabetic string, False otherwise.\n",
            " |      \n",
            " |      A string is alphabetic if all characters in the string are alphabetic and there\n",
            " |      is at least one character in the string.\n",
            " |  \n",
            " |  isascii(self, /)\n",
            " |      Return True if all characters in the string are ASCII, False otherwise.\n",
            " |      \n",
            " |      ASCII characters have code points in the range U+0000-U+007F.\n",
            " |      Empty string is ASCII too.\n",
            " |  \n",
            " |  isdecimal(self, /)\n",
            " |      Return True if the string is a decimal string, False otherwise.\n",
            " |      \n",
            " |      A string is a decimal string if all characters in the string are decimal and\n",
            " |      there is at least one character in the string.\n",
            " |  \n",
            " |  isdigit(self, /)\n",
            " |      Return True if the string is a digit string, False otherwise.\n",
            " |      \n",
            " |      A string is a digit string if all characters in the string are digits and there\n",
            " |      is at least one character in the string.\n",
            " |  \n",
            " |  isidentifier(self, /)\n",
            " |      Return True if the string is a valid Python identifier, False otherwise.\n",
            " |      \n",
            " |      Call keyword.iskeyword(s) to test whether string s is a reserved identifier,\n",
            " |      such as \"def\" or \"class\".\n",
            " |  \n",
            " |  islower(self, /)\n",
            " |      Return True if the string is a lowercase string, False otherwise.\n",
            " |      \n",
            " |      A string is lowercase if all cased characters in the string are lowercase and\n",
            " |      there is at least one cased character in the string.\n",
            " |  \n",
            " |  isnumeric(self, /)\n",
            " |      Return True if the string is a numeric string, False otherwise.\n",
            " |      \n",
            " |      A string is numeric if all characters in the string are numeric and there is at\n",
            " |      least one character in the string.\n",
            " |  \n",
            " |  isprintable(self, /)\n",
            " |      Return True if the string is printable, False otherwise.\n",
            " |      \n",
            " |      A string is printable if all of its characters are considered printable in\n",
            " |      repr() or if it is empty.\n",
            " |  \n",
            " |  isspace(self, /)\n",
            " |      Return True if the string is a whitespace string, False otherwise.\n",
            " |      \n",
            " |      A string is whitespace if all characters in the string are whitespace and there\n",
            " |      is at least one character in the string.\n",
            " |  \n",
            " |  istitle(self, /)\n",
            " |      Return True if the string is a title-cased string, False otherwise.\n",
            " |      \n",
            " |      In a title-cased string, upper- and title-case characters may only\n",
            " |      follow uncased characters and lowercase characters only cased ones.\n",
            " |  \n",
            " |  isupper(self, /)\n",
            " |      Return True if the string is an uppercase string, False otherwise.\n",
            " |      \n",
            " |      A string is uppercase if all cased characters in the string are uppercase and\n",
            " |      there is at least one cased character in the string.\n",
            " |  \n",
            " |  join(self, iterable, /)\n",
            " |      Concatenate any number of strings.\n",
            " |      \n",
            " |      The string whose method is called is inserted in between each given string.\n",
            " |      The result is returned as a new string.\n",
            " |      \n",
            " |      Example: '.'.join(['ab', 'pq', 'rs']) -> 'ab.pq.rs'\n",
            " |  \n",
            " |  ljust(self, width, fillchar=' ', /)\n",
            " |      Return a left-justified string of length width.\n",
            " |      \n",
            " |      Padding is done using the specified fill character (default is a space).\n",
            " |  \n",
            " |  lower(self, /)\n",
            " |      Return a copy of the string converted to lowercase.\n",
            " |  \n",
            " |  lstrip(self, chars=None, /)\n",
            " |      Return a copy of the string with leading whitespace removed.\n",
            " |      \n",
            " |      If chars is given and not None, remove characters in chars instead.\n",
            " |  \n",
            " |  partition(self, sep, /)\n",
            " |      Partition the string into three parts using the given separator.\n",
            " |      \n",
            " |      This will search for the separator in the string.  If the separator is found,\n",
            " |      returns a 3-tuple containing the part before the separator, the separator\n",
            " |      itself, and the part after it.\n",
            " |      \n",
            " |      If the separator is not found, returns a 3-tuple containing the original string\n",
            " |      and two empty strings.\n",
            " |  \n",
            " |  removeprefix(self, prefix, /)\n",
            " |      Return a str with the given prefix string removed if present.\n",
            " |      \n",
            " |      If the string starts with the prefix string, return string[len(prefix):].\n",
            " |      Otherwise, return a copy of the original string.\n",
            " |  \n",
            " |  removesuffix(self, suffix, /)\n",
            " |      Return a str with the given suffix string removed if present.\n",
            " |      \n",
            " |      If the string ends with the suffix string and that suffix is not empty,\n",
            " |      return string[:-len(suffix)]. Otherwise, return a copy of the original\n",
            " |      string.\n",
            " |  \n",
            " |  replace(self, old, new, count=-1, /)\n",
            " |      Return a copy with all occurrences of substring old replaced by new.\n",
            " |      \n",
            " |        count\n",
            " |          Maximum number of occurrences to replace.\n",
            " |          -1 (the default value) means replace all occurrences.\n",
            " |      \n",
            " |      If the optional argument count is given, only the first count occurrences are\n",
            " |      replaced.\n",
            " |  \n",
            " |  rfind(...)\n",
            " |      S.rfind(sub[, start[, end]]) -> int\n",
            " |      \n",
            " |      Return the highest index in S where substring sub is found,\n",
            " |      such that sub is contained within S[start:end].  Optional\n",
            " |      arguments start and end are interpreted as in slice notation.\n",
            " |      \n",
            " |      Return -1 on failure.\n",
            " |  \n",
            " |  rindex(...)\n",
            " |      S.rindex(sub[, start[, end]]) -> int\n",
            " |      \n",
            " |      Return the highest index in S where substring sub is found,\n",
            " |      such that sub is contained within S[start:end].  Optional\n",
            " |      arguments start and end are interpreted as in slice notation.\n",
            " |      \n",
            " |      Raises ValueError when the substring is not found.\n",
            " |  \n",
            " |  rjust(self, width, fillchar=' ', /)\n",
            " |      Return a right-justified string of length width.\n",
            " |      \n",
            " |      Padding is done using the specified fill character (default is a space).\n",
            " |  \n",
            " |  rpartition(self, sep, /)\n",
            " |      Partition the string into three parts using the given separator.\n",
            " |      \n",
            " |      This will search for the separator in the string, starting at the end. If\n",
            " |      the separator is found, returns a 3-tuple containing the part before the\n",
            " |      separator, the separator itself, and the part after it.\n",
            " |      \n",
            " |      If the separator is not found, returns a 3-tuple containing two empty strings\n",
            " |      and the original string.\n",
            " |  \n",
            " |  rsplit(self, /, sep=None, maxsplit=-1)\n",
            " |      Return a list of the substrings in the string, using sep as the separator string.\n",
            " |      \n",
            " |        sep\n",
            " |          The separator used to split the string.\n",
            " |      \n",
            " |          When set to None (the default value), will split on any whitespace\n",
            " |          character (including \\\\n \\\\r \\\\t \\\\f and spaces) and will discard\n",
            " |          empty strings from the result.\n",
            " |        maxsplit\n",
            " |          Maximum number of splits (starting from the left).\n",
            " |          -1 (the default value) means no limit.\n",
            " |      \n",
            " |      Splitting starts at the end of the string and works to the front.\n",
            " |  \n",
            " |  rstrip(self, chars=None, /)\n",
            " |      Return a copy of the string with trailing whitespace removed.\n",
            " |      \n",
            " |      If chars is given and not None, remove characters in chars instead.\n",
            " |  \n",
            " |  split(self, /, sep=None, maxsplit=-1)\n",
            " |      Return a list of the substrings in the string, using sep as the separator string.\n",
            " |      \n",
            " |        sep\n",
            " |          The separator used to split the string.\n",
            " |      \n",
            " |          When set to None (the default value), will split on any whitespace\n",
            " |          character (including \\\\n \\\\r \\\\t \\\\f and spaces) and will discard\n",
            " |          empty strings from the result.\n",
            " |        maxsplit\n",
            " |          Maximum number of splits (starting from the left).\n",
            " |          -1 (the default value) means no limit.\n",
            " |      \n",
            " |      Note, str.split() is mainly useful for data that has been intentionally\n",
            " |      delimited.  With natural text that includes punctuation, consider using\n",
            " |      the regular expression module.\n",
            " |  \n",
            " |  splitlines(self, /, keepends=False)\n",
            " |      Return a list of the lines in the string, breaking at line boundaries.\n",
            " |      \n",
            " |      Line breaks are not included in the resulting list unless keepends is given and\n",
            " |      true.\n",
            " |  \n",
            " |  startswith(...)\n",
            " |      S.startswith(prefix[, start[, end]]) -> bool\n",
            " |      \n",
            " |      Return True if S starts with the specified prefix, False otherwise.\n",
            " |      With optional start, test S beginning at that position.\n",
            " |      With optional end, stop comparing S at that position.\n",
            " |      prefix can also be a tuple of strings to try.\n",
            " |  \n",
            " |  strip(self, chars=None, /)\n",
            " |      Return a copy of the string with leading and trailing whitespace removed.\n",
            " |      \n",
            " |      If chars is given and not None, remove characters in chars instead.\n",
            " |  \n",
            " |  swapcase(self, /)\n",
            " |      Convert uppercase characters to lowercase and lowercase characters to uppercase.\n",
            " |  \n",
            " |  title(self, /)\n",
            " |      Return a version of the string where each word is titlecased.\n",
            " |      \n",
            " |      More specifically, words start with uppercased characters and all remaining\n",
            " |      cased characters have lower case.\n",
            " |  \n",
            " |  translate(self, table, /)\n",
            " |      Replace each character in the string using the given translation table.\n",
            " |      \n",
            " |        table\n",
            " |          Translation table, which must be a mapping of Unicode ordinals to\n",
            " |          Unicode ordinals, strings, or None.\n",
            " |      \n",
            " |      The table must implement lookup/indexing via __getitem__, for instance a\n",
            " |      dictionary or list.  If this operation raises LookupError, the character is\n",
            " |      left untouched.  Characters mapped to None are deleted.\n",
            " |  \n",
            " |  upper(self, /)\n",
            " |      Return a copy of the string converted to uppercase.\n",
            " |  \n",
            " |  zfill(self, width, /)\n",
            " |      Pad a numeric string with zeros on the left, to fill a field of the given width.\n",
            " |      \n",
            " |      The string is never truncated.\n",
            " |  \n",
            " |  ----------------------------------------------------------------------\n",
            " |  Static methods defined here:\n",
            " |  \n",
            " |  __new__(*args, **kwargs) from builtins.type\n",
            " |      Create and return a new object.  See help(type) for accurate signature.\n",
            " |  \n",
            " |  maketrans(...)\n",
            " |      Return a translation table usable for str.translate().\n",
            " |      \n",
            " |      If there is only one argument, it must be a dictionary mapping Unicode\n",
            " |      ordinals (integers) or characters to Unicode ordinals, strings or None.\n",
            " |      Character keys will be then converted to ordinals.\n",
            " |      If there are two arguments, they must be strings of equal length, and\n",
            " |      in the resulting dictionary, each character in x will be mapped to the\n",
            " |      character at the same position in y. If there is a third argument, it\n",
            " |      must be a string, whose characters will be mapped to None in the result.\n",
            "\n"
          ]
        }
      ],
      "source": [
        "help(str)"
      ]
    },
    {
      "cell_type": "markdown",
      "metadata": {
        "id": "WHwNVWHZYMsw"
      },
      "source": [
        "## **Tuples**"
      ]
    },
    {
      "cell_type": "markdown",
      "metadata": {
        "id": "d6zeA48oYxgK"
      },
      "source": [
        "Tuples are ordered sequences. They are defined by round brackets (commas are mandatory) and can contain elements of the same type or different type."
      ]
    },
    {
      "cell_type": "code",
      "execution_count": null,
      "metadata": {
        "id": "NgdyEW9QYcs5"
      },
      "outputs": [],
      "source": [
        "tup1 = (5,1,6)\n",
        "tup2 = ('a', 'b', 'c', 'd')\n",
        "tup3 = (4, 'five and half', 6, 6.5, 'seven')"
      ]
    },
    {
      "cell_type": "markdown",
      "metadata": {
        "id": "Qa3qgdYkbjiQ"
      },
      "source": [
        "You can access the elements of a tuple like you access those of a string. The first element is called with a 0 and the last element is located at the position `len(tup3)-1`.\n",
        "\n"
      ]
    },
    {
      "cell_type": "code",
      "execution_count": null,
      "metadata": {
        "colab": {
          "base_uri": "https://localhost:8080/"
        },
        "id": "DQWGyUL3bsXN",
        "outputId": "f05081a8-eb8c-419d-8cf9-21532bd73fcc"
      },
      "outputs": [
        {
          "name": "stdout",
          "output_type": "stream",
          "text": [
            "4\n",
            "seven\n"
          ]
        }
      ],
      "source": [
        "print(tup3[0])\n",
        "print(tup3[len(tup3)-1])"
      ]
    },
    {
      "cell_type": "markdown",
      "metadata": {
        "id": "9xkdynsb7CdE"
      },
      "source": [
        "The last element can be also called with the index -1."
      ]
    },
    {
      "cell_type": "code",
      "execution_count": null,
      "metadata": {
        "colab": {
          "base_uri": "https://localhost:8080/"
        },
        "id": "2qfpXpy_7ENV",
        "outputId": "d68c4ccc-e7ce-4e72-e9f2-932ae789117f"
      },
      "outputs": [
        {
          "name": "stdout",
          "output_type": "stream",
          "text": [
            "seven\n"
          ]
        }
      ],
      "source": [
        "print(tup3[-1])"
      ]
    },
    {
      "cell_type": "markdown",
      "metadata": {
        "id": "kg1zDF187IHk"
      },
      "source": [
        "The index -2 refers to the second to last element, and so on."
      ]
    },
    {
      "cell_type": "code",
      "execution_count": null,
      "metadata": {
        "colab": {
          "base_uri": "https://localhost:8080/"
        },
        "id": "KxfYqj0y7MaC",
        "outputId": "309ee456-0388-4a1c-bc95-f7556c19f53a"
      },
      "outputs": [
        {
          "name": "stdout",
          "output_type": "stream",
          "text": [
            "6.5\n"
          ]
        }
      ],
      "source": [
        "print(tup3[-2])"
      ]
    },
    {
      "cell_type": "markdown",
      "metadata": {
        "id": "2gEmyHtI7Qsj"
      },
      "source": [
        "As for strings, you can access ranges of elements using `:`."
      ]
    },
    {
      "cell_type": "code",
      "execution_count": null,
      "metadata": {
        "colab": {
          "base_uri": "https://localhost:8080/"
        },
        "id": "foWpMqgl7ZR-",
        "outputId": "1507b642-cc32-4346-92c1-cf0ac16fc607"
      },
      "outputs": [
        {
          "name": "stdout",
          "output_type": "stream",
          "text": [
            "(4, 'five and half')\n",
            "(6, 6.5, 'seven')\n",
            "('five and half', 6)\n",
            "(4, 'five and half')\n"
          ]
        }
      ],
      "source": [
        "print(tup3[:2]) # access the first 2 elements\n",
        "print(tup3[-3:]) # access the last 3 elements\n",
        "print(tup3[1:3]) # access elements from index 1 to 3\n",
        "print(tup3[:2]) # access every other element in the tuple"
      ]
    },
    {
      "cell_type": "markdown",
      "metadata": {
        "id": "J7h7E8EW7j0O"
      },
      "source": [
        "Tuples can also contain other tuples (or lists). This is called nesting."
      ]
    },
    {
      "cell_type": "code",
      "execution_count": null,
      "metadata": {
        "id": "7wJDTEyT7uQt"
      },
      "outputs": [],
      "source": [
        "tup4 = ('lev1', 'lev1', ('lev2', 'lev2', 'lev2'))"
      ]
    },
    {
      "cell_type": "markdown",
      "metadata": {
        "id": "J93yC0K475o8"
      },
      "source": [
        "You can access the tuple at the end of `tup4` as any other element in the tuple, using indexing."
      ]
    },
    {
      "cell_type": "code",
      "execution_count": null,
      "metadata": {
        "colab": {
          "base_uri": "https://localhost:8080/"
        },
        "id": "AHVEhFhF8I_q",
        "outputId": "541b119a-e928-4652-ce0f-4aa64548464f"
      },
      "outputs": [
        {
          "name": "stdout",
          "output_type": "stream",
          "text": [
            "('lev2', 'lev2', 'lev2')\n"
          ]
        }
      ],
      "source": [
        "tupInside = tup4[-1]\n",
        "print(tupInside)"
      ]
    },
    {
      "cell_type": "markdown",
      "metadata": {
        "id": "WMdoR-GT8RcC"
      },
      "source": [
        "You can then access elements inside `tupInside` by indexing over them."
      ]
    },
    {
      "cell_type": "code",
      "execution_count": null,
      "metadata": {
        "colab": {
          "base_uri": "https://localhost:8080/"
        },
        "id": "Gq-t_rX08dXC",
        "outputId": "a8344528-cab8-482c-f89e-c519abf382c1"
      },
      "outputs": [
        {
          "name": "stdout",
          "output_type": "stream",
          "text": [
            "lev2\n"
          ]
        }
      ],
      "source": [
        "print(tupInside[2])"
      ]
    },
    {
      "cell_type": "markdown",
      "metadata": {
        "id": "mUCzXUTU8sAD"
      },
      "source": [
        "Now run the below code."
      ]
    },
    {
      "cell_type": "code",
      "execution_count": null,
      "metadata": {
        "colab": {
          "base_uri": "https://localhost:8080/"
        },
        "id": "L2hEQ-hW8kai",
        "outputId": "ab3a9ebd-c8dd-4fe9-88a7-c3709697626c"
      },
      "outputs": [
        {
          "data": {
            "text/plain": [
              "True"
            ]
          },
          "execution_count": 63,
          "metadata": {},
          "output_type": "execute_result"
        }
      ],
      "source": [
        "print(tupInside[2] == tup4[-1][2])"
      ]
    },
    {
      "cell_type": "markdown",
      "metadata": {
        "id": "ZEakw5mG8voy"
      },
      "source": [
        "That's tight, `tupInside` and `tup4[-1]` are exactly the same and you can index over either of them to obtain the same element."
      ]
    },
    {
      "cell_type": "markdown",
      "metadata": {
        "id": "x3Usq3Hx9KD9"
      },
      "source": [
        "Tuples are **IMMUTABLE**. Once created they can't be changed.\n",
        "\n",
        "Try running the following line of code."
      ]
    },
    {
      "cell_type": "code",
      "execution_count": null,
      "metadata": {
        "id": "QlPutnvg9NTQ"
      },
      "outputs": [],
      "source": [
        "# tup3[0] = 5"
      ]
    },
    {
      "cell_type": "markdown",
      "metadata": {
        "id": "t41o7xs49h-w"
      },
      "source": [
        "If you want to manipulate tuples, you need to assign the result to another variable."
      ]
    },
    {
      "cell_type": "code",
      "execution_count": null,
      "metadata": {
        "id": "q8JhowqY9jky"
      },
      "outputs": [],
      "source": [
        "tup1sorted = sorted(tup1) # the sort() function changes the order of values"
      ]
    },
    {
      "cell_type": "markdown",
      "metadata": {
        "id": "lwrYpkcw9qZi"
      },
      "source": [
        "Note that the result is not a tuple anymore."
      ]
    },
    {
      "cell_type": "code",
      "execution_count": null,
      "metadata": {
        "colab": {
          "base_uri": "https://localhost:8080/"
        },
        "id": "DduplD4S9rlw",
        "outputId": "10ec3fa8-695b-46c4-d2b3-909ee00e08be"
      },
      "outputs": [
        {
          "data": {
            "text/plain": [
              "list"
            ]
          },
          "execution_count": 66,
          "metadata": {},
          "output_type": "execute_result"
        }
      ],
      "source": [
        "type(tup1sorted)"
      ]
    },
    {
      "cell_type": "markdown",
      "metadata": {
        "id": "n8nZTi8b925R"
      },
      "source": [
        "## **Lists**"
      ]
    },
    {
      "cell_type": "markdown",
      "metadata": {
        "id": "PvUzQQak96FM"
      },
      "source": [
        "A list is a **MUTABLE** ordered sequence of elements."
      ]
    },
    {
      "cell_type": "code",
      "execution_count": null,
      "metadata": {
        "id": "NPub1Naw-H2c"
      },
      "outputs": [],
      "source": [
        "L1 = [4, 9, 0]\n",
        "L2 = [5, 0, 11]"
      ]
    },
    {
      "cell_type": "markdown",
      "metadata": {
        "id": "bJiJFNta-fMk"
      },
      "source": [
        "As for tuples, lists can contain different data types including lists and tuples."
      ]
    },
    {
      "cell_type": "code",
      "execution_count": null,
      "metadata": {
        "id": "FQZGcmH1-e6p"
      },
      "outputs": [],
      "source": [
        "L3 = [1, 'lev1', ('lev2', 'lev2', 'lev2')]"
      ]
    },
    {
      "cell_type": "markdown",
      "metadata": {
        "id": "MqtfgoTl-4he"
      },
      "source": [
        "Unlike tuples, lists can be modified. The code below changes the second element in the list to `'level 1'`."
      ]
    },
    {
      "cell_type": "code",
      "execution_count": null,
      "metadata": {
        "colab": {
          "base_uri": "https://localhost:8080/"
        },
        "id": "FUVxT8pi-ziN",
        "outputId": "68600d3c-8fc2-4320-f1eb-9dd7adb337b1"
      },
      "outputs": [
        {
          "name": "stdout",
          "output_type": "stream",
          "text": [
            "[1, 'level 1', ('lev2', 'lev2', 'lev2')]\n"
          ]
        }
      ],
      "source": [
        "L3[1] = 'level 1'\n",
        "print(L3)"
      ]
    },
    {
      "cell_type": "markdown",
      "metadata": {
        "id": "LCQTWEP--ysj"
      },
      "source": [
        "You can index over a list and its elements exactly as with tuples."
      ]
    },
    {
      "cell_type": "code",
      "execution_count": null,
      "metadata": {
        "colab": {
          "base_uri": "https://localhost:8080/"
        },
        "id": "YuENivgS_qHp",
        "outputId": "1923f4b5-320b-4896-ce40-75a332ff67ed"
      },
      "outputs": [
        {
          "name": "stdout",
          "output_type": "stream",
          "text": [
            "lev2\n"
          ]
        }
      ],
      "source": [
        "print(L3[2][0])"
      ]
    },
    {
      "cell_type": "markdown",
      "metadata": {
        "id": "drS-ThOS_3tg"
      },
      "source": [
        "Now try the following command."
      ]
    },
    {
      "cell_type": "code",
      "execution_count": null,
      "metadata": {
        "id": "oDr3tcpa_xqg"
      },
      "outputs": [],
      "source": [
        "# L3[2][0] = 5"
      ]
    },
    {
      "cell_type": "markdown",
      "metadata": {
        "id": "sRb6N3RcAL7f"
      },
      "source": [
        "That's right. Remember tuples are immutable - even if contained in a list! You cannot change their elements."
      ]
    },
    {
      "cell_type": "markdown",
      "metadata": {
        "id": "Mi50xAohAnII"
      },
      "source": [
        "As for strings, you can use the `+` operator to concatenate lists."
      ]
    },
    {
      "cell_type": "code",
      "execution_count": null,
      "metadata": {
        "colab": {
          "base_uri": "https://localhost:8080/"
        },
        "id": "gz-M4AemAxcT",
        "outputId": "3c797683-1207-4141-ad36-0e36659e7a7f"
      },
      "outputs": [
        {
          "name": "stdout",
          "output_type": "stream",
          "text": [
            "[5, 0, 11, 1, 'level 1', ('lev2', 'lev2', 'lev2')]\n"
          ]
        }
      ],
      "source": [
        "L4 = L2 + L3\n",
        "print(L4)"
      ]
    },
    {
      "cell_type": "markdown",
      "metadata": {
        "id": "aocHzSpgA89A"
      },
      "source": [
        "The method `.append()` adds ONE element to the end of a list."
      ]
    },
    {
      "cell_type": "code",
      "execution_count": null,
      "metadata": {
        "colab": {
          "base_uri": "https://localhost:8080/"
        },
        "id": "jLZI_dwQBO2F",
        "outputId": "d4d29af0-c9d5-4f42-cd5d-6ca2f837c6bd"
      },
      "outputs": [
        {
          "name": "stdout",
          "output_type": "stream",
          "text": [
            "[1, 'level 1', ('lev2', 'lev2', 'lev2'), 1]\n"
          ]
        }
      ],
      "source": [
        "L3.append(1)\n",
        "print(L3)"
      ]
    },
    {
      "cell_type": "markdown",
      "metadata": {
        "id": "_L71uVxWBvmo"
      },
      "source": [
        "The method `.extend()` adds many elements at the end of a list."
      ]
    },
    {
      "cell_type": "code",
      "execution_count": null,
      "metadata": {
        "colab": {
          "base_uri": "https://localhost:8080/"
        },
        "id": "CWmNJ52OB7H9",
        "outputId": "6fdd9f6a-fa9f-4e49-be7f-36954614bb97"
      },
      "outputs": [
        {
          "name": "stdout",
          "output_type": "stream",
          "text": [
            "[4, 9, 0, 4, 8]\n"
          ]
        }
      ],
      "source": [
        "L1.extend([4, 8])\n",
        "print(L1)"
      ]
    },
    {
      "cell_type": "markdown",
      "metadata": {
        "id": "5ojE__1LBW2G"
      },
      "source": [
        "The function `del()` deletes specific elements from a list."
      ]
    },
    {
      "cell_type": "code",
      "execution_count": null,
      "metadata": {
        "colab": {
          "base_uri": "https://localhost:8080/"
        },
        "id": "BpjUL5LMBc0x",
        "outputId": "677dd566-9e25-4c3c-985c-0b23addd5241"
      },
      "outputs": [
        {
          "name": "stdout",
          "output_type": "stream",
          "text": [
            "[1, ('lev2', 'lev2', 'lev2'), 1]\n"
          ]
        }
      ],
      "source": [
        "del(L3[1]) #deleted the second element\n",
        "print(L3)"
      ]
    },
    {
      "cell_type": "markdown",
      "metadata": {
        "id": "3rdMPRQnCNVD"
      },
      "source": [
        "###**Why do we need immutable data types?**"
      ]
    },
    {
      "cell_type": "code",
      "execution_count": null,
      "metadata": {
        "colab": {
          "base_uri": "https://localhost:8080/"
        },
        "id": "QNYXp2hKCXPJ",
        "outputId": "ef426b1b-8ff6-4047-f992-0eebc007c34d"
      },
      "outputs": [
        {
          "name": "stdout",
          "output_type": "stream",
          "text": [
            "[1, 3, 7]\n"
          ]
        }
      ],
      "source": [
        "a = [1, 4, 7]\n",
        "b = a # create an alias of a, named b\n",
        "b[1] = 3 # change one element of b\n",
        "print(a)"
      ]
    },
    {
      "cell_type": "markdown",
      "metadata": {
        "id": "PlctA7MrCipl"
      },
      "source": [
        "We thought we were changing `b` but `a` got changed as well. We need immutable data types so that we do not need to worry that our original object will be accidentally changed."
      ]
    },
    {
      "cell_type": "markdown",
      "metadata": {
        "id": "a08AQGQqDbXo"
      },
      "source": [
        "You can use `help(tuple)` and `help(list)` to access the relevant documentation."
      ]
    },
    {
      "cell_type": "markdown",
      "metadata": {
        "id": "8Oy0Fo3hGoL9"
      },
      "source": [
        "##**Dictionaries**"
      ]
    },
    {
      "cell_type": "markdown",
      "metadata": {
        "id": "0MKVoVKSG-B3"
      },
      "source": [
        "A dictionary is a *ordered* collection of key-value pairs which does not allow duplicates (i.e., cannot have two keys with the same value).\n",
        "\n",
        "They are defined by curly brackets. The format is `\"KeyName\":parameter`. Commas are mandatory.\n",
        "\n",
        "*Note:* As of Python version 3.7, dictionaries are ordered. In Python 3.6 and earlier, dictionaries are unordered."
      ]
    },
    {
      "cell_type": "code",
      "execution_count": null,
      "metadata": {
        "id": "Y4bntOopG8-w"
      },
      "outputs": [],
      "source": [
        "person = {\"Name\": 'Napoleon', \"Height\": 1.45, \"Weight\": 60, \"EmperorYears\": [1804, 1815]}"
      ]
    },
    {
      "cell_type": "markdown",
      "metadata": {
        "id": "Ju_zxSqHIOJx"
      },
      "source": [
        "You can access any element of a dictionary by calling its `KeyName`."
      ]
    },
    {
      "cell_type": "code",
      "execution_count": null,
      "metadata": {
        "colab": {
          "base_uri": "https://localhost:8080/"
        },
        "id": "l_r6OQ-VIan5",
        "outputId": "465a0950-ed32-4f1f-e238-c8c40949d5dc"
      },
      "outputs": [
        {
          "name": "stdout",
          "output_type": "stream",
          "text": [
            "60\n"
          ]
        }
      ],
      "source": [
        "print(person[\"Weight\"])"
      ]
    },
    {
      "cell_type": "markdown",
      "metadata": {
        "id": "rwLTu6U-IbeM"
      },
      "source": [
        "As for lists, you can modify any element of a dictionary."
      ]
    },
    {
      "cell_type": "code",
      "execution_count": null,
      "metadata": {
        "colab": {
          "base_uri": "https://localhost:8080/"
        },
        "id": "Co2d001wIitL",
        "outputId": "41d35958-73e3-47db-abf7-ebeafb1bd093"
      },
      "outputs": [
        {
          "name": "stdout",
          "output_type": "stream",
          "text": [
            "1.6764000000000001\n"
          ]
        }
      ],
      "source": [
        "person[\"Height\"] = 5*0.3048 + 6*0.0254 # he was actually 5'6\n",
        "print(person[\"Height\"])"
      ]
    },
    {
      "cell_type": "markdown",
      "metadata": {
        "id": "vVLzvf3qInGt"
      },
      "source": [
        "You can add a new key-value pair to the `person` dictionary by designing a `KeyName` and assigning a value to it."
      ]
    },
    {
      "cell_type": "code",
      "execution_count": null,
      "metadata": {
        "colab": {
          "base_uri": "https://localhost:8080/"
        },
        "id": "WI7nycV8JOA1",
        "outputId": "9bdb4a01-5596-4bc7-aee8-f67282526ea5"
      },
      "outputs": [
        {
          "name": "stdout",
          "output_type": "stream",
          "text": [
            "{'Name': 'Napoleon', 'Height': 1.6764000000000001, 'Weight': 60, 'EmperorYears': [1804, 1815], 'horseColor': 'White'}\n"
          ]
        }
      ],
      "source": [
        "person[\"horseColor\"] = \"White\"\n",
        "print(person)"
      ]
    },
    {
      "cell_type": "markdown",
      "metadata": {
        "id": "oM7k_0llJWnz"
      },
      "source": [
        "The method `.keys()` shows all keys in a dictionary."
      ]
    },
    {
      "cell_type": "code",
      "execution_count": null,
      "metadata": {
        "colab": {
          "base_uri": "https://localhost:8080/"
        },
        "id": "MsNeY6JEJnbb",
        "outputId": "6cca0e66-4914-4892-9529-075e08a866f9"
      },
      "outputs": [
        {
          "name": "stdout",
          "output_type": "stream",
          "text": [
            "dict_keys(['Name', 'Height', 'Weight', 'EmperorYears', 'horseColor'])\n"
          ]
        }
      ],
      "source": [
        "print(person.keys())"
      ]
    },
    {
      "cell_type": "markdown",
      "metadata": {
        "id": "cqz3LybTJrqf"
      },
      "source": [
        "You can also check if the dictionary contains a specific key using the `in` operator."
      ]
    },
    {
      "cell_type": "code",
      "execution_count": null,
      "metadata": {
        "colab": {
          "base_uri": "https://localhost:8080/"
        },
        "id": "f5gQ3jNnJ_bJ",
        "outputId": "9a26dc10-a5bc-4abe-d2ca-c22aa8867fdd"
      },
      "outputs": [
        {
          "name": "stdout",
          "output_type": "stream",
          "text": [
            "True\n"
          ]
        }
      ],
      "source": [
        "print('Name' in person)"
      ]
    },
    {
      "cell_type": "markdown",
      "metadata": {
        "id": "NqTloa7qKCvI"
      },
      "source": [
        "You can use `help(dict)` to access the relevant documentation."
      ]
    },
    {
      "cell_type": "markdown",
      "metadata": {
        "id": "SJ-6nIr0S_6d"
      },
      "source": [
        "##**Sets**"
      ]
    },
    {
      "cell_type": "markdown",
      "metadata": {
        "id": "hQn-SZwQTS77"
      },
      "source": [
        "A set is a collection which is *unordered*, *unchangeable*, and *unindexed*. You can remove and add items from a set but you cannot change its items. Sets do nto allow duplicates. They are defined with curly brackets. Commas are mandatory."
      ]
    },
    {
      "cell_type": "code",
      "execution_count": null,
      "metadata": {
        "colab": {
          "base_uri": "https://localhost:8080/"
        },
        "id": "MT9xb5NFYOVI",
        "outputId": "e3d6af95-78ea-4437-a58d-01c5e9a41ca9"
      },
      "outputs": [
        {
          "name": "stdout",
          "output_type": "stream",
          "text": [
            "{'Earthquake', 'Flood', 'Pandemics', 'Hurricane'}\n",
            "{'Pandemics', 'Earthquake'}\n"
          ]
        }
      ],
      "source": [
        "hazardsModel1 = {'Flood', 'Earthquake', 'Hurricane', 'Pandemics'}\n",
        "hazardsModel2 = {'Earthquake', 'Pandemics'}\n",
        "print(hazardsModel1)\n",
        "print(hazardsModel2)"
      ]
    },
    {
      "cell_type": "markdown",
      "metadata": {
        "id": "O4dOKAhjYbfm"
      },
      "source": [
        "Lists can have duplicates, sets cannot. If you define a set with duplicates, these will be removed when the set is created."
      ]
    },
    {
      "cell_type": "code",
      "execution_count": null,
      "metadata": {
        "colab": {
          "base_uri": "https://localhost:8080/"
        },
        "id": "uBxkGFmCYVp2",
        "outputId": "09e586f1-bfa1-463a-ad4a-ed56797b449b"
      },
      "outputs": [
        {
          "name": "stdout",
          "output_type": "stream",
          "text": [
            "['Earthquake', 4, 8, 'Pandemics', 'Pandemics']\n",
            "{4, 'Pandemics', 'Earthquake', 'Hurricane', 8}\n"
          ]
        }
      ],
      "source": [
        "dummyList = ['Earthquake', 4, 8, 'Pandemics', 'Pandemics']\n",
        "dummySet = {'Earthquake', 4, 8, 8, 'Hurricane', 'Pandemics', 'Pandemics'}\n",
        "print(dummyList)\n",
        "print(dummySet)"
      ]
    },
    {
      "cell_type": "markdown",
      "metadata": {
        "id": "vqLrAGaGYq6k"
      },
      "source": [
        "Duplicate elements (of string type) are defined considering the case. Lower case precedes upper case."
      ]
    },
    {
      "cell_type": "code",
      "execution_count": null,
      "metadata": {
        "colab": {
          "base_uri": "https://localhost:8080/"
        },
        "id": "bIFHCtw7YtCh",
        "outputId": "898e63da-fe77-4531-d68c-2a77c6356273"
      },
      "outputs": [
        {
          "name": "stdout",
          "output_type": "stream",
          "text": [
            "{4, 'Pandemics', 'Earthquake', 'Hurricane', 8, 'pandemics'}\n"
          ]
        }
      ],
      "source": [
        "print({'Earthquake', 4, 8, 8, 'Hurricane', 'Pandemics', 'pandemics'})"
      ]
    },
    {
      "cell_type": "markdown",
      "metadata": {
        "id": "msk0lzpNY9Sq"
      },
      "source": [
        "You can perform union and intersection operations between two sets using the operators `or` and `and` respectively."
      ]
    },
    {
      "cell_type": "code",
      "execution_count": null,
      "metadata": {
        "colab": {
          "base_uri": "https://localhost:8080/"
        },
        "id": "MUpuFoySZBZ9",
        "outputId": "93549ef4-959c-42f4-c880-e91822159e41"
      },
      "outputs": [
        {
          "name": "stdout",
          "output_type": "stream",
          "text": [
            "{'Earthquake', 'Flood', 'Pandemics', 'Hurricane'}\n",
            "{'Pandemics', 'Earthquake'}\n"
          ]
        }
      ],
      "source": [
        "union = hazardsModel1 or hazardsModel2\n",
        "intersection = hazardsModel1 and hazardsModel2\n",
        "print(union)\n",
        "print(intersection)"
      ]
    },
    {
      "cell_type": "markdown",
      "metadata": {
        "id": "SNaLC0tpZzug"
      },
      "source": [
        "An alternative way to perform union is to use the method `.union()`."
      ]
    },
    {
      "cell_type": "code",
      "execution_count": null,
      "metadata": {
        "colab": {
          "base_uri": "https://localhost:8080/"
        },
        "id": "-5_IWZSvZ5VW",
        "outputId": "c7440928-59b7-44aa-8fac-7e71943c173d"
      },
      "outputs": [
        {
          "name": "stdout",
          "output_type": "stream",
          "text": [
            "{'Hurricane', 'Flood', 'Earthquake', 'Pandemics'}\n"
          ]
        }
      ],
      "source": [
        "union2 = hazardsModel1.union(hazardsModel2)\n",
        "print(union2)"
      ]
    },
    {
      "cell_type": "markdown",
      "metadata": {
        "id": "LHWbPl8WaUjP"
      },
      "source": [
        "You can use the `.add()` method to add elements to your set."
      ]
    },
    {
      "cell_type": "code",
      "execution_count": null,
      "metadata": {
        "colab": {
          "base_uri": "https://localhost:8080/"
        },
        "id": "bQWJUATvagz3",
        "outputId": "e1906914-80b6-449f-f5e4-82146ed9e57a"
      },
      "outputs": [
        {
          "name": "stdout",
          "output_type": "stream",
          "text": [
            "{4, 'Pandemics', 'Earthquake', 'Hurricane', 8, 5}\n"
          ]
        }
      ],
      "source": [
        "dummySet.add(5)\n",
        "print(dummySet)"
      ]
    },
    {
      "cell_type": "markdown",
      "metadata": {
        "id": "qgniuH6aaDD4"
      },
      "source": [
        "Now try running the following commands."
      ]
    },
    {
      "cell_type": "code",
      "execution_count": null,
      "metadata": {
        "colab": {
          "base_uri": "https://localhost:8080/"
        },
        "id": "SQ6gGhY_aH9g",
        "outputId": "6366a644-e385-438e-fdfd-bc5f748bb67d"
      },
      "outputs": [
        {
          "name": "stdout",
          "output_type": "stream",
          "text": [
            "{5, 'Earthquake', 'Flood', 'Pandemics', 'Hurricane'}\n"
          ]
        }
      ],
      "source": [
        "union.add(5)\n",
        "print(union)"
      ]
    },
    {
      "cell_type": "code",
      "execution_count": null,
      "metadata": {
        "colab": {
          "base_uri": "https://localhost:8080/"
        },
        "id": "PhowNjNGaswM",
        "outputId": "2089405d-da59-444e-8f0f-6e4b48928e71"
      },
      "outputs": [
        {
          "name": "stdout",
          "output_type": "stream",
          "text": [
            "{5, 'Earthquake', 'Flood', 'Pandemics', 'Hurricane'}\n"
          ]
        }
      ],
      "source": [
        "print(hazardsModel1)"
      ]
    },
    {
      "cell_type": "markdown",
      "metadata": {
        "id": "nDcU2Vr2aHO4"
      },
      "source": [
        "Adding 5 to the `union` set we also added it to the `hazardsModel1` set."
      ]
    },
    {
      "cell_type": "markdown",
      "metadata": {
        "id": "hsc1A20rbSaV"
      },
      "source": [
        "As for dictionaries, you can check that a specific element is in a set using the `in` operator."
      ]
    },
    {
      "cell_type": "code",
      "execution_count": null,
      "metadata": {
        "id": "K0zY3KkBba-D"
      },
      "outputs": [],
      "source": [
        "print(\"Hurricane\" in hazardsModel1)\n",
        "print(\"Hurricane\" in hazardsModel2)"
      ]
    },
    {
      "cell_type": "markdown",
      "metadata": {
        "id": "GEQDFEMWbb0s"
      },
      "source": [
        "You can use `help(set)` to access the relevant documentation."
      ]
    },
    {
      "cell_type": "markdown",
      "metadata": {
        "id": "b3TDLKr4bisd"
      },
      "source": [
        "## **Comparison Operators**"
      ]
    },
    {
      "cell_type": "markdown",
      "metadata": {
        "id": "q5V6iDpMb2lb"
      },
      "source": [
        "Comparison operators compare some values and return a Boolean (true/false) as a result. Each comparison is called a conditional statement."
      ]
    },
    {
      "cell_type": "code",
      "execution_count": null,
      "metadata": {
        "id": "ws5DcU8ecAFe"
      },
      "outputs": [],
      "source": [
        "a = 6"
      ]
    },
    {
      "cell_type": "markdown",
      "metadata": {
        "id": "5H0GkHmdcH3q"
      },
      "source": [
        "Equality"
      ]
    },
    {
      "cell_type": "code",
      "execution_count": null,
      "metadata": {
        "colab": {
          "base_uri": "https://localhost:8080/"
        },
        "id": "mpalkvQqcE6Y",
        "outputId": "d01a83af-fc78-4ad2-bd10-8a48d8ca0ae5"
      },
      "outputs": [
        {
          "name": "stdout",
          "output_type": "stream",
          "text": [
            "True\n",
            "False\n"
          ]
        }
      ],
      "source": [
        "print(a == 6)\n",
        "print(a == 1)"
      ]
    },
    {
      "cell_type": "markdown",
      "metadata": {
        "id": "jlGhcvW1cM_l"
      },
      "source": [
        "Inequality"
      ]
    },
    {
      "cell_type": "code",
      "execution_count": null,
      "metadata": {
        "colab": {
          "base_uri": "https://localhost:8080/"
        },
        "id": "p8C4MNiucOaU",
        "outputId": "1f6597c7-a6ca-4ed0-951a-1251fe855a49"
      },
      "outputs": [
        {
          "name": "stdout",
          "output_type": "stream",
          "text": [
            "False\n",
            "True\n"
          ]
        }
      ],
      "source": [
        "print(a != 6)\n",
        "print(a != 1)"
      ]
    },
    {
      "cell_type": "markdown",
      "metadata": {
        "id": "USfSVX0jcRTS"
      },
      "source": [
        "Greater than"
      ]
    },
    {
      "cell_type": "code",
      "execution_count": null,
      "metadata": {
        "colab": {
          "base_uri": "https://localhost:8080/"
        },
        "id": "S3EEQw9fcTPR",
        "outputId": "522d05ca-422b-47ab-d44b-804a33167d7e"
      },
      "outputs": [
        {
          "name": "stdout",
          "output_type": "stream",
          "text": [
            "True\n",
            "False\n"
          ]
        }
      ],
      "source": [
        "print(a > 2)\n",
        "print(a >= 7)"
      ]
    },
    {
      "cell_type": "markdown",
      "metadata": {
        "id": "tIIzj3yFcVVc"
      },
      "source": [
        "Lesser than"
      ]
    },
    {
      "cell_type": "code",
      "execution_count": null,
      "metadata": {
        "colab": {
          "base_uri": "https://localhost:8080/"
        },
        "id": "eDje2nsdcr8Q",
        "outputId": "89008f4b-225f-4d3f-eda5-2a2933fc1d9e"
      },
      "outputs": [
        {
          "name": "stdout",
          "output_type": "stream",
          "text": [
            "False\n",
            "True\n"
          ]
        }
      ],
      "source": [
        "print(a < 2)\n",
        "print(a <= 10)"
      ]
    },
    {
      "cell_type": "markdown",
      "metadata": {
        "id": "R2cfpmYFl3M1"
      },
      "source": [
        "##**Logical Operators**"
      ]
    },
    {
      "cell_type": "markdown",
      "metadata": {
        "id": "Uof63iyGmHFE"
      },
      "source": [
        "Logical operators `and`, `or` and `not` are used to combine conditional statements."
      ]
    },
    {
      "cell_type": "code",
      "execution_count": null,
      "metadata": {
        "colab": {
          "base_uri": "https://localhost:8080/"
        },
        "id": "9CA2uYYrmbOj",
        "outputId": "33c0f23b-bf7b-4dbb-daf9-a8dd00cd460d"
      },
      "outputs": [
        {
          "name": "stdout",
          "output_type": "stream",
          "text": [
            "True\n",
            "True\n",
            "False\n"
          ]
        }
      ],
      "source": [
        "print(a > 2 and a <= 10) # it is true of both conditions are true, false otherwise\n",
        "print(a > 2 or a < 2) # it is true if either of the contitions are true (or both), false otherwise\n",
        "print(not(a > 2 and a <= 10)) # always interts a the value of a statement"
      ]
    },
    {
      "cell_type": "markdown",
      "metadata": {
        "id": "2lzmWgChkIAe"
      },
      "source": [
        "## **If Statements**"
      ]
    },
    {
      "cell_type": "markdown",
      "metadata": {
        "id": "g87l5_B5kdgg"
      },
      "source": [
        "With an if statement you can provide instructions to do something if a condition is met, or do something else if otherwise."
      ]
    },
    {
      "cell_type": "code",
      "execution_count": null,
      "metadata": {
        "id": "SIdz-5N4lBWz"
      },
      "outputs": [],
      "source": [
        "age1 = 20\n",
        "age2 = 16"
      ]
    },
    {
      "cell_type": "code",
      "execution_count": null,
      "metadata": {
        "colab": {
          "base_uri": "https://localhost:8080/"
        },
        "id": "HoxbLr4hlIQe",
        "outputId": "a379d8fd-5ef7-4156-fc52-080fa66c6e62"
      },
      "outputs": [
        {
          "name": "stdout",
          "output_type": "stream",
          "text": [
            "The first person can enter a pub\n"
          ]
        }
      ],
      "source": [
        "if age1 >= 18:\n",
        "    print('The first person can enter a pub')\n",
        "else:\n",
        "    print('The first person cannot enter a pub')"
      ]
    },
    {
      "cell_type": "code",
      "execution_count": null,
      "metadata": {
        "colab": {
          "base_uri": "https://localhost:8080/"
        },
        "id": "neWvBCMYlJJj",
        "outputId": "a102df70-16ef-4bcb-de8e-f159686cae0a"
      },
      "outputs": [
        {
          "name": "stdout",
          "output_type": "stream",
          "text": [
            "The second person cannot enter a pub\n"
          ]
        }
      ],
      "source": [
        "if (age2 >= 18):\n",
        "    print('The second person can enter a pub')\n",
        "else:\n",
        "    print('The second person cannot enter a pub')"
      ]
    },
    {
      "cell_type": "markdown",
      "metadata": {
        "id": "JyUjdpYIlPja"
      },
      "source": [
        "Note that both the colon and indentation are mandatory. The brackets around the condition in statement 2 are not mandatory."
      ]
    },
    {
      "cell_type": "markdown",
      "metadata": {
        "id": "3gdb6yNlncbU"
      },
      "source": [
        "## **For Loops**"
      ]
    },
    {
      "cell_type": "markdown",
      "metadata": {
        "id": "RhOG6aPUn1EU"
      },
      "source": [
        "A for loop performs a task a specific number of times.\n",
        "\n",
        "We define a list."
      ]
    },
    {
      "cell_type": "code",
      "execution_count": null,
      "metadata": {
        "id": "AD1KZvKxoLml"
      },
      "outputs": [],
      "source": [
        "xValues = [15, 16, 17, 18, 19, 20]"
      ]
    },
    {
      "cell_type": "markdown",
      "metadata": {
        "id": "1eei1fOeoS9F"
      },
      "source": [
        "Now for each value in the list we want the program to perform the action `print()`.\n",
        "\n",
        "Note that colon and indentation are necessary to define the loop and anything that is indented will be evaluated in the loop."
      ]
    },
    {
      "cell_type": "code",
      "execution_count": null,
      "metadata": {
        "colab": {
          "base_uri": "https://localhost:8080/"
        },
        "id": "EJjpfLcLol1e",
        "outputId": "87f23ed9-28fa-4d79-97bc-25eec5aa2203"
      },
      "outputs": [
        {
          "name": "stdout",
          "output_type": "stream",
          "text": [
            "15\n",
            "16\n",
            "17\n",
            "18\n",
            "19\n",
            "20\n"
          ]
        }
      ],
      "source": [
        "for x in xValues:\n",
        "    print(x)"
      ]
    },
    {
      "cell_type": "markdown",
      "metadata": {
        "id": "FiewLjsgon3b"
      },
      "source": [
        "Example: represent the function `y = 3x` for a set of x values (`xValues`).\n",
        "\n",
        "To do so we define an empty list where we can store the obtained values of y. We then iterate over the x values performing the transformation `x*3 ` and store them in the new list."
      ]
    },
    {
      "cell_type": "code",
      "execution_count": null,
      "metadata": {
        "colab": {
          "base_uri": "https://localhost:8080/"
        },
        "id": "YokgzGcFo3vV",
        "outputId": "d169e8da-9b30-4849-862d-175e9214b7aa"
      },
      "outputs": [
        {
          "name": "stdout",
          "output_type": "stream",
          "text": [
            "[45, 48, 51, 54, 57, 60]\n"
          ]
        }
      ],
      "source": [
        "yValues = []\n",
        "\n",
        "for x in xValues:\n",
        "    yValues.append(3 * x)\n",
        "\n",
        "print(yValues) # command not in the loop"
      ]
    },
    {
      "cell_type": "markdown",
      "metadata": {
        "id": "nxMZXJaEqIj8"
      },
      "source": [
        "For loops can iterate over non-numerical lists/tuples as well. The function `enumerate()` gives you both the index and the content of a list/tuple."
      ]
    },
    {
      "cell_type": "code",
      "execution_count": null,
      "metadata": {
        "colab": {
          "base_uri": "https://localhost:8080/"
        },
        "id": "wAE29E3aqKLQ",
        "outputId": "e8ce4ec6-06bb-44b4-b3ed-e38c94ed6f68"
      },
      "outputs": [
        {
          "name": "stdout",
          "output_type": "stream",
          "text": [
            "[0, 'hurricane']\n",
            "[1, 'earthquake']\n",
            "[2, 'flood']\n",
            "[3, 'hurricane']\n"
          ]
        }
      ],
      "source": [
        "disasters = ('hurricane', 'earthquake', 'flood', 'hurricane')\n",
        "for index, disaster in enumerate(disasters):\n",
        "    print([index, disaster])"
      ]
    },
    {
      "cell_type": "markdown",
      "metadata": {
        "id": "hiZtpfN8rjzx"
      },
      "source": [
        "You can use the `range()` function to perform an action a fixed amount of times. The `range()` function starts from 0 by default, and increments by 1 (by default) until a specified value (excluded).\n",
        "\n",
        "Note that `range(6)` is not the values of 0 to 6, but the values 0 to 5."
      ]
    },
    {
      "cell_type": "code",
      "execution_count": null,
      "metadata": {
        "colab": {
          "base_uri": "https://localhost:8080/"
        },
        "id": "-sGrhUwZruRW",
        "outputId": "28aaf50e-e085-43fb-d4d8-13d5f7023490"
      },
      "outputs": [
        {
          "name": "stdout",
          "output_type": "stream",
          "text": [
            "I am a Data Scientist\n",
            "I am a Data Scientist\n",
            "I am a Data Scientist\n",
            "I am a Data Scientist\n",
            "I am a Data Scientist\n",
            "I am a Data Scientist\n"
          ]
        }
      ],
      "source": [
        "for x in range(6):\n",
        "  print('I am a Data Scientist')"
      ]
    },
    {
      "cell_type": "markdown",
      "metadata": {
        "id": "lfCELS5Ws3sB"
      },
      "source": [
        "`range()` can also be used for indexing."
      ]
    },
    {
      "cell_type": "code",
      "execution_count": null,
      "metadata": {
        "colab": {
          "base_uri": "https://localhost:8080/"
        },
        "id": "oOLhDRQXs8AQ",
        "outputId": "ac82c411-1821-4b86-8dda-a03b8721ec59"
      },
      "outputs": [
        {
          "name": "stdout",
          "output_type": "stream",
          "text": [
            "15\n",
            "16\n",
            "17\n",
            "18\n",
            "19\n",
            "20\n"
          ]
        }
      ],
      "source": [
        "for idx in range(len(xValues)):\n",
        "  print(xValues[idx])"
      ]
    },
    {
      "cell_type": "markdown",
      "metadata": {
        "id": "tgC4R5x7tH3-"
      },
      "source": [
        "Note this is the same as the very first loop we printed!"
      ]
    },
    {
      "cell_type": "markdown",
      "metadata": {
        "id": "KlQp8J1Rva2C"
      },
      "source": [
        "##**While Loops**"
      ]
    },
    {
      "cell_type": "markdown",
      "metadata": {
        "id": "WoWmJ6psvkWV"
      },
      "source": [
        "While loops repeat a set of code until a condition is met."
      ]
    },
    {
      "cell_type": "markdown",
      "metadata": {
        "id": "Oq6fenB3vyal"
      },
      "source": [
        "Here is an example.\n",
        "\n",
        "Say we want to identify at what index value we have a 'flood' in the `disasters` tuple.\n",
        "\n",
        "We define a starting index value and increment the index until the condition is met using a while loop. We then print the index and corresponding value in the tuple."
      ]
    },
    {
      "cell_type": "code",
      "execution_count": null,
      "metadata": {
        "colab": {
          "base_uri": "https://localhost:8080/"
        },
        "id": "VoGPLj9QvoMI",
        "outputId": "334f4ea9-c802-4df6-c925-72c768ad5b50"
      },
      "outputs": [
        {
          "name": "stdout",
          "output_type": "stream",
          "text": [
            "The first element of the tuple containing a flood is: [2, 'flood']\n",
            "[2, 'flood']\n"
          ]
        }
      ],
      "source": [
        "i = 0\n",
        "while(disasters[i] != 'flood'):\n",
        "    i = i + 1\n",
        "\n",
        "print('The first element of the tuple containing a flood is:', [i, disasters[i]])"
      ]
    },
    {
      "cell_type": "markdown",
      "metadata": {
        "id": "APolwZ18tTmD"
      },
      "source": [
        "##**Functions**"
      ]
    },
    {
      "cell_type": "markdown",
      "metadata": {
        "id": "skzi7qGftYJq"
      },
      "source": [
        "A function takes some input, performs a specific task and returns some output.\n",
        "\n",
        "We have encountered several functions already. Remember the `print()` function or the `len()` function? These functions are called built-in fucntions, as they are pre-defined for us.\n",
        "\n",
        "You can use built-in functions or create your own functions. Overall, a function is just a piece of code that can be reused easily.\n",
        "\n",
        "But how do we define a function? Here is an example.\n"
      ]
    },
    {
      "cell_type": "code",
      "execution_count": null,
      "metadata": {
        "id": "yJH6bTnIt8fe"
      },
      "outputs": [],
      "source": [
        "def findFirstStringInCollection(collection, stringToFind):\n",
        "\n",
        "    i = 0\n",
        "    while(collection[i] != stringToFind):\n",
        "        i += 1 # another way to increment\n",
        "\n",
        "    idFirstString = i\n",
        "\n",
        "    return idFirstString"
      ]
    },
    {
      "cell_type": "markdown",
      "metadata": {
        "id": "8ygASWz4u0_F"
      },
      "source": [
        "When defining a function, `def`, the colon and indentation are mandatory. The `return` statement defined the function's outputs. Without it, the function will return nothing."
      ]
    },
    {
      "cell_type": "markdown",
      "metadata": {
        "id": "t56Csvc0xazS"
      },
      "source": [
        "Now given three collections we want to find the index values for specific items."
      ]
    },
    {
      "cell_type": "code",
      "execution_count": null,
      "metadata": {
        "id": "bxl6zwfbxvAX"
      },
      "outputs": [],
      "source": [
        "collection1 = ['hurricane', 'earthquake', 'flood', 'hurricane']\n",
        "stringToFind1 = 'flood'\n",
        "\n",
        "collection2 = ['red', 'blue', 'yellow', 'green']\n",
        "stringToFind2 = 'green'\n",
        "\n",
        "collection3 = ['dog', 'cat', 'lion']\n",
        "stringToFind3 = 'cat'"
      ]
    },
    {
      "cell_type": "markdown",
      "metadata": {
        "id": "60kXsryHxvm0"
      },
      "source": [
        "We can now perform this task by using a single line instead of the whole block above because we have defined a function that does this for us!"
      ]
    },
    {
      "cell_type": "code",
      "execution_count": null,
      "metadata": {
        "id": "jXhPprIEx9qR"
      },
      "outputs": [],
      "source": [
        "id1 = findFirstStringInCollection(collection1, stringToFind1)\n",
        "id2 = findFirstStringInCollection(collection2, stringToFind2)\n",
        "id3 = findFirstStringInCollection(collection3, stringToFind3)\n",
        "print(id1)\n",
        "print(id2)\n",
        "print(id3)"
      ]
    },
    {
      "cell_type": "markdown",
      "metadata": {
        "id": "pBGyrU1qz3_R"
      },
      "source": [
        "Note that the variables defined within the function are destroyed after running the function. Only the returned variables will be kept.\n",
        "\n",
        "Try to print the variable `idFirstString` which is only defined inside the function. You will see that this will throw an error."
      ]
    },
    {
      "cell_type": "code",
      "execution_count": null,
      "metadata": {
        "id": "nRqnBb_O0G9E"
      },
      "outputs": [],
      "source": [
        "# print(idFirstString)"
      ]
    },
    {
      "cell_type": "markdown",
      "metadata": {
        "id": "c99QuTTv1VBa"
      },
      "source": [
        "## **Classes (not required)**"
      ]
    },
    {
      "cell_type": "markdown",
      "metadata": {
        "id": "SZRUot3G1Zb9"
      },
      "source": [
        "A class is a template for creating python objects.\n",
        "\n",
        "Let's define an class."
      ]
    },
    {
      "cell_type": "code",
      "execution_count": null,
      "metadata": {
        "colab": {
          "base_uri": "https://localhost:8080/"
        },
        "id": "X5OD5Fi32GHF",
        "outputId": "fec37586-6b9a-4bbc-e465-09670027f870"
      },
      "outputs": [
        {
          "name": "stdout",
          "output_type": "stream",
          "text": [
            "<class '__main__.Dog'>\n"
          ]
        }
      ],
      "source": [
        "class Dog:\n",
        "  pass\n",
        "print(Dog) # returns a python object"
      ]
    },
    {
      "cell_type": "markdown",
      "metadata": {
        "id": "snHhUvIW3Oaf"
      },
      "source": [
        "We have just defined is an empty class. We can now add properties to it. For instance we know that each dog is born with 4 legs.  "
      ]
    },
    {
      "cell_type": "code",
      "execution_count": null,
      "metadata": {
        "colab": {
          "base_uri": "https://localhost:8080/"
        },
        "id": "Bz7ZlT_y3i1h",
        "outputId": "0f778d2a-3829-475a-a240-6903713b98e9"
      },
      "outputs": [
        {
          "name": "stdout",
          "output_type": "stream",
          "text": [
            "4\n"
          ]
        }
      ],
      "source": [
        "class Dog:\n",
        "  legs = 4\n",
        "\n",
        "print(Dog.legs)"
      ]
    },
    {
      "cell_type": "markdown",
      "metadata": {
        "id": "Qbjzcxxg41nV"
      },
      "source": [
        "But we also know that each dog has a name and an age. So we can define these as specific properties of the class which can be defined every time a class is called."
      ]
    },
    {
      "cell_type": "code",
      "execution_count": null,
      "metadata": {
        "colab": {
          "base_uri": "https://localhost:8080/"
        },
        "id": "uzrP8Vtu4S1C",
        "outputId": "8b8991af-37f6-4709-feb1-dcd7803ab2b9"
      },
      "outputs": [
        {
          "name": "stdout",
          "output_type": "stream",
          "text": [
            "Scamper\n",
            "3\n"
          ]
        }
      ],
      "source": [
        "class Dog:\n",
        "  def __init__(self, name, age):\n",
        "    self.name = name\n",
        "    self.age = age\n",
        "\n",
        "d1 = Dog('Scamper', 3)\n",
        "\n",
        "print(d1.name)\n",
        "print(d1.age)"
      ]
    },
    {
      "cell_type": "markdown",
      "metadata": {
        "id": "ky0arji_5c9V"
      },
      "source": [
        "The `__init__()` function is always executed when a class is initiated."
      ]
    },
    {
      "cell_type": "markdown",
      "metadata": {
        "id": "ENWItBE46H2J"
      },
      "source": [
        "We can also define specific methods for a class. Remember the string-specific method `.upper()`, `.lower()` and `.title()`? We can create similar methods for our class."
      ]
    },
    {
      "cell_type": "code",
      "execution_count": null,
      "metadata": {
        "colab": {
          "base_uri": "https://localhost:8080/"
        },
        "id": "WaqVl5f16d-7",
        "outputId": "43e44a17-c7b4-4168-91d4-8e10e91d66ac"
      },
      "outputs": [
        {
          "name": "stdout",
          "output_type": "stream",
          "text": [
            "False\n"
          ]
        }
      ],
      "source": [
        "class Dog:\n",
        "  def __init__(self, name, age):\n",
        "    self.name = name\n",
        "    self.age = age\n",
        "\n",
        "  def ispuppy(self):\n",
        "    return self.age <= 1\n",
        "\n",
        "d1 = Dog('Scamper', 3)\n",
        "print(d1.ispuppy())\n",
        "\n",
        "# note that you need to call the method first to generate the attribute .puppystatus\n"
      ]
    },
    {
      "cell_type": "markdown",
      "metadata": {
        "id": "XPmqKI6w9aDk"
      },
      "source": [
        "##**Class Inheritance**"
      ]
    },
    {
      "cell_type": "markdown",
      "metadata": {
        "id": "s2MtjXDs57lR"
      },
      "source": [
        "Classes can inherit all methods and properties from other classes.\n",
        "\n",
        "Let's define a new class Parallelepiped."
      ]
    },
    {
      "cell_type": "code",
      "execution_count": null,
      "metadata": {
        "id": "-kxF2oRF9xp1"
      },
      "outputs": [],
      "source": [
        "class Parallelepiped:\n",
        "  def __init__(self, depth, height, width, angle):\n",
        "    self.depth = depth\n",
        "    self.height = height\n",
        "    self.width = width\n",
        "    self.angle = angle\n",
        "\n",
        "  def getVolume(self):\n",
        "    self.volume = self.depth*self.height*self.width\n"
      ]
    },
    {
      "cell_type": "markdown",
      "metadata": {
        "id": "HoETHPGwCEH7"
      },
      "source": [
        "We then define a Cube as a subclass of Parallelepiped."
      ]
    },
    {
      "cell_type": "code",
      "execution_count": null,
      "metadata": {
        "colab": {
          "base_uri": "https://localhost:8080/"
        },
        "id": "eQDrzH-A2_ib",
        "outputId": "8239e2eb-86e9-4394-cdf7-346c0ffce4f2"
      },
      "outputs": [
        {
          "name": "stdout",
          "output_type": "stream",
          "text": [
            "1000\n"
          ]
        }
      ],
      "source": [
        "class Cube(Parallelepiped):\n",
        "    def __init__(self, depth): # by stating __init__() function the new class no longer inherits the properties of the parent class\n",
        "      self.depth = depth\n",
        "      self.width = depth\n",
        "      self.height = depth\n",
        "      self.angle = 90\n",
        "\n",
        "c10 = Cube(10)\n",
        "c10.getVolume() # note that you need to call the method first to generate the attribute .volume\n",
        "print(c10.volume)"
      ]
    },
    {
      "cell_type": "markdown",
      "metadata": {
        "id": "_9L8rgkwCblG"
      },
      "source": [
        "The class Cube has inherited the method `.getVolume()` from the class Parallelepiped."
      ]
    }
  ],
  "metadata": {
    "colab": {
      "collapsed_sections": [
        "zt2IoSeUtshc",
        "Ya0kyjYlFCSY",
        "fV43NFT1ErlA",
        "WHwNVWHZYMsw",
        "n8nZTi8b925R",
        "8Oy0Fo3hGoL9",
        "SJ-6nIr0S_6d",
        "b3TDLKr4bisd",
        "R2cfpmYFl3M1",
        "2lzmWgChkIAe",
        "3gdb6yNlncbU",
        "KlQp8J1Rva2C"
      ],
      "provenance": []
    },
    "kernelspec": {
      "display_name": "Python 3",
      "name": "python3"
    },
    "language_info": {
      "name": "python"
    }
  },
  "nbformat": 4,
  "nbformat_minor": 0
}
