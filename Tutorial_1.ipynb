{
  "cells": [
    {
      "cell_type": "markdown",
      "metadata": {
        "id": "zsrzyXaq0-zX"
      },
      "source": [
        "# **Introduction to Python programming**"
      ]
    },
    {
      "cell_type": "markdown",
      "metadata": {
        "id": "qsMxJY_5nxOB"
      },
      "source": [
        "## **What is a Python program?**"
      ]
    },
    {
      "cell_type": "markdown",
      "metadata": {
        "id": "jIHEGFoDr-Oc"
      },
      "source": [
        "A Python program is a sequence of instructions written in Python that are executed in a sequential order to perform some action.\n",
        "\n",
        "Below is a simple Python program. Press the *play* button to execute it."
      ]
    },
    {
      "cell_type": "code",
      "execution_count": null,
      "metadata": {
        "id": "_JMYuuaknsWV"
      },
      "outputs": [],
      "source": [
        "print('Hello, World!')"
      ]
    },
    {
      "cell_type": "markdown",
      "metadata": {
        "id": "Rkf8s3PbsWTW"
      },
      "source": [
        "Well done! You have just run your first Python program.\n",
        "\n",
        "The `print()` function prints the specified message to the screen. You can change this with anything you like. Now try typing your name and re-running the program."
      ]
    },
    {
      "cell_type": "markdown",
      "metadata": {
        "id": "zt2IoSeUtshc"
      },
      "source": [
        "## **Data Types**"
      ]
    },
    {
      "cell_type": "markdown",
      "metadata": {
        "id": "jkI83XjluoVU"
      },
      "source": [
        "Python can store objects of different types and different data types can do different things.\n",
        "\n",
        "Basic data types are: integer, floating point (rational), string and boolean."
      ]
    },
    {
      "cell_type": "code",
      "execution_count": null,
      "metadata": {
        "id": "T4nV0gkPup0n"
      },
      "outputs": [],
      "source": [
        "a = 11 # integer\n",
        "b = 123.4 # float\n",
        "c = 'Humanitarian' # string\n",
        "d = True # boolean\n",
        "\n",
        "# Anything after an hashtag is a comment. The program won't read it"
      ]
    },
    {
      "cell_type": "markdown",
      "metadata": {
        "id": "XyF8K8K4uz3j"
      },
      "source": [
        "*Note:* to define a **string**, quotes are needed. You can use both `'` or `\"`.\n",
        "\n",
        "Now run the code above using the *play* button. The `=` operator assigns each value to a specific variable. By running the code snippet, we have stored the values in the specified variables. We can now print the specific values by calling the variable instead inside the `print()` function."
      ]
    },
    {
      "cell_type": "code",
      "execution_count": null,
      "metadata": {
        "id": "ujj30U49vtwL"
      },
      "outputs": [],
      "source": [
        "print(a)"
      ]
    },
    {
      "cell_type": "markdown",
      "metadata": {
        "id": "XDY8_MPBwFRx"
      },
      "source": [
        " The `type()` function prints the data type of the specified object."
      ]
    },
    {
      "cell_type": "code",
      "execution_count": null,
      "metadata": {
        "id": "kHk9NkFXwPNQ"
      },
      "outputs": [],
      "source": [
        "type(a)"
      ]
    },
    {
      "cell_type": "markdown",
      "metadata": {
        "id": "GD0ZMcI1xHZo"
      },
      "source": [
        "Feel free to play around with the code snippets above, printing the other variables and their data type."
      ]
    },
    {
      "cell_type": "markdown",
      "metadata": {
        "id": "Ya0kyjYlFCSY"
      },
      "source": [
        "### **Boolean**"
      ]
    },
    {
      "cell_type": "markdown",
      "metadata": {
        "id": "qNvyzVgdFE4B"
      },
      "source": [
        "A boolean represents one of two values: `True` or `False`.\n",
        "\n",
        "We have already seen that the comparison operator `=` assigns some data to a variable. The operator `==` checks if two variables are the same. The value returned is a boolean. (More on comparison operators later!)"
      ]
    },
    {
      "cell_type": "code",
      "execution_count": null,
      "metadata": {
        "id": "uILg9jLxFZCN"
      },
      "outputs": [],
      "source": [
        "e = 11\n",
        "f= -5\n",
        "print(e == a)\n",
        "print(e == b)\n",
        "print(e == f)"
      ]
    },
    {
      "cell_type": "markdown",
      "metadata": {
        "id": "fV43NFT1ErlA"
      },
      "source": [
        "### **Strings**"
      ]
    },
    {
      "cell_type": "markdown",
      "metadata": {
        "id": "T5tZiUikGWC3"
      },
      "source": [
        "Now let's define some strings"
      ]
    },
    {
      "cell_type": "code",
      "execution_count": null,
      "metadata": {
        "id": "QI5xiVEIGZq6"
      },
      "outputs": [],
      "source": [
        "s1 = 'Humanitarian'\n",
        "s2 = 'Engineering'\n",
        "s3 = 'and'\n",
        "s4 = \"Data\" # you can use either '' or \"\".\n",
        "s5 = 'Science'"
      ]
    },
    {
      "cell_type": "markdown",
      "metadata": {
        "id": "f7rHzeM0asvB"
      },
      "source": [
        "*Note:* It is good practice to use one approach consistently (either `''` or `\"\"`) and not mix them."
      ]
    },
    {
      "cell_type": "markdown",
      "metadata": {
        "id": "QgNQDjQKAklK"
      },
      "source": [
        "You can concatenate strings using the `+` operator"
      ]
    },
    {
      "cell_type": "code",
      "execution_count": null,
      "metadata": {
        "id": "070nVr0cAqlx"
      },
      "outputs": [],
      "source": [
        "humEng = s1 + s2\n",
        "humDataScience = s1 + s4 + s5\n",
        "humEngDataScience = humEng + s3 + s4 + s5 + 'is the best'"
      ]
    },
    {
      "cell_type": "code",
      "execution_count": null,
      "metadata": {
        "id": "MFEmY8D6EBmi"
      },
      "outputs": [],
      "source": [
        "print(humEng)\n",
        "print(humDataScience)\n",
        "print(humEngDataScience)"
      ]
    },
    {
      "cell_type": "markdown",
      "metadata": {
        "id": "rKKFxOciac0D"
      },
      "source": [
        "Note that there are no spaces. Try to redefine the strings to add the spaces."
      ]
    },
    {
      "cell_type": "markdown",
      "metadata": {
        "id": "tBQ7qJudbVZp"
      },
      "source": [
        "You can replicate a string by using the `*` operator\n"
      ]
    },
    {
      "cell_type": "code",
      "execution_count": null,
      "metadata": {
        "id": "w-wpu3Apbiv2"
      },
      "outputs": [],
      "source": [
        "print(3*s1)"
      ]
    },
    {
      "cell_type": "markdown",
      "metadata": {
        "id": "oWtNFXTzbpwR"
      },
      "source": [
        "You can check how many characters are in a string using the `len()` function.\n",
        "\n",
        "*Note*: each space counts as a character."
      ]
    },
    {
      "cell_type": "code",
      "execution_count": null,
      "metadata": {
        "id": "MhHrgeHJb3wv"
      },
      "outputs": [],
      "source": [
        "print(len(humEng))"
      ]
    },
    {
      "cell_type": "markdown",
      "metadata": {
        "id": "fqmc1LHvb-T4"
      },
      "source": [
        "You can index over a string to select specific elements of it.\n",
        "\n",
        " Indexing in Python starts at 0, which means that the first element in a sequence has an index of 0, the second element has an index of 1, and so on."
      ]
    },
    {
      "cell_type": "code",
      "execution_count": null,
      "metadata": {
        "id": "aITnLRQzccA7"
      },
      "outputs": [],
      "source": [
        "humEng[0]\n",
        "\n",
        "humEng[:5] # access the first 5 characters\n",
        "humEng[-4:] # access the last 4 characters\n",
        "\n",
        "humEng[9:15] # access characters from index 9 to 15\n",
        "humEng[9:15:2] # access every other character from index 9 to 15"
      ]
    },
    {
      "cell_type": "markdown",
      "metadata": {
        "id": "7qtOP590cwph"
      },
      "source": [
        "The last character is located at the position `len(string)-1`. The last character can be also called with the index -1 and the index -2 refers to the second to last character, and so on."
      ]
    },
    {
      "cell_type": "code",
      "execution_count": null,
      "metadata": {
        "id": "iFhaKwwScwap"
      },
      "outputs": [],
      "source": [
        "print(humEng[22])\n",
        "print(humEng[-1])\n",
        "print(humEng[-2])"
      ]
    },
    {
      "cell_type": "markdown",
      "metadata": {
        "id": "Zf2LYKojdJz7"
      },
      "source": [
        "You can access a range of elements using `:`."
      ]
    },
    {
      "cell_type": "code",
      "execution_count": null,
      "metadata": {
        "id": "I84Ogsl5dVVq"
      },
      "outputs": [],
      "source": [
        "print(humEng[9:15]) # access characters from index 9 to 15\n",
        "print(humEng[:5]) # access the first 5 characters\n",
        "print(humEng[-4:]) # access the last 4 characters\n",
        "print(humEng[9:15:2]) # access every other character from index 9 to 15"
      ]
    },
    {
      "cell_type": "markdown",
      "metadata": {
        "id": "yndJUzPNhkCx"
      },
      "source": [
        "A method is a function that is defined for a specific data type (i.e., does not work with other data types). `.upper()`, `.lower()` and `.title()` are common string methods."
      ]
    },
    {
      "cell_type": "code",
      "execution_count": null,
      "metadata": {
        "id": "XI-y1d_UhtV1"
      },
      "outputs": [],
      "source": [
        "print(humEngDataScience.lower())\n",
        "print(humEngDataScience.upper())\n",
        "print(humEngDataScience.title())"
      ]
    },
    {
      "cell_type": "markdown",
      "metadata": {
        "id": "7k2eUsdVXqdH"
      },
      "source": [
        "You can check the other available methods for the data type using the `help()` function."
      ]
    },
    {
      "cell_type": "code",
      "execution_count": null,
      "metadata": {
        "collapsed": true,
        "id": "ltmJCWWIXxGq"
      },
      "outputs": [],
      "source": [
        "help(str)"
      ]
    },
    {
      "cell_type": "markdown",
      "metadata": {
        "id": "WHwNVWHZYMsw"
      },
      "source": [
        "### **Tuples**"
      ]
    },
    {
      "cell_type": "markdown",
      "metadata": {
        "id": "d6zeA48oYxgK"
      },
      "source": [
        "Tuples are ordered sequences. They are defined by round brackets (commas are mandatory) and can contain elements of the same type or different type."
      ]
    },
    {
      "cell_type": "code",
      "execution_count": null,
      "metadata": {
        "id": "NgdyEW9QYcs5"
      },
      "outputs": [],
      "source": [
        "tup1 = (5,1,6)\n",
        "tup2 = ('a', 'b', 'c', 'd')\n",
        "tup3 = (4, 'five and half', 6, 6.5, 'seven')"
      ]
    },
    {
      "cell_type": "markdown",
      "metadata": {
        "id": "Qa3qgdYkbjiQ"
      },
      "source": [
        "You can access the elements of a tuple like you access those of a string. The first element is called with a 0 and the last element is located at the position `len(tup3)-1`.\n",
        "\n"
      ]
    },
    {
      "cell_type": "code",
      "execution_count": null,
      "metadata": {
        "id": "DQWGyUL3bsXN"
      },
      "outputs": [],
      "source": [
        "print(tup3[0])\n",
        "print(tup3[len(tup3)-1])"
      ]
    },
    {
      "cell_type": "markdown",
      "metadata": {
        "id": "9xkdynsb7CdE"
      },
      "source": [
        "The last element can be also called with the index -1."
      ]
    },
    {
      "cell_type": "code",
      "execution_count": null,
      "metadata": {
        "id": "2qfpXpy_7ENV"
      },
      "outputs": [],
      "source": [
        "print(tup3[-1])"
      ]
    },
    {
      "cell_type": "markdown",
      "metadata": {
        "id": "kg1zDF187IHk"
      },
      "source": [
        "The index -2 refers to the second to last element, and so on."
      ]
    },
    {
      "cell_type": "code",
      "execution_count": null,
      "metadata": {
        "id": "KxfYqj0y7MaC"
      },
      "outputs": [],
      "source": [
        "print(tup3[-2])"
      ]
    },
    {
      "cell_type": "markdown",
      "metadata": {
        "id": "2gEmyHtI7Qsj"
      },
      "source": [
        "As for strings, you can access ranges of elements using `:`."
      ]
    },
    {
      "cell_type": "code",
      "execution_count": null,
      "metadata": {
        "id": "foWpMqgl7ZR-"
      },
      "outputs": [],
      "source": [
        "print(tup3[:2]) # access the first 2 elements\n",
        "print(tup3[-3:]) # access the last 3 elements\n",
        "print(tup3[1:3]) # access elements from index 1 to 3\n",
        "print(tup3[::2]) # access every other element in the tuple"
      ]
    },
    {
      "cell_type": "markdown",
      "metadata": {
        "id": "J7h7E8EW7j0O"
      },
      "source": [
        "Tuples can also contain other tuples (or lists). This is called nesting."
      ]
    },
    {
      "cell_type": "code",
      "execution_count": null,
      "metadata": {
        "id": "7wJDTEyT7uQt"
      },
      "outputs": [],
      "source": [
        "tup4 = ('lev1', 'lev1', ('lev2', 'lev2', 'lev2'))"
      ]
    },
    {
      "cell_type": "markdown",
      "metadata": {
        "id": "J93yC0K475o8"
      },
      "source": [
        "You can access the tuple at the end of `tup4` as any other element in the tuple, using indexing."
      ]
    },
    {
      "cell_type": "code",
      "execution_count": null,
      "metadata": {
        "id": "AHVEhFhF8I_q"
      },
      "outputs": [],
      "source": [
        "tupInside = tup4[-1]\n",
        "print(tupInside)"
      ]
    },
    {
      "cell_type": "markdown",
      "metadata": {
        "id": "WMdoR-GT8RcC"
      },
      "source": [
        "You can then access elements inside `tupInside` by indexing over them."
      ]
    },
    {
      "cell_type": "code",
      "execution_count": null,
      "metadata": {
        "id": "Gq-t_rX08dXC"
      },
      "outputs": [],
      "source": [
        "print(tupInside[2])"
      ]
    },
    {
      "cell_type": "markdown",
      "metadata": {
        "id": "mUCzXUTU8sAD"
      },
      "source": [
        "Now run the below code."
      ]
    },
    {
      "cell_type": "code",
      "execution_count": null,
      "metadata": {
        "id": "L2hEQ-hW8kai"
      },
      "outputs": [],
      "source": [
        "print(tupInside[2] == tup4[-1][2])"
      ]
    },
    {
      "cell_type": "markdown",
      "metadata": {
        "id": "ZEakw5mG8voy"
      },
      "source": [
        "That's tight, `tupInside` and `tup4[-1]` are exactly the same. You can index over either of them to obtain the same element."
      ]
    },
    {
      "cell_type": "markdown",
      "metadata": {
        "id": "x3Usq3Hx9KD9"
      },
      "source": [
        "Tuples are **IMMUTABLE**. Once created they can't be changed.\n",
        "\n",
        "Try running the following line of code."
      ]
    },
    {
      "cell_type": "code",
      "execution_count": null,
      "metadata": {
        "id": "QlPutnvg9NTQ"
      },
      "outputs": [],
      "source": [
        "# tup3[0] = 5"
      ]
    },
    {
      "cell_type": "markdown",
      "metadata": {
        "id": "t41o7xs49h-w"
      },
      "source": [
        "If you want to manipulate tuples, you need to assign the result to another variable."
      ]
    },
    {
      "cell_type": "code",
      "execution_count": null,
      "metadata": {
        "id": "q8JhowqY9jky"
      },
      "outputs": [],
      "source": [
        "tup1sorted = sorted(tup1) # the sort() function changes the order of values"
      ]
    },
    {
      "cell_type": "markdown",
      "metadata": {
        "id": "lwrYpkcw9qZi"
      },
      "source": [
        "Note that the result is not a tuple anymore."
      ]
    },
    {
      "cell_type": "code",
      "execution_count": null,
      "metadata": {
        "id": "DduplD4S9rlw"
      },
      "outputs": [],
      "source": [
        "type(tup1sorted)"
      ]
    },
    {
      "cell_type": "markdown",
      "metadata": {
        "id": "n8nZTi8b925R"
      },
      "source": [
        "### **Lists**"
      ]
    },
    {
      "cell_type": "markdown",
      "metadata": {
        "id": "PvUzQQak96FM"
      },
      "source": [
        "A list is a **MUTABLE** ordered sequence of elements."
      ]
    },
    {
      "cell_type": "code",
      "execution_count": null,
      "metadata": {
        "id": "NPub1Naw-H2c"
      },
      "outputs": [],
      "source": [
        "L1 = [4, 9, 0]\n",
        "L2 = [5, 0, 11]"
      ]
    },
    {
      "cell_type": "markdown",
      "metadata": {
        "id": "bJiJFNta-fMk"
      },
      "source": [
        "As for tuples, lists can contain different data types including lists and tuples."
      ]
    },
    {
      "cell_type": "code",
      "execution_count": null,
      "metadata": {
        "id": "FQZGcmH1-e6p"
      },
      "outputs": [],
      "source": [
        "L3 = [1, 'lev1', ('lev2', 'lev2', 'lev2')]"
      ]
    },
    {
      "cell_type": "markdown",
      "metadata": {
        "id": "MqtfgoTl-4he"
      },
      "source": [
        "Unlike tuples, lists can be modified. The code below changes the second element in the list to `'level 1'`."
      ]
    },
    {
      "cell_type": "code",
      "execution_count": null,
      "metadata": {
        "id": "FUVxT8pi-ziN"
      },
      "outputs": [],
      "source": [
        "L3[1] = 'level 1'\n",
        "print(L3)"
      ]
    },
    {
      "cell_type": "markdown",
      "metadata": {
        "id": "LCQTWEP--ysj"
      },
      "source": [
        "You can index over a list and its elements exactly as with tuples."
      ]
    },
    {
      "cell_type": "code",
      "execution_count": null,
      "metadata": {
        "id": "YuENivgS_qHp"
      },
      "outputs": [],
      "source": [
        "print(L3[2][0])"
      ]
    },
    {
      "cell_type": "markdown",
      "metadata": {
        "id": "drS-ThOS_3tg"
      },
      "source": [
        "Now uncomment and try the following command."
      ]
    },
    {
      "cell_type": "code",
      "execution_count": null,
      "metadata": {
        "id": "oDr3tcpa_xqg"
      },
      "outputs": [],
      "source": [
        "# L3[2][0] = 5"
      ]
    },
    {
      "cell_type": "markdown",
      "metadata": {
        "id": "sRb6N3RcAL7f"
      },
      "source": [
        "That's right. Remember tuples are immutable - even if contained in a list! You cannot change their elements."
      ]
    },
    {
      "cell_type": "markdown",
      "metadata": {
        "id": "Mi50xAohAnII"
      },
      "source": [
        "As for strings, you can use the `+` operator to concatenate lists."
      ]
    },
    {
      "cell_type": "code",
      "execution_count": null,
      "metadata": {
        "id": "gz-M4AemAxcT"
      },
      "outputs": [],
      "source": [
        "L4 = L2 + L3\n",
        "print(L4)"
      ]
    },
    {
      "cell_type": "markdown",
      "metadata": {
        "id": "aocHzSpgA89A"
      },
      "source": [
        "The method `.append()` adds ONE element to the end of a list."
      ]
    },
    {
      "cell_type": "code",
      "execution_count": null,
      "metadata": {
        "id": "jLZI_dwQBO2F"
      },
      "outputs": [],
      "source": [
        "L3.append(1)\n",
        "print(L3)"
      ]
    },
    {
      "cell_type": "markdown",
      "metadata": {
        "id": "_L71uVxWBvmo"
      },
      "source": [
        "The method `.extend()` adds many elements at the end of a list."
      ]
    },
    {
      "cell_type": "code",
      "execution_count": null,
      "metadata": {
        "id": "CWmNJ52OB7H9"
      },
      "outputs": [],
      "source": [
        "L1.extend([4, 8])\n",
        "print(L1)"
      ]
    },
    {
      "cell_type": "markdown",
      "metadata": {
        "id": "5ojE__1LBW2G"
      },
      "source": [
        "The function `del()` deletes specific elements from a list."
      ]
    },
    {
      "cell_type": "code",
      "execution_count": null,
      "metadata": {
        "id": "BpjUL5LMBc0x"
      },
      "outputs": [],
      "source": [
        "del(L3[1]) #deleted the second element\n",
        "print(L3)"
      ]
    },
    {
      "cell_type": "markdown",
      "metadata": {
        "id": "3rdMPRQnCNVD"
      },
      "source": [
        "#### **Why do we need immutable data types?**"
      ]
    },
    {
      "cell_type": "code",
      "execution_count": null,
      "metadata": {
        "id": "QNYXp2hKCXPJ"
      },
      "outputs": [],
      "source": [
        "a1 = [1, 4, 7]\n",
        "b1 = a1 # create an alias of a, named b\n",
        "b1[1] = 3 # change one element of b\n",
        "print(a1)"
      ]
    },
    {
      "cell_type": "markdown",
      "metadata": {
        "id": "PlctA7MrCipl"
      },
      "source": [
        "We thought we were changing `b` but `a` got changed as well. We need immutable data types so that we do not need to worry about our original object being accidentally changed."
      ]
    },
    {
      "cell_type": "markdown",
      "metadata": {
        "id": "a08AQGQqDbXo"
      },
      "source": [
        "You can use `help(tuple)` and `help(list)` to access the relevant documentation."
      ]
    },
    {
      "cell_type": "markdown",
      "metadata": {
        "id": "8Oy0Fo3hGoL9"
      },
      "source": [
        "### **Dictionaries**"
      ]
    },
    {
      "cell_type": "markdown",
      "metadata": {
        "id": "0MKVoVKSG-B3"
      },
      "source": [
        "A dictionary is a *ordered* collection of key-value pairs which does not allow duplicates (i.e., cannot have two keys with the same value).\n",
        "\n",
        "They are defined by curly brackets. The format is `\"KeyName\":parameter`. Commas are mandatory.\n",
        "\n",
        "*Note:* As of Python version 3.7, dictionaries are ordered. In Python 3.6 and earlier, dictionaries are unordered."
      ]
    },
    {
      "cell_type": "code",
      "execution_count": null,
      "metadata": {
        "id": "Y4bntOopG8-w"
      },
      "outputs": [],
      "source": [
        "person = {\"Name\": 'Napoleon', \"Height\": 1.45, \"Weight\": 60, \"EmperorYears\": [1804, 1815]}"
      ]
    },
    {
      "cell_type": "markdown",
      "metadata": {
        "id": "Ju_zxSqHIOJx"
      },
      "source": [
        "You can access any element of a dictionary by calling its `KeyName`."
      ]
    },
    {
      "cell_type": "code",
      "execution_count": null,
      "metadata": {
        "id": "l_r6OQ-VIan5"
      },
      "outputs": [],
      "source": [
        "print(person[\"Weight\"])"
      ]
    },
    {
      "cell_type": "markdown",
      "metadata": {
        "id": "rwLTu6U-IbeM"
      },
      "source": [
        "As for lists, you can modify any element of a dictionary."
      ]
    },
    {
      "cell_type": "code",
      "execution_count": null,
      "metadata": {
        "id": "Co2d001wIitL"
      },
      "outputs": [],
      "source": [
        "person[\"Height\"] = 5*0.3048 + 6*0.0254 # he was actually 5'6\n",
        "print(person[\"Height\"])"
      ]
    },
    {
      "cell_type": "markdown",
      "metadata": {
        "id": "vVLzvf3qInGt"
      },
      "source": [
        "You can add a new key-value pair to the `person` dictionary by designing a `KeyName` and assigning a value to it."
      ]
    },
    {
      "cell_type": "code",
      "execution_count": null,
      "metadata": {
        "id": "WI7nycV8JOA1"
      },
      "outputs": [],
      "source": [
        "person[\"horseColor\"] = \"White\"\n",
        "print(person)"
      ]
    },
    {
      "cell_type": "markdown",
      "metadata": {
        "id": "oM7k_0llJWnz"
      },
      "source": [
        "The method `.keys()` shows all keys in a dictionary."
      ]
    },
    {
      "cell_type": "code",
      "execution_count": null,
      "metadata": {
        "id": "MsNeY6JEJnbb"
      },
      "outputs": [],
      "source": [
        "print(person.keys())"
      ]
    },
    {
      "cell_type": "markdown",
      "metadata": {
        "id": "cqz3LybTJrqf"
      },
      "source": [
        "You can also check if the dictionary contains a specific key using the `in` operator."
      ]
    },
    {
      "cell_type": "code",
      "execution_count": null,
      "metadata": {
        "id": "f5gQ3jNnJ_bJ"
      },
      "outputs": [],
      "source": [
        "print('Name' in person)"
      ]
    },
    {
      "cell_type": "markdown",
      "metadata": {
        "id": "NqTloa7qKCvI"
      },
      "source": [
        "You can use `help(dict)` to access the relevant documentation."
      ]
    },
    {
      "cell_type": "markdown",
      "metadata": {
        "id": "SJ-6nIr0S_6d"
      },
      "source": [
        "### **Sets**"
      ]
    },
    {
      "cell_type": "markdown",
      "metadata": {
        "id": "hQn-SZwQTS77"
      },
      "source": [
        "A set is a collection which is *unordered*, *unchangeable*, and *unindexed*. You can remove and add items from a set but you cannot change its items. Sets do nto allow duplicates. They are defined with curly brackets. Commas are mandatory."
      ]
    },
    {
      "cell_type": "code",
      "execution_count": null,
      "metadata": {
        "id": "MT9xb5NFYOVI"
      },
      "outputs": [],
      "source": [
        "hazardsModel1 = {'Flood', 'Earthquake', 'Hurricane', 'Pandemics'}\n",
        "hazardsModel2 = {'Earthquake', 'Pandemics'}\n",
        "print(hazardsModel1)\n",
        "print(hazardsModel2)"
      ]
    },
    {
      "cell_type": "markdown",
      "metadata": {
        "id": "O4dOKAhjYbfm"
      },
      "source": [
        "Lists can have duplicates, sets cannot. If you define a set with duplicates, these will be removed when the set is created."
      ]
    },
    {
      "cell_type": "code",
      "execution_count": null,
      "metadata": {
        "id": "uBxkGFmCYVp2"
      },
      "outputs": [],
      "source": [
        "dummyList = ['Earthquake', 4, 8, 'Pandemics', 'Pandemics']\n",
        "dummySet = {'Earthquake', 4, 8, 8, 'Hurricane', 'Pandemics', 'Pandemics'}\n",
        "print(dummyList)\n",
        "print(dummySet)"
      ]
    },
    {
      "cell_type": "markdown",
      "metadata": {
        "id": "vqLrAGaGYq6k"
      },
      "source": [
        "Duplicate elements (of string type) are defined considering the case. Lower case precedes upper case."
      ]
    },
    {
      "cell_type": "code",
      "execution_count": null,
      "metadata": {
        "id": "bIFHCtw7YtCh"
      },
      "outputs": [],
      "source": [
        "print({'Earthquake', 4, 8, 8, 'Hurricane', 'Pandemics', 'pandemics'})"
      ]
    },
    {
      "cell_type": "markdown",
      "metadata": {
        "id": "msk0lzpNY9Sq"
      },
      "source": [
        "You can perform union and intersection operations between two sets using the operators `or` and `and` respectively."
      ]
    },
    {
      "cell_type": "code",
      "execution_count": null,
      "metadata": {
        "id": "MUpuFoySZBZ9"
      },
      "outputs": [],
      "source": [
        "union = hazardsModel1 or hazardsModel2\n",
        "intersection = hazardsModel1 and hazardsModel2\n",
        "print(union)\n",
        "print(intersection)"
      ]
    },
    {
      "cell_type": "markdown",
      "metadata": {
        "id": "SNaLC0tpZzug"
      },
      "source": [
        "An alternative way to perform union is to use the method `.union()`."
      ]
    },
    {
      "cell_type": "code",
      "execution_count": null,
      "metadata": {
        "id": "-5_IWZSvZ5VW"
      },
      "outputs": [],
      "source": [
        "union2 = hazardsModel1.union(hazardsModel2)\n",
        "print(union2)"
      ]
    },
    {
      "cell_type": "markdown",
      "metadata": {
        "id": "LHWbPl8WaUjP"
      },
      "source": [
        "You can use the `.add()` method to add elements to your set."
      ]
    },
    {
      "cell_type": "code",
      "execution_count": null,
      "metadata": {
        "id": "bQWJUATvagz3"
      },
      "outputs": [],
      "source": [
        "dummySet.add(5)\n",
        "print(dummySet)"
      ]
    },
    {
      "cell_type": "markdown",
      "metadata": {
        "id": "qgniuH6aaDD4"
      },
      "source": [
        "Now try running the following commands."
      ]
    },
    {
      "cell_type": "code",
      "execution_count": null,
      "metadata": {
        "id": "SQ6gGhY_aH9g"
      },
      "outputs": [],
      "source": [
        "union.add(5)\n",
        "print(union)"
      ]
    },
    {
      "cell_type": "code",
      "execution_count": null,
      "metadata": {
        "id": "PhowNjNGaswM"
      },
      "outputs": [],
      "source": [
        "print(hazardsModel1)"
      ]
    },
    {
      "cell_type": "markdown",
      "metadata": {
        "id": "nDcU2Vr2aHO4"
      },
      "source": [
        "Adding 5 to the `union` set we also added it to the `hazardsModel1` set."
      ]
    },
    {
      "cell_type": "markdown",
      "metadata": {
        "id": "hsc1A20rbSaV"
      },
      "source": [
        "As for dictionaries, you can check that a specific element is in a set using the `in` operator."
      ]
    },
    {
      "cell_type": "code",
      "execution_count": null,
      "metadata": {
        "id": "K0zY3KkBba-D"
      },
      "outputs": [],
      "source": [
        "print(\"Hurricane\" in hazardsModel1)\n",
        "print(\"Hurricane\" in hazardsModel2)"
      ]
    },
    {
      "cell_type": "markdown",
      "metadata": {
        "id": "GEQDFEMWbb0s"
      },
      "source": [
        "You can use `help(set)` to access the relevant documentation."
      ]
    },
    {
      "cell_type": "markdown",
      "metadata": {
        "id": "N-epf6kzHsNJ"
      },
      "source": [
        "## **Operators**"
      ]
    },
    {
      "cell_type": "markdown",
      "metadata": {
        "id": "RJjAgBnOJHkt"
      },
      "source": [
        "### **Arithmetic Operators**"
      ]
    },
    {
      "cell_type": "markdown",
      "metadata": {
        "id": "KBFY6QLwADQ0"
      },
      "source": [
        "You can run simple expressions with basic data types."
      ]
    },
    {
      "cell_type": "code",
      "execution_count": null,
      "metadata": {
        "id": "Na9rRBytxMpR"
      },
      "outputs": [],
      "source": [
        "A = 5 + 9 # add\n",
        "B = 5 - 11 # subtract\n",
        "C = 4/2 # divide\n",
        "D = 11 * 2 # multiply\n",
        "E = 4**2 # exponent\n",
        "F = 7%2 # modulo"
      ]
    },
    {
      "cell_type": "markdown",
      "metadata": {
        "id": "4Al_xEfQEFV7"
      },
      "source": [
        "Now check your outputs."
      ]
    },
    {
      "cell_type": "code",
      "execution_count": null,
      "metadata": {
        "id": "_Jq6u_blD12M"
      },
      "outputs": [],
      "source": [
        "print(A) # or B or C.."
      ]
    },
    {
      "cell_type": "markdown",
      "metadata": {
        "id": "FhahPtRmAS6H"
      },
      "source": [
        "Also variables can be called in expressions and operations can mix integers and floats."
      ]
    },
    {
      "cell_type": "code",
      "execution_count": null,
      "metadata": {
        "id": "aVmqVgnlAav_"
      },
      "outputs": [],
      "source": [
        "# remember we set at the beginning a = 11 and b = 123.4\n",
        "G = 5 - a\n",
        "H = a * 2\n",
        "I = a * b # returns a float"
      ]
    },
    {
      "cell_type": "code",
      "execution_count": null,
      "metadata": {
        "id": "pildDKNbD63i"
      },
      "outputs": [],
      "source": [
        "print(G)"
      ]
    },
    {
      "cell_type": "markdown",
      "metadata": {
        "id": "b3TDLKr4bisd"
      },
      "source": [
        "### **Comparison Operators**"
      ]
    },
    {
      "cell_type": "markdown",
      "metadata": {
        "id": "q5V6iDpMb2lb"
      },
      "source": [
        "Comparison operators compare some values and return a Boolean (true/false) as a result. Each comparison is called a conditional statement."
      ]
    },
    {
      "cell_type": "code",
      "execution_count": null,
      "metadata": {
        "id": "ws5DcU8ecAFe"
      },
      "outputs": [],
      "source": [
        "a = 6"
      ]
    },
    {
      "cell_type": "markdown",
      "metadata": {
        "id": "5H0GkHmdcH3q"
      },
      "source": [
        "Equality"
      ]
    },
    {
      "cell_type": "code",
      "execution_count": null,
      "metadata": {
        "id": "mpalkvQqcE6Y"
      },
      "outputs": [],
      "source": [
        "print(a == 6)\n",
        "print(a == 1)"
      ]
    },
    {
      "cell_type": "markdown",
      "metadata": {
        "id": "jlGhcvW1cM_l"
      },
      "source": [
        "Inequality"
      ]
    },
    {
      "cell_type": "code",
      "execution_count": null,
      "metadata": {
        "id": "p8C4MNiucOaU"
      },
      "outputs": [],
      "source": [
        "print(a != 6)\n",
        "print(a != 1)"
      ]
    },
    {
      "cell_type": "markdown",
      "metadata": {
        "id": "USfSVX0jcRTS"
      },
      "source": [
        "Greater than"
      ]
    },
    {
      "cell_type": "code",
      "execution_count": null,
      "metadata": {
        "id": "S3EEQw9fcTPR"
      },
      "outputs": [],
      "source": [
        "print(a > 2)\n",
        "print(a >= 7)"
      ]
    },
    {
      "cell_type": "markdown",
      "metadata": {
        "id": "tIIzj3yFcVVc"
      },
      "source": [
        "Lesser than"
      ]
    },
    {
      "cell_type": "code",
      "execution_count": null,
      "metadata": {
        "id": "eDje2nsdcr8Q"
      },
      "outputs": [],
      "source": [
        "print(a < 2)\n",
        "print(a <= 10)"
      ]
    },
    {
      "cell_type": "markdown",
      "metadata": {
        "id": "R2cfpmYFl3M1"
      },
      "source": [
        "###**Logical Operators**"
      ]
    },
    {
      "cell_type": "markdown",
      "metadata": {
        "id": "Uof63iyGmHFE"
      },
      "source": [
        "Logical operators `and`, `or` and `not` are used to combine conditional statements."
      ]
    },
    {
      "cell_type": "code",
      "execution_count": null,
      "metadata": {
        "id": "9CA2uYYrmbOj"
      },
      "outputs": [],
      "source": [
        "print(a > 2 and a <= 10) # it is true of both conditions are true, false otherwise\n",
        "print(a > 2 or a < 2) # it is true if either of the contitions are true (or both), false otherwise\n",
        "print(not(a > 2 and a <= 10)) # always interts a the value of a statement"
      ]
    },
    {
      "cell_type": "markdown",
      "metadata": {
        "id": "2lzmWgChkIAe"
      },
      "source": [
        "## **If statements**"
      ]
    },
    {
      "cell_type": "markdown",
      "metadata": {
        "id": "g87l5_B5kdgg"
      },
      "source": [
        "With an if statement you can provide instructions to do something if a condition is met, or do something else if otherwise."
      ]
    },
    {
      "cell_type": "code",
      "execution_count": null,
      "metadata": {
        "id": "SIdz-5N4lBWz"
      },
      "outputs": [],
      "source": [
        "age1 = 20\n",
        "age2 = 16"
      ]
    },
    {
      "cell_type": "code",
      "execution_count": null,
      "metadata": {
        "id": "HoxbLr4hlIQe"
      },
      "outputs": [],
      "source": [
        "if age1 >= 18:\n",
        "    print('The first person can enter a pub')\n",
        "else:\n",
        "    print('The first person cannot enter a pub')"
      ]
    },
    {
      "cell_type": "code",
      "execution_count": null,
      "metadata": {
        "id": "neWvBCMYlJJj"
      },
      "outputs": [],
      "source": [
        "if (age2 >= 18): # note that the brackets are irrelevant\n",
        "    print('The second person can enter a pub')\n",
        "else:\n",
        "    print('The second person cannot enter a pub')"
      ]
    },
    {
      "cell_type": "markdown",
      "metadata": {
        "id": "JyUjdpYIlPja"
      },
      "source": [
        "Note that both the colon and indentation are mandatory. The brackets around the condition in statement 2 are not mandatory."
      ]
    },
    {
      "cell_type": "markdown",
      "metadata": {
        "id": "8IXTy5JqUa6m"
      },
      "source": [
        "The `input()`function allows the user to input a value."
      ]
    },
    {
      "cell_type": "code",
      "execution_count": null,
      "metadata": {
        "id": "AD7fr5uSUk_K"
      },
      "outputs": [],
      "source": [
        "age = int(input('What is your age? '))"
      ]
    },
    {
      "cell_type": "code",
      "execution_count": null,
      "metadata": {
        "id": "CxVU5x-WUw6L"
      },
      "outputs": [],
      "source": [
        "print(age)"
      ]
    },
    {
      "cell_type": "markdown",
      "metadata": {
        "id": "LZ5lTHsGUy_w"
      },
      "source": [
        "*Optional*: using user input values and if statements write a code that tells you to enter the pub if you are above 18 or accompanied by an adult."
      ]
    },
    {
      "cell_type": "markdown",
      "metadata": {
        "id": "3gdb6yNlncbU"
      },
      "source": [
        "## **For loops**"
      ]
    },
    {
      "cell_type": "markdown",
      "metadata": {
        "id": "RhOG6aPUn1EU"
      },
      "source": [
        "A for loop performs a task a specific number of times.\n",
        "\n",
        "We define a list."
      ]
    },
    {
      "cell_type": "code",
      "execution_count": null,
      "metadata": {
        "id": "AD1KZvKxoLml"
      },
      "outputs": [],
      "source": [
        "xValues = [15, 16, 17, 18, 19, 20]"
      ]
    },
    {
      "cell_type": "markdown",
      "metadata": {
        "id": "1eei1fOeoS9F"
      },
      "source": [
        "Now for each value in the list we want the program to perform the action `print()`.\n",
        "\n",
        "Note that colon and indentation are necessary to define the loop and anything that is indented will be evaluated in the loop."
      ]
    },
    {
      "cell_type": "code",
      "execution_count": null,
      "metadata": {
        "id": "EJjpfLcLol1e"
      },
      "outputs": [],
      "source": [
        "for x in xValues:\n",
        "    print(x)"
      ]
    },
    {
      "cell_type": "markdown",
      "metadata": {
        "id": "FiewLjsgon3b"
      },
      "source": [
        "Example: represent the function `y = 3x` for a set of x values (`xValues`).\n",
        "\n",
        "To do so we define an empty list where we can store the obtained values of y. We then iterate over the x values performing the transformation `x*3 ` and store them in the new list."
      ]
    },
    {
      "cell_type": "code",
      "execution_count": null,
      "metadata": {
        "id": "YokgzGcFo3vV"
      },
      "outputs": [],
      "source": [
        "yValues = []\n",
        "\n",
        "for x in xValues:\n",
        "    yValues.append(3 * x)\n",
        "\n",
        "print(yValues) # command not in the loop"
      ]
    },
    {
      "cell_type": "markdown",
      "metadata": {
        "id": "nxMZXJaEqIj8"
      },
      "source": [
        "For loops can iterate over non-numerical lists/tuples as well. The function `enumerate()` gives you both the index and the content of a list/tuple."
      ]
    },
    {
      "cell_type": "code",
      "execution_count": null,
      "metadata": {
        "id": "wAE29E3aqKLQ"
      },
      "outputs": [],
      "source": [
        "disasters = ('hurricane', 'earthquake', 'flood', 'hurricane')\n",
        "for index, disaster in enumerate(disasters):\n",
        "    print([index, disaster])"
      ]
    },
    {
      "cell_type": "markdown",
      "metadata": {
        "id": "hiZtpfN8rjzx"
      },
      "source": [
        "You can use the `range()` function to perform an action a fixed amount of times. The `range()` function starts from 0 by default, and increments by 1 (by default) until a specified value (excluded).\n",
        "\n",
        "Note that `range(6)` is not the values of 0 to 6, but the values 0 to 5."
      ]
    },
    {
      "cell_type": "code",
      "execution_count": null,
      "metadata": {
        "id": "-sGrhUwZruRW"
      },
      "outputs": [],
      "source": [
        "for x in range(6):\n",
        "  print('I am a Data Scientist')"
      ]
    },
    {
      "cell_type": "markdown",
      "metadata": {
        "id": "lfCELS5Ws3sB"
      },
      "source": [
        "`range()` can also be used for indexing."
      ]
    },
    {
      "cell_type": "code",
      "execution_count": null,
      "metadata": {
        "id": "oOLhDRQXs8AQ"
      },
      "outputs": [],
      "source": [
        "for idx in range(len(xValues)):\n",
        "  print(xValues[idx])"
      ]
    },
    {
      "cell_type": "markdown",
      "metadata": {
        "id": "tgC4R5x7tH3-"
      },
      "source": [
        "Note this is the same as the very first loop we printed!"
      ]
    },
    {
      "cell_type": "markdown",
      "metadata": {
        "id": "KlQp8J1Rva2C"
      },
      "source": [
        "##**While loops**"
      ]
    },
    {
      "cell_type": "markdown",
      "metadata": {
        "id": "WoWmJ6psvkWV"
      },
      "source": [
        "While loops repeat a set of code until a condition is met."
      ]
    },
    {
      "cell_type": "markdown",
      "metadata": {
        "id": "Oq6fenB3vyal"
      },
      "source": [
        "Here is an example.\n",
        "\n",
        "Say we want to identify at what index value we have a 'flood' in the `disasters` tuple.\n",
        "\n",
        "We define a starting index value and increment the index until the condition is met using a while loop. We then print the index and corresponding value in the tuple."
      ]
    },
    {
      "cell_type": "code",
      "execution_count": null,
      "metadata": {
        "id": "VoGPLj9QvoMI"
      },
      "outputs": [],
      "source": [
        "i = 0\n",
        "while(disasters[i] != 'flood'):\n",
        "  i = i + 1\n",
        "print('The first element of the tuple containing a flood is:', [i, disasters[i]])"
      ]
    },
    {
      "cell_type": "markdown",
      "metadata": {
        "id": "APolwZ18tTmD"
      },
      "source": [
        "##**Functions**"
      ]
    },
    {
      "cell_type": "markdown",
      "metadata": {
        "id": "skzi7qGftYJq"
      },
      "source": [
        "A function takes some input, performs a specific task and returns some output.\n",
        "\n",
        "We have encountered several functions already. Remember the `print()` function or the `len()` function? These functions are called built-in fucntions, as they are pre-defined for us.\n",
        "\n",
        "You can use built-in functions or create your own functions. Overall, a function is just a piece of code that can be reused easily.\n",
        "\n",
        "But how do we define a function? Here is an example.\n"
      ]
    },
    {
      "cell_type": "code",
      "execution_count": null,
      "metadata": {
        "id": "yJH6bTnIt8fe"
      },
      "outputs": [],
      "source": [
        "def findFirstStringInCollection(collection, stringToFind):\n",
        "\n",
        "    i = 0\n",
        "    while(collection[i] != stringToFind):\n",
        "        i += 1 # another way to increment\n",
        "\n",
        "    idFirstString = i\n",
        "\n",
        "    return idFirstString"
      ]
    },
    {
      "cell_type": "markdown",
      "metadata": {
        "id": "8ygASWz4u0_F"
      },
      "source": [
        "When defining a function, `def`, the colon and indentation are mandatory. The `return` statement defined the function's outputs. Without it, the function will return nothing."
      ]
    },
    {
      "cell_type": "markdown",
      "metadata": {
        "id": "t56Csvc0xazS"
      },
      "source": [
        "Now given three collections we want to find the index values for specific items."
      ]
    },
    {
      "cell_type": "code",
      "execution_count": null,
      "metadata": {
        "id": "bxl6zwfbxvAX"
      },
      "outputs": [],
      "source": [
        "collection1 = ['hurricane', 'earthquake', 'flood', 'hurricane']\n",
        "stringToFind1 = 'flood'\n",
        "\n",
        "collection2 = ['red', 'blue', 'yellow', 'green']\n",
        "stringToFind2 = 'green'\n",
        "\n",
        "collection3 = ['dog', 'cat', 'lion']\n",
        "stringToFind3 = 'cat'"
      ]
    },
    {
      "cell_type": "markdown",
      "metadata": {
        "id": "60kXsryHxvm0"
      },
      "source": [
        "We can now perform this task by using a single line instead of the whole block above because we have defined a function that does this for us!"
      ]
    },
    {
      "cell_type": "code",
      "execution_count": null,
      "metadata": {
        "id": "jXhPprIEx9qR"
      },
      "outputs": [],
      "source": [
        "id1 = findFirstStringInCollection(collection1, stringToFind1)\n",
        "id2 = findFirstStringInCollection(collection2, stringToFind2)\n",
        "id3 = findFirstStringInCollection(collection3, stringToFind3)\n",
        "print(id1)\n",
        "print(id2)\n",
        "print(id3)"
      ]
    },
    {
      "cell_type": "markdown",
      "metadata": {
        "id": "pBGyrU1qz3_R"
      },
      "source": [
        "Note that the variables defined within the function are destroyed after running the function. Only the returned variables will be kept.\n",
        "\n",
        "Try to print the variable `idFirstString` which is only defined inside the function. You will see that this will throw an error."
      ]
    },
    {
      "cell_type": "code",
      "execution_count": null,
      "metadata": {
        "id": "nRqnBb_O0G9E"
      },
      "outputs": [],
      "source": [
        "# print(idFirstString)"
      ]
    },
    {
      "cell_type": "markdown",
      "metadata": {
        "id": "c99QuTTv1VBa"
      },
      "source": [
        "## **Classes (not required)**"
      ]
    },
    {
      "cell_type": "markdown",
      "metadata": {
        "id": "SZRUot3G1Zb9"
      },
      "source": [
        "A class is a template for creating python objects.\n",
        "\n",
        "Let's define an class."
      ]
    },
    {
      "cell_type": "code",
      "execution_count": null,
      "metadata": {
        "id": "X5OD5Fi32GHF"
      },
      "outputs": [],
      "source": [
        "class Dog:\n",
        "  pass\n",
        "print(Dog) # returns a python object"
      ]
    },
    {
      "cell_type": "markdown",
      "metadata": {
        "id": "snHhUvIW3Oaf"
      },
      "source": [
        "We have just defined is an empty class. We can now add properties to it. For instance we know that each dog is born with 4 legs.  "
      ]
    },
    {
      "cell_type": "code",
      "execution_count": null,
      "metadata": {
        "id": "Bz7ZlT_y3i1h"
      },
      "outputs": [],
      "source": [
        "class Dog:\n",
        "  legs = 4\n",
        "\n",
        "print(Dog.legs)"
      ]
    },
    {
      "cell_type": "markdown",
      "metadata": {
        "id": "Qbjzcxxg41nV"
      },
      "source": [
        "But we also know that each dog has a name and an age. So we can define these as specific properties of the class which can be defined every time a class is called."
      ]
    },
    {
      "cell_type": "code",
      "execution_count": null,
      "metadata": {
        "id": "uzrP8Vtu4S1C"
      },
      "outputs": [],
      "source": [
        "class Dog:\n",
        "  def __init__(self, name, age):\n",
        "    self.name = name\n",
        "    self.age = age\n",
        "\n",
        "d1 = Dog('Scamper', 3)\n",
        "\n",
        "print(d1.name)\n",
        "print(d1.age)"
      ]
    },
    {
      "cell_type": "markdown",
      "metadata": {
        "id": "ky0arji_5c9V"
      },
      "source": [
        "The `__init__()` function is always executed when a class is initiated."
      ]
    },
    {
      "cell_type": "markdown",
      "metadata": {
        "id": "ENWItBE46H2J"
      },
      "source": [
        "We can also define specific methods for a class. Remember the string-specific method `.upper()`, `.lower()` and `.title()`? We can create similar methods for our class."
      ]
    },
    {
      "cell_type": "code",
      "execution_count": null,
      "metadata": {
        "id": "WaqVl5f16d-7"
      },
      "outputs": [],
      "source": [
        "class Dog:\n",
        "  def __init__(self, name, age):\n",
        "    self.name = name\n",
        "    self.age = age\n",
        "\n",
        "  def ispuppy(self):\n",
        "    return self.age <= 1\n",
        "\n",
        "d1 = Dog('Scamper', 3)\n",
        "print(d1.ispuppy())\n",
        "\n",
        "# note that you need to call the method first to generate the attribute .puppystatus\n"
      ]
    },
    {
      "cell_type": "markdown",
      "metadata": {
        "id": "XPmqKI6w9aDk"
      },
      "source": [
        "###**Class Inheritance**"
      ]
    },
    {
      "cell_type": "markdown",
      "metadata": {
        "id": "s2MtjXDs57lR"
      },
      "source": [
        "Classes can inherit all methods and properties from other classes.\n",
        "\n",
        "Let's define a new class Parallelepiped."
      ]
    },
    {
      "cell_type": "code",
      "execution_count": null,
      "metadata": {
        "id": "-kxF2oRF9xp1"
      },
      "outputs": [],
      "source": [
        "class Parallelepiped:\n",
        "  def __init__(self, depth, height, width, angle):\n",
        "    self.depth = depth\n",
        "    self.height = height\n",
        "    self.width = width\n",
        "    self.angle = angle\n",
        "\n",
        "  def getVolume(self):\n",
        "    self.volume = self.depth*self.height*self.width\n"
      ]
    },
    {
      "cell_type": "markdown",
      "metadata": {
        "id": "HoETHPGwCEH7"
      },
      "source": [
        "We then define a Cube as a subclass of Parallelepiped."
      ]
    },
    {
      "cell_type": "code",
      "execution_count": null,
      "metadata": {
        "id": "eQDrzH-A2_ib"
      },
      "outputs": [],
      "source": [
        "class Cube(Parallelepiped):\n",
        "    def __init__(self, depth): # by stating __init__() function the new class no longer inherits the properties of the parent class\n",
        "      self.depth = depth\n",
        "      self.width = depth\n",
        "      self.height = depth\n",
        "      self.angle = 90\n",
        "\n",
        "c10 = Cube(10)\n",
        "c10.getVolume() # note that you need to call the method first to generate the attribute .volume\n",
        "print(c10.volume)"
      ]
    },
    {
      "cell_type": "markdown",
      "metadata": {
        "id": "_9L8rgkwCblG"
      },
      "source": [
        "The class Cube has inherited the method `.getVolume()` from the class Parallelepiped."
      ]
    }
  ],
  "metadata": {
    "colab": {
      "collapsed_sections": [
        "zsrzyXaq0-zX",
        "qsMxJY_5nxOB",
        "zt2IoSeUtshc",
        "Ya0kyjYlFCSY",
        "fV43NFT1ErlA",
        "WHwNVWHZYMsw",
        "n8nZTi8b925R",
        "8Oy0Fo3hGoL9",
        "SJ-6nIr0S_6d",
        "RJjAgBnOJHkt",
        "b3TDLKr4bisd",
        "R2cfpmYFl3M1",
        "2lzmWgChkIAe",
        "3gdb6yNlncbU",
        "KlQp8J1Rva2C",
        "APolwZ18tTmD",
        "c99QuTTv1VBa"
      ],
      "provenance": []
    },
    "kernelspec": {
      "display_name": "Python 3",
      "name": "python3"
    },
    "language_info": {
      "name": "python"
    }
  },
  "nbformat": 4,
  "nbformat_minor": 0
}
