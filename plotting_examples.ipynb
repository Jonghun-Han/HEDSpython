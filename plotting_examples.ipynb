{
  "cells": [
    {
      "cell_type": "markdown",
      "metadata": {
        "id": "fKfwtHgEkYSJ"
      },
      "source": [
        "#**Plotting examples**"
      ]
    },
    {
      "cell_type": "markdown",
      "metadata": {
        "id": "uABAnpfYmayj"
      },
      "source": [
        "Let's go over some plotting examples using `matplotlib`."
      ]
    },
    {
      "cell_type": "code",
      "execution_count": null,
      "metadata": {
        "id": "QCrDgmfBUF5g"
      },
      "outputs": [],
      "source": [
        "import matplotlib.pyplot as plt\n",
        "import numpy as np"
      ]
    },
    {
      "cell_type": "markdown",
      "metadata": {
        "id": "eDW7LoaOkdaK"
      },
      "source": [
        "General advise for plots:\n",
        "\n",
        "1.   Always generate the figure in high quality (dpi=200)\n",
        "2.   Always add the labels on the axes\n",
        "3.   Always add the units in square brackets\n",
        "4.   If the variables are unit-less, indicate [-]\n",
        "5.   If there are many data series, add a legend (which means: add labels to data series)\n",
        "6.   Place the legend such as it does not cover the plotted data\n",
        "7.   Always provide good limits for the axes (xlim, ylim)\n"
      ]
    },
    {
      "cell_type": "markdown",
      "metadata": {
        "id": "PG7pSzZFk3_Y"
      },
      "source": [
        "Let's generate dummy data for our plots."
      ]
    },
    {
      "cell_type": "code",
      "execution_count": null,
      "metadata": {
        "id": "licHpaiYk6Sv"
      },
      "outputs": [],
      "source": [
        "x1 = np.linspace(0, 10, 100)\n",
        "y1 = 4 + 2 * np.sin(2 * x1)\n",
        "z1 = 1 + 4 * np.cos(2 * x1)\n",
        "\n",
        "np.random.seed(3)\n",
        "x2 = 0.5 + np.arange(8)\n",
        "y2 = np.random.uniform(2, 7, len(x2))\n",
        "z2 = 0.3*np.random.uniform(2, 7, len(x2))\n",
        "\n",
        "np.random.seed(3)\n",
        "x3 = 5 + np.random.normal(0, 2, 24)\n",
        "y3 = 5 + np.random.normal(0, 2, len(x3))\n",
        "x4 = 10 + np.random.normal(0, 2, 24)\n",
        "y4 = 12 + np.random.normal(0, 2, len(x4))\n",
        "\n",
        "np.random.seed(19680801)\n",
        "n = 100\n",
        "rng = np.random.default_rng()\n",
        "x5 = rng.uniform(23, 32, n)\n",
        "y5 = rng.uniform(0, 100, n)\n",
        "z5 = rng.uniform(-50, -25, n)\n",
        "\n",
        "np.random.seed(1)\n",
        "x6 = 4 + np.random.normal(0, 1.5, 200)"
      ]
    },
    {
      "cell_type": "markdown",
      "metadata": {
        "id": "fYCn3ksWlEwB"
      },
      "source": [
        "##**Line plot**"
      ]
    },
    {
      "cell_type": "markdown",
      "metadata": {
        "id": "A--HIe1pk9RY"
      },
      "source": [
        "There is a bad line plot"
      ]
    },
    {
      "cell_type": "code",
      "execution_count": null,
      "metadata": {
        "id": "AvrGhQLKk_a5"
      },
      "outputs": [],
      "source": [
        "fig, ax = plt.subplots()\n",
        "ax.plot(x1, y1)\n",
        "ax.plot(x1, z1)\n",
        "plt.show()"
      ]
    },
    {
      "cell_type": "markdown",
      "metadata": {
        "id": "oK_AilQLlHYR"
      },
      "source": [
        "Here is a good line plot"
      ]
    },
    {
      "cell_type": "code",
      "execution_count": null,
      "metadata": {
        "id": "b71TumDplCaz"
      },
      "outputs": [],
      "source": [
        "fig, ax = plt.subplots(dpi=200)\n",
        "ax.plot(x1, y1, linewidth=2.0, label='Sine fx')\n",
        "ax.plot(x1, z1, linewidth=2.0, label='Cosine fx')\n",
        "ax.set(xlim=(0, 10), xticks=np.arange(1, 11, 2),\n",
        "       ylim=(-8, 8), yticks=np.arange(-8, 10, 2))\n",
        "plt.grid(visible=None)\n",
        "plt.legend()\n",
        "plt.xlabel('Time [s]')\n",
        "plt.ylabel('Height [cm]')\n",
        "plt.show()"
      ]
    },
    {
      "cell_type": "markdown",
      "metadata": {
        "id": "TlOIaEn5lKay"
      },
      "source": [
        "##**Bar plot**"
      ]
    },
    {
      "cell_type": "code",
      "execution_count": null,
      "metadata": {
        "id": "n5Dl3L7dlKFc"
      },
      "outputs": [],
      "source": [
        "fig, ax = plt.subplots(dpi=200)\n",
        "ax.bar(x2, y2, linewidth=2.0)\n",
        "ax.bar(x2, z2, linewidth=2.0)\n",
        "ax.set(xticks=np.arange(1, len(x2)+1))\n",
        "plt.grid(visible=True)\n",
        "plt.xlabel('Day [-]')\n",
        "plt.ylabel('Bananas [-]')\n",
        "plt.show()"
      ]
    },
    {
      "cell_type": "markdown",
      "metadata": {
        "id": "wqEHBQF9lN_L"
      },
      "source": [
        "##**Scatter plot**"
      ]
    },
    {
      "cell_type": "markdown",
      "metadata": {
        "id": "eHYxf3nFmAb0"
      },
      "source": [
        "Note you can set the size of the markers as an attribute."
      ]
    },
    {
      "cell_type": "code",
      "execution_count": null,
      "metadata": {
        "id": "RyH9toXGmS3j"
      },
      "outputs": [],
      "source": [
        "sizes = np.random.uniform(15, 80, len(x3))"
      ]
    },
    {
      "cell_type": "code",
      "execution_count": null,
      "metadata": {
        "id": "UttKXj-8lSze"
      },
      "outputs": [],
      "source": [
        "fig, ax = plt.subplots(dpi=200)\n",
        "ax.scatter(x3, y3, s=sizes, c='#d62728', vmin=0, vmax=100, label='poor HEDS')\n",
        "ax.scatter(x4, y4, s=sizes, c='#2ca02c', vmin=0, vmax=100, label='good HEDS')\n",
        "plt.xticks([], [])\n",
        "plt.yticks([], [])\n",
        "plt.grid(visible=None)\n",
        "plt.xlabel('Humanitarian [-]')\n",
        "plt.ylabel('Engineering [-]')\n",
        "plt.legend(loc='lower right')\n",
        "plt.show()"
      ]
    },
    {
      "cell_type": "markdown",
      "metadata": {
        "id": "l1kt0MF1ldIN"
      },
      "source": [
        "##**3D Scatter**"
      ]
    },
    {
      "cell_type": "code",
      "execution_count": null,
      "metadata": {
        "id": "aotJmQ07lhhL"
      },
      "outputs": [],
      "source": [
        "fig, ax = plt.subplots(subplot_kw={\"projection\": \"3d\"}, dpi=200)\n",
        "ax.scatter(x5, y5, z5)\n",
        "ax.set(xticklabels=[],\n",
        "       yticklabels=[],\n",
        "       zticklabels=[])\n",
        "plt.xlabel('X [-]')\n",
        "plt.ylabel('Y [-]')\n",
        "ax.set_zlabel('Z [-]')\n",
        "plt.show()"
      ]
    },
    {
      "cell_type": "markdown",
      "metadata": {
        "id": "-sF5mXPAliWD"
      },
      "source": [
        "##**Histogram**"
      ]
    },
    {
      "cell_type": "code",
      "execution_count": null,
      "metadata": {
        "id": "xOUvZktClktl"
      },
      "outputs": [],
      "source": [
        "fig, ax = plt.subplots(dpi=200)\n",
        "ax.hist(x6, bins=8, linewidth=0.5, edgecolor=\"white\")\n",
        "ax.set(xlim=(0, 8), xticks=np.arange(1, 8),\n",
        "       ylim=(0, 56), yticks=np.linspace(0, 56, 9))\n",
        "plt.xlabel('Years of schooling [-]')\n",
        "plt.ylabel('Occurrences [-]')\n",
        "plt.grid(visible=None)\n",
        "plt.show()"
      ]
    },
    {
      "cell_type": "markdown",
      "metadata": {
        "id": "rKJNM9bxlmiA"
      },
      "source": [
        "##**Subplots**"
      ]
    },
    {
      "cell_type": "code",
      "execution_count": null,
      "metadata": {
        "id": "XBto5jpllq5s"
      },
      "outputs": [],
      "source": [
        "fig, (ax1, ax2) = plt.subplots(nrows=1, ncols=2, figsize=(10,5), dpi=200)\n",
        "ax1.plot(x1, y1, 'o-')\n",
        "ax1.set_xlabel('Time [s]')\n",
        "ax1.set_ylabel('Temperature [°]')\n",
        "ax2.plot(x2, y2, '.-')\n",
        "ax2.set_xlabel('time [s]')\n",
        "ax1.set_ylim(1,7)\n",
        "ax2.set_ylim(1,7)\n",
        "ax1.grid(visible=None)\n",
        "ax2.grid(visible=None)\n",
        "plt.show()"
      ]
    }
  ],
  "metadata": {
    "colab": {
      "provenance": []
    },
    "kernelspec": {
      "display_name": "Python 3",
      "name": "python3"
    },
    "language_info": {
      "name": "python"
    }
  },
  "nbformat": 4,
  "nbformat_minor": 0
}