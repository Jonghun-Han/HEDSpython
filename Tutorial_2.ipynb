{
  "nbformat": 4,
  "nbformat_minor": 0,
  "metadata": {
    "colab": {
      "provenance": []
    },
    "kernelspec": {
      "name": "python3",
      "display_name": "Python 3"
    },
    "language_info": {
      "name": "python"
    }
  },
  "cells": [
    {
      "cell_type": "markdown",
      "source": [
        "<a target=\"_blank\" href=\"https://colab.research.google.com/github/robgen/HEDSpython/blob/main/Tutorial_2.ipynb\">\n",
        "  <img src=\"https://colab.research.google.com/assets/colab-badge.svg\" alt=\"Open In Colab\"/>\n",
        "</a>"
      ],
      "metadata": {
        "id": "86ocVQtOgcPy"
      }
    },
    {
      "cell_type": "markdown",
      "metadata": {
        "id": "5jC5QkiVSuat"
      },
      "source": [
        "# **Recap**"
      ]
    },
    {
      "cell_type": "code",
      "execution_count": null,
      "metadata": {
        "id": "RXUXNwgsSuaw"
      },
      "outputs": [],
      "source": [
        "HEDS_cohort =[\n",
        "    {'Name': 'Giulia', 'Lastname': 'Brutti', 'HEDS Role':'PGTA', 'Degree Level':'PhD', 'Age': 22, 'Institution':'UCL'},\n",
        "    {'Name': 'Roberto', 'Lastname': 'Gentile', 'HEDS Role':'Lecturer', 'Degree Level':'Dr', 'Age': 33, 'Institution':'UCL'}\n",
        "    ]"
      ]
    },
    {
      "cell_type": "markdown",
      "metadata": {
        "id": "aNFDPQLySuax"
      },
      "source": [
        "Access the data profile for Giulia."
      ]
    },
    {
      "cell_type": "code",
      "execution_count": null,
      "metadata": {
        "id": "DbFtYaWXSuay"
      },
      "outputs": [],
      "source": [
        "# add code here\n"
      ]
    },
    {
      "cell_type": "markdown",
      "metadata": {
        "id": "DIcvlgj3Suay"
      },
      "source": [
        "Giulia's age is actually 26. Change Giulia's age to the correct value."
      ]
    },
    {
      "cell_type": "code",
      "execution_count": null,
      "metadata": {
        "id": "aLgmYN-xSuay"
      },
      "outputs": [],
      "source": [
        "# add code here\n"
      ]
    },
    {
      "cell_type": "markdown",
      "metadata": {
        "id": "au0LrabESuaz"
      },
      "source": [
        "Add your profile to the list of HEDS profiles."
      ]
    },
    {
      "cell_type": "code",
      "execution_count": null,
      "metadata": {
        "id": "FvwDxTtFSuaz"
      },
      "outputs": [],
      "source": [
        "# add code here\n"
      ]
    },
    {
      "cell_type": "markdown",
      "metadata": {
        "id": "Iy0Vlv-oSuaz"
      },
      "source": [
        "Add the voice 'Previous insitution' for all people in the cohot. Roberto's previous insitution is IUSS while Giulia's is LSE."
      ]
    },
    {
      "cell_type": "code",
      "execution_count": null,
      "metadata": {
        "id": "rEH02F11Sua0"
      },
      "outputs": [],
      "source": [
        "# add code here\n"
      ]
    },
    {
      "cell_type": "markdown",
      "metadata": {
        "id": "3lJCMx37Sua0"
      },
      "source": [
        "For each person in the cohort compute and print their age in 2027."
      ]
    },
    {
      "cell_type": "code",
      "execution_count": null,
      "metadata": {
        "id": "IW2TZGpUSua0"
      },
      "outputs": [],
      "source": [
        "# add code here\n"
      ]
    },
    {
      "cell_type": "markdown",
      "metadata": {
        "id": "43N7CyGYnG2n"
      },
      "source": [
        "# **Working directory and file paths**"
      ]
    },
    {
      "cell_type": "markdown",
      "metadata": {
        "id": "dUkJSI6smQii"
      },
      "source": [
        "In you computer, an absolute path for a file starts from the root of the hard drive (C:/ or Users). An example is"
      ]
    },
    {
      "cell_type": "code",
      "execution_count": null,
      "metadata": {
        "id": "ExIX2Ls7mWp_"
      },
      "outputs": [],
      "source": [
        "relativeFilePath = '/Users/giuliabrutti/Documents/GitHub/HEDSpython/files/humEng.txt'"
      ]
    },
    {
      "cell_type": "markdown",
      "metadata": {
        "id": "ikSWqXAopucr"
      },
      "source": [
        "We are now working in a virtual environment, so absolute file paths will look slightly different than usual.\n",
        "\n",
        "Run the command `!pwd` (pwd stands for \"path to working directory\") to know your current working directory."
      ]
    },
    {
      "cell_type": "code",
      "execution_count": null,
      "metadata": {
        "id": "yFQlc2CGFOk0"
      },
      "outputs": [],
      "source": [
        "!pwd"
      ]
    },
    {
      "cell_type": "markdown",
      "metadata": {
        "id": "9DHuJkywFxnY"
      },
      "source": [
        "The reason for this is that Colab is a virtual environment which is not running in your machine but on the cloud instead.\n",
        "\n",
        "You can create, clone or access repositories locally (in your Google Drive) with the following commands."
      ]
    },
    {
      "cell_type": "code",
      "execution_count": null,
      "metadata": {
        "id": "0NL9vActpcBO"
      },
      "outputs": [],
      "source": [
        "from google.colab import drive\n",
        "drive.mount(\"/content/drive\")"
      ]
    },
    {
      "cell_type": "markdown",
      "source": [
        "We want to clone the HEDSPython repository from GitHub to your drive so that it is accessible from the MyDrive folder.\n",
        "\n",
        "First we change working directory to the location \"drive/MyDrive\" where we want to clone the files, using the `cd` (cd stands for \"change directory\") command."
      ],
      "metadata": {
        "id": "jrxt-trkX8_s"
      }
    },
    {
      "cell_type": "code",
      "source": [
        "%cd drive/MyDrive"
      ],
      "metadata": {
        "id": "wWKN2TiiYctr"
      },
      "execution_count": null,
      "outputs": []
    },
    {
      "cell_type": "markdown",
      "source": [
        "We can now clone the repository from GitHub running the following command."
      ],
      "metadata": {
        "id": "uoNAzwtPY_g-"
      }
    },
    {
      "cell_type": "code",
      "source": [
        "!git clone https://github.com/robgen/HEDSpython.git"
      ],
      "metadata": {
        "id": "zngw-uQ6YhsH"
      },
      "execution_count": null,
      "outputs": []
    },
    {
      "cell_type": "markdown",
      "metadata": {
        "id": "wuzCoNCkGdR3"
      },
      "source": [
        "Now we want to access files in our HEDSpython folder that we just cloned in MyDrive."
      ]
    },
    {
      "cell_type": "code",
      "execution_count": null,
      "metadata": {
        "id": "ZYY_aksDGgor"
      },
      "outputs": [],
      "source": [
        "%cd /content/drive/MyDrive/HEDSpython"
      ]
    },
    {
      "cell_type": "markdown",
      "metadata": {
        "id": "OyuOqVOdHySs"
      },
      "source": [
        "From our working directory (the folder HEDSpython) we can now use the relative file path (i.e., the path within our directory) to access our files."
      ]
    },
    {
      "cell_type": "code",
      "execution_count": null,
      "metadata": {
        "id": "mCUv1SgsEaRd"
      },
      "outputs": [],
      "source": [
        "relativeFilePath = 'files/humEng.txt'"
      ]
    },
    {
      "cell_type": "markdown",
      "metadata": {
        "id": "eA5kxg5JIHxL"
      },
      "source": [
        "We use `open(relativeFilePath, 'r')` to open the file in read mode (where 'r' stands for read, using 'w' would open the file in write mode instead).\n",
        "\n",
        "Relative paths work in every computer, as long as the pwd is right. `open(absoluteFilePath, 'r')` would give an error, since the indicated absolute path does not exist in your Drive."
      ]
    },
    {
      "cell_type": "code",
      "execution_count": null,
      "metadata": {
        "id": "orGpvbJZIF2R"
      },
      "outputs": [],
      "source": [
        "fileHandle = open(relativeFilePath, 'r')"
      ]
    },
    {
      "cell_type": "markdown",
      "metadata": {
        "id": "83L1rFCJJAS2"
      },
      "source": [
        "We use the `.readline()` method to read each line of the file."
      ]
    },
    {
      "cell_type": "code",
      "execution_count": null,
      "metadata": {
        "id": "jwdiwgJkEuzy"
      },
      "outputs": [],
      "source": [
        "line1 = fileHandle.readline()\n",
        "line2 = fileHandle.readline()\n",
        "line3 = fileHandle.readline()\n",
        "line4 = fileHandle.readline()"
      ]
    },
    {
      "cell_type": "markdown",
      "metadata": {
        "id": "sgntTXHeJVTJ"
      },
      "source": [
        "We always close the file after reading or writing stuff in it."
      ]
    },
    {
      "cell_type": "code",
      "execution_count": null,
      "metadata": {
        "id": "Rrt2zJ0qEvZx"
      },
      "outputs": [],
      "source": [
        "fileHandle.close()"
      ]
    },
    {
      "cell_type": "markdown",
      "metadata": {
        "id": "WJS0lL50JhC9"
      },
      "source": [
        "After the file is closed we cannot read its content anymore. Re-running the code section including the `.readline()` method now would throw an error. Feel free to try.\n",
        "\n",
        "We can then print show the content of the file using the `print()` function."
      ]
    },
    {
      "cell_type": "code",
      "execution_count": null,
      "metadata": {
        "id": "eauYV0VzE32b"
      },
      "outputs": [],
      "source": [
        "print(line1)\n",
        "print(line2)\n",
        "print(line3)\n",
        "print(line4)"
      ]
    },
    {
      "cell_type": "markdown",
      "metadata": {
        "id": "9Q07qbGyKOKe"
      },
      "source": [
        "You can take a look at the relevant documentation on reading and writing files running the code below."
      ]
    },
    {
      "cell_type": "code",
      "execution_count": null,
      "metadata": {
        "id": "boR_w_KmKL08"
      },
      "outputs": [],
      "source": [
        "import io\n",
        "help(io.TextIOBase)"
      ]
    }
  ]
}