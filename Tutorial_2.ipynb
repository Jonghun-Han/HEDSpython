{
  "nbformat": 4,
  "nbformat_minor": 0,
  "metadata": {
    "colab": {
      "provenance": []
    },
    "kernelspec": {
      "name": "python3",
      "display_name": "Python 3"
    },
    "language_info": {
      "name": "python"
    }
  },
  "cells": [
    {
      "cell_type": "markdown",
      "source": [
        "# **Working directory and file paths**"
      ],
      "metadata": {
        "id": "X71BtDI6mBPZ"
      }
    },
    {
      "cell_type": "markdown",
      "source": [
        "In you computer, an absolute path for a file starts from the root of the hard drive (C:/ or Users). An example is"
      ],
      "metadata": {
        "id": "dUkJSI6smQii"
      }
    },
    {
      "cell_type": "code",
      "source": [
        "relativeFilePath = '/Users/giuliabrutti/Documents/GitHub/HEDSpython/files/humEng.txt'"
      ],
      "metadata": {
        "id": "ExIX2Ls7mWp_"
      },
      "execution_count": 7,
      "outputs": []
    },
    {
      "cell_type": "markdown",
      "source": [
        "We are now working in a virtual environemnt, so absolute file paths will look slightly different than usual.\n",
        "\n",
        "Run the command `!pwd` (pwd stands for \"path to working directory\") to know your current working directory."
      ],
      "metadata": {
        "id": "ikSWqXAopucr"
      }
    },
    {
      "cell_type": "code",
      "source": [
        "!pwd"
      ],
      "metadata": {
        "colab": {
          "base_uri": "https://localhost:8080/"
        },
        "id": "0NL9vActpcBO",
        "outputId": "a35df773-3110-4a65-87e5-dd9a3f4313f5"
      },
      "execution_count": 8,
      "outputs": [
        {
          "output_type": "stream",
          "name": "stdout",
          "text": [
            "/content\n"
          ]
        }
      ]
    }
  ]
}