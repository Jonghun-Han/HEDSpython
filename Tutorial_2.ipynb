{
  "cells": [
    {
      "cell_type": "markdown",
      "metadata": {
        "id": "5jC5QkiVSuat"
      },
      "source": [
        "# **Recap**"
      ]
    },
    {
      "cell_type": "code",
      "execution_count": null,
      "metadata": {
        "id": "RXUXNwgsSuaw"
      },
      "outputs": [],
      "source": [
        "HEDS_cohort =[\n",
        "    {'Name': 'Giulia', 'Lastname': 'Brutti', 'HEDS Role':'PGTA', 'Degree Level':'PhD', 'Age': 22, 'Institution':'UCL'},\n",
        "    {'Name': 'Roberto', 'Lastname': 'Gentile', 'HEDS Role':'Lecturer', 'Degree Level':'Dr', 'Age': 33, 'Institution':'UCL'}\n",
        "    ]"
      ]
    },
    {
      "cell_type": "markdown",
      "metadata": {
        "id": "aNFDPQLySuax"
      },
      "source": [
        "Access the data profile for Giulia."
      ]
    },
    {
      "cell_type": "code",
      "execution_count": null,
      "metadata": {
        "colab": {
          "base_uri": "https://localhost:8080/"
        },
        "id": "DbFtYaWXSuay",
        "outputId": "4aed5e53-1408-4288-e62f-6c175261cdd1"
      },
      "outputs": [
        {
          "name": "stdout",
          "output_type": "stream",
          "text": [
            "{'Name': 'Giulia', 'Lastname': 'Brutti', 'HEDS Role': 'PGTA', 'Degree Level': 'PhD', 'Age': 22, 'Institution': 'UCL'}\n"
          ]
        }
      ],
      "source": [
        "# add code here\n",
        "giulia = HEDS_cohort[0]\n",
        "print(giulia)"
      ]
    },
    {
      "cell_type": "markdown",
      "metadata": {
        "id": "DIcvlgj3Suay"
      },
      "source": [
        "Giulia's age is actually 26. Change Giulia's age to the correct value."
      ]
    },
    {
      "cell_type": "code",
      "execution_count": null,
      "metadata": {
        "colab": {
          "base_uri": "https://localhost:8080/"
        },
        "id": "aLgmYN-xSuay",
        "outputId": "728999fc-3390-4b1a-c960-d69d3f2a2591"
      },
      "outputs": [
        {
          "name": "stdout",
          "output_type": "stream",
          "text": [
            "22\n",
            "26\n"
          ]
        }
      ],
      "source": [
        "# add code here\n",
        "print(giulia['Age'])\n",
        "giulia['Age'] = 26\n",
        "print(giulia['Age'])"
      ]
    },
    {
      "cell_type": "markdown",
      "metadata": {
        "id": "au0LrabESuaz"
      },
      "source": [
        "Add your profile to the list of HEDS profiles."
      ]
    },
    {
      "cell_type": "code",
      "execution_count": null,
      "metadata": {
        "colab": {
          "base_uri": "https://localhost:8080/"
        },
        "id": "FvwDxTtFSuaz",
        "outputId": "2b26e70d-0141-47d2-c58d-2ea65809eabd"
      },
      "outputs": [
        {
          "name": "stdout",
          "output_type": "stream",
          "text": [
            "{'Name': 'Tizia', 'Lastname': 'Caia', 'HEDS Role': 'Student', 'Degree Level': 'BSc', 'Age': 20, 'Institution': 'UCL'}\n"
          ]
        }
      ],
      "source": [
        "# add code here\n",
        "HEDS_cohort.append({'Name': 'Tizia', 'Lastname': 'Caia', 'HEDS Role': 'Student', 'Degree Level': 'BSc', 'Age': 20, 'Institution': 'UCL'})\n",
        "print(HEDS_cohort[-1])"
      ]
    },
    {
      "cell_type": "markdown",
      "metadata": {
        "id": "Iy0Vlv-oSuaz"
      },
      "source": [
        "Add the voice 'Previous insitution' for all people in the cohot. Roberto's previous insitution is IUSS while Giulia's is LSE."
      ]
    },
    {
      "cell_type": "code",
      "execution_count": null,
      "metadata": {
        "colab": {
          "base_uri": "https://localhost:8080/"
        },
        "id": "rEH02F11Sua0",
        "outputId": "fb295a7c-76ab-4d61-d5cb-72aee86bd4ef"
      },
      "outputs": [
        {
          "data": {
            "text/plain": [
              "[{'Name': 'Giulia',\n",
              "  'Lastname': 'Brutti',\n",
              "  'HEDS Role': 'PGTA',\n",
              "  'Degree Level': 'PhD',\n",
              "  'Age': 26,\n",
              "  'Institution': 'UCL',\n",
              "  'Previous insitution': 'LSE'},\n",
              " {'Name': 'Roberto',\n",
              "  'Lastname': 'Gentile',\n",
              "  'HEDS Role': 'Lecturer',\n",
              "  'Degree Level': 'Dr',\n",
              "  'Age': 33,\n",
              "  'Institution': 'UCL',\n",
              "  'Previous insitution': 'IUSS'},\n",
              " {'Name': 'Tizia',\n",
              "  'Lastname': 'Caia',\n",
              "  'HEDS Role': 'Student',\n",
              "  'Degree Level': 'BSc',\n",
              "  'Age': 20,\n",
              "  'Institution': 'UCL',\n",
              "  'Previous insitution': 'UCL'}]"
            ]
          },
          "execution_count": 199,
          "metadata": {},
          "output_type": "execute_result"
        }
      ],
      "source": [
        "# add code here\n",
        "previous_inst = ['LSE', 'IUSS', 'UCL']\n",
        "\n",
        "for person_idx in range(len(HEDS_cohort)):\n",
        "  HEDS_cohort[person_idx]['Previous insitution'] = previous_inst[person_idx]\n",
        "\n",
        "HEDS_cohort"
      ]
    },
    {
      "cell_type": "markdown",
      "metadata": {
        "id": "3lJCMx37Sua0"
      },
      "source": [
        "For each person in the cohort compute and print their age in 2027."
      ]
    },
    {
      "cell_type": "code",
      "execution_count": null,
      "metadata": {
        "colab": {
          "base_uri": "https://localhost:8080/"
        },
        "id": "IW2TZGpUSua0",
        "outputId": "478ce036-71f1-45b3-e2d3-4e88f390e60d"
      },
      "outputs": [
        {
          "name": "stdout",
          "output_type": "stream",
          "text": [
            "in 2027 Giulia will be 30\n",
            "in 2027 Roberto will be 37\n",
            "in 2027 Tizia will be 24\n"
          ]
        }
      ],
      "source": [
        "# add code here\n",
        "for person in HEDS_cohort:\n",
        "  name = person['Name']\n",
        "  print(f'in 2027 {name} will be ' + str(person['Age'] + 4))"
      ]
    },
    {
      "cell_type": "markdown",
      "metadata": {
        "id": "43N7CyGYnG2n"
      },
      "source": [
        "# **Working directory and file paths**"
      ]
    },
    {
      "cell_type": "markdown",
      "metadata": {
        "id": "dUkJSI6smQii"
      },
      "source": [
        "In you computer, an absolute path for a file starts from the root of the hard drive (C:/ or Users). An example is"
      ]
    },
    {
      "cell_type": "code",
      "execution_count": null,
      "metadata": {
        "id": "ExIX2Ls7mWp_"
      },
      "outputs": [],
      "source": [
        "relativeFilePath = '/Users/giuliabrutti/Documents/GitHub/HEDSpython/files/humEng.txt'"
      ]
    },
    {
      "cell_type": "markdown",
      "metadata": {
        "id": "ikSWqXAopucr"
      },
      "source": [
        "We are now working in a virtual environment, so absolute file paths will look slightly different than usual.\n",
        "\n",
        "Run the command `!pwd` (pwd stands for \"path to working directory\") to know your current working directory."
      ]
    },
    {
      "cell_type": "code",
      "execution_count": null,
      "metadata": {
        "colab": {
          "base_uri": "https://localhost:8080/"
        },
        "id": "yFQlc2CGFOk0",
        "outputId": "321b1781-8a07-4910-89dc-bf37a33bf502"
      },
      "outputs": [
        {
          "name": "stdout",
          "output_type": "stream",
          "text": [
            "/content\n"
          ]
        }
      ],
      "source": [
        "!pwd"
      ]
    },
    {
      "cell_type": "markdown",
      "metadata": {
        "id": "9DHuJkywFxnY"
      },
      "source": [
        "The reason for this is that Colab is a virtual environment which is not running in your machine but on the cloud instead.\n",
        "\n",
        "You can create, clone or access repositories locally (in your Google Drive) with the following commands."
      ]
    },
    {
      "cell_type": "code",
      "execution_count": null,
      "metadata": {
        "colab": {
          "base_uri": "https://localhost:8080/"
        },
        "id": "0NL9vActpcBO",
        "outputId": "3718cfd5-729f-4541-d06b-e4401b73f7bc"
      },
      "outputs": [
        {
          "name": "stdout",
          "output_type": "stream",
          "text": [
            "Mounted at /content/drive\n"
          ]
        }
      ],
      "source": [
        "from google.colab import drive\n",
        "drive.mount(\"/content/drive\")"
      ]
    },
    {
      "cell_type": "markdown",
      "metadata": {
        "id": "wuzCoNCkGdR3"
      },
      "source": [
        "We want to access files in our HEDSpython folder which is stored in MyDrive. We therefore change working directory to \"/content/drive/MyDrive/HEDSpython\" using the `cd` (cd stands for \"change directory\") command."
      ]
    },
    {
      "cell_type": "code",
      "execution_count": null,
      "metadata": {
        "colab": {
          "base_uri": "https://localhost:8080/"
        },
        "id": "ZYY_aksDGgor",
        "outputId": "e13d72d8-2690-42cb-d592-aea187d7008a"
      },
      "outputs": [
        {
          "name": "stdout",
          "output_type": "stream",
          "text": [
            "/content/drive/MyDrive/HEDSpython\n"
          ]
        }
      ],
      "source": [
        "%cd /content/drive/MyDrive/HEDSpython"
      ]
    },
    {
      "cell_type": "markdown",
      "metadata": {
        "id": "OyuOqVOdHySs"
      },
      "source": [
        "From our working directory (the folder HEDSpython) we can now use the relative file path (i.e., the path within our directory) to access our files."
      ]
    },
    {
      "cell_type": "code",
      "execution_count": null,
      "metadata": {
        "id": "mCUv1SgsEaRd"
      },
      "outputs": [],
      "source": [
        "relativeFilePath = 'files/humEng.txt'"
      ]
    },
    {
      "cell_type": "markdown",
      "metadata": {
        "id": "eA5kxg5JIHxL"
      },
      "source": [
        "We use `open(relativeFilePath, 'r')` to open the file in read mode (where 'r' stands for read, using 'w' would open the file in write mode instead).\n",
        "\n",
        "Relative paths work in every computer, as long as the pwd is right. `open(absoluteFilePath, 'r')` would give an error, since the indicated absolute path does not exist in your Drive."
      ]
    },
    {
      "cell_type": "code",
      "execution_count": null,
      "metadata": {
        "id": "orGpvbJZIF2R"
      },
      "outputs": [],
      "source": [
        "fileHandle = open(relativeFilePath, 'r')"
      ]
    },
    {
      "cell_type": "markdown",
      "metadata": {
        "id": "83L1rFCJJAS2"
      },
      "source": [
        "We use the `.readline()` method to read each line of the file."
      ]
    },
    {
      "cell_type": "code",
      "execution_count": null,
      "metadata": {
        "id": "jwdiwgJkEuzy"
      },
      "outputs": [],
      "source": [
        "line1 = fileHandle.readline()\n",
        "line2 = fileHandle.readline()\n",
        "line3 = fileHandle.readline()\n",
        "line4 = fileHandle.readline()"
      ]
    },
    {
      "cell_type": "markdown",
      "metadata": {
        "id": "sgntTXHeJVTJ"
      },
      "source": [
        "We always close the file after reading or writing stuff in it."
      ]
    },
    {
      "cell_type": "code",
      "execution_count": null,
      "metadata": {
        "id": "Rrt2zJ0qEvZx"
      },
      "outputs": [],
      "source": [
        "fileHandle.close()"
      ]
    },
    {
      "cell_type": "markdown",
      "metadata": {
        "id": "WJS0lL50JhC9"
      },
      "source": [
        "After the file is closed we cannot read its content anymore. Re-running the code section including the `.readline()` method now would throw an error. Feel free to try.\n",
        "\n",
        "We can then print show the content of the file using the `print()` function."
      ]
    },
    {
      "cell_type": "code",
      "execution_count": null,
      "metadata": {
        "colab": {
          "base_uri": "https://localhost:8080/"
        },
        "id": "eauYV0VzE32b",
        "outputId": "dd74082e-2760-410a-b844-387afc116f46"
      },
      "outputs": [
        {
          "name": "stdout",
          "output_type": "stream",
          "text": [
            "Humanitarian Engineering: definition in Enciclopedia Britannica\n",
            "\n",
            "https://www.britannica.com/topic/humanitarian-engineering\n",
            "\n",
            "\n",
            "\n",
            "humanitarian engineering, the application of engineering to improving the well-being of marginalized people and disadvantaged communities, usually in the developing world. Humanitarian engineering typically focuses on programs that are affordable, sustainable, and based on local resources. Projects are typically community-driven and cross-disciplinary, and they focus on finding simple solutions to basic needs (such as close access to clean water; adequate heat, shelter, and sanitation; and reliable pathways to markets).\n"
          ]
        }
      ],
      "source": [
        "print(line1)\n",
        "print(line2)\n",
        "print(line3)\n",
        "print(line4)"
      ]
    },
    {
      "cell_type": "markdown",
      "metadata": {
        "id": "9Q07qbGyKOKe"
      },
      "source": [
        "You can take a look at the relevant documentation on reading and writing files running the code below."
      ]
    },
    {
      "cell_type": "code",
      "execution_count": null,
      "metadata": {
        "colab": {
          "base_uri": "https://localhost:8080/"
        },
        "id": "boR_w_KmKL08",
        "outputId": "ed1f4c11-0d6f-46f1-eff3-6097f2bbef43"
      },
      "outputs": [
        {
          "name": "stdout",
          "output_type": "stream",
          "text": [
            "Help on class TextIOBase in module io:\n",
            "\n",
            "class TextIOBase(_io._TextIOBase, IOBase)\n",
            " |  Base class for text I/O.\n",
            " |  \n",
            " |  This class provides a character and line based interface to stream\n",
            " |  I/O. There is no readinto method because Python's character strings\n",
            " |  are immutable.\n",
            " |  \n",
            " |  Method resolution order:\n",
            " |      TextIOBase\n",
            " |      _io._TextIOBase\n",
            " |      IOBase\n",
            " |      _io._IOBase\n",
            " |      builtins.object\n",
            " |  \n",
            " |  Data and other attributes defined here:\n",
            " |  \n",
            " |  __abstractmethods__ = frozenset()\n",
            " |  \n",
            " |  ----------------------------------------------------------------------\n",
            " |  Methods inherited from _io._TextIOBase:\n",
            " |  \n",
            " |  detach(...)\n",
            " |      Separate the underlying buffer from the TextIOBase and return it.\n",
            " |      \n",
            " |      After the underlying buffer has been detached, the TextIO is in an\n",
            " |      unusable state.\n",
            " |  \n",
            " |  read(...)\n",
            " |      Read at most n characters from stream.\n",
            " |      \n",
            " |      Read from underlying buffer until we have n characters or we hit EOF.\n",
            " |      If n is negative or omitted, read until EOF.\n",
            " |  \n",
            " |  readline(...)\n",
            " |      Read until newline or EOF.\n",
            " |      \n",
            " |      Returns an empty string if EOF is hit immediately.\n",
            " |  \n",
            " |  write(...)\n",
            " |      Write string to stream.\n",
            " |      Returns the number of characters written (which is always equal to\n",
            " |      the length of the string).\n",
            " |  \n",
            " |  ----------------------------------------------------------------------\n",
            " |  Data descriptors inherited from _io._TextIOBase:\n",
            " |  \n",
            " |  encoding\n",
            " |      Encoding of the text stream.\n",
            " |      \n",
            " |      Subclasses should override.\n",
            " |  \n",
            " |  errors\n",
            " |      The error setting of the decoder or encoder.\n",
            " |      \n",
            " |      Subclasses should override.\n",
            " |  \n",
            " |  newlines\n",
            " |      Line endings translated so far.\n",
            " |      \n",
            " |      Only line endings translated during reading are considered.\n",
            " |      \n",
            " |      Subclasses should override.\n",
            " |  \n",
            " |  ----------------------------------------------------------------------\n",
            " |  Methods inherited from _io._IOBase:\n",
            " |  \n",
            " |  __del__(...)\n",
            " |  \n",
            " |  __enter__(...)\n",
            " |  \n",
            " |  __exit__(...)\n",
            " |  \n",
            " |  __iter__(self, /)\n",
            " |      Implement iter(self).\n",
            " |  \n",
            " |  __next__(self, /)\n",
            " |      Implement next(self).\n",
            " |  \n",
            " |  close(self, /)\n",
            " |      Flush and close the IO object.\n",
            " |      \n",
            " |      This method has no effect if the file is already closed.\n",
            " |  \n",
            " |  fileno(self, /)\n",
            " |      Returns underlying file descriptor if one exists.\n",
            " |      \n",
            " |      OSError is raised if the IO object does not use a file descriptor.\n",
            " |  \n",
            " |  flush(self, /)\n",
            " |      Flush write buffers, if applicable.\n",
            " |      \n",
            " |      This is not implemented for read-only and non-blocking streams.\n",
            " |  \n",
            " |  isatty(self, /)\n",
            " |      Return whether this is an 'interactive' stream.\n",
            " |      \n",
            " |      Return False if it can't be determined.\n",
            " |  \n",
            " |  readable(self, /)\n",
            " |      Return whether object was opened for reading.\n",
            " |      \n",
            " |      If False, read() will raise OSError.\n",
            " |  \n",
            " |  readlines(self, hint=-1, /)\n",
            " |      Return a list of lines from the stream.\n",
            " |      \n",
            " |      hint can be specified to control the number of lines read: no more\n",
            " |      lines will be read if the total size (in bytes/characters) of all\n",
            " |      lines so far exceeds hint.\n",
            " |  \n",
            " |  seek(...)\n",
            " |      Change stream position.\n",
            " |      \n",
            " |      Change the stream position to the given byte offset. The offset is\n",
            " |      interpreted relative to the position indicated by whence.  Values\n",
            " |      for whence are:\n",
            " |      \n",
            " |      * 0 -- start of stream (the default); offset should be zero or positive\n",
            " |      * 1 -- current stream position; offset may be negative\n",
            " |      * 2 -- end of stream; offset is usually negative\n",
            " |      \n",
            " |      Return the new absolute position.\n",
            " |  \n",
            " |  seekable(self, /)\n",
            " |      Return whether object supports random access.\n",
            " |      \n",
            " |      If False, seek(), tell() and truncate() will raise OSError.\n",
            " |      This method may need to do a test seek().\n",
            " |  \n",
            " |  tell(self, /)\n",
            " |      Return current stream position.\n",
            " |  \n",
            " |  truncate(...)\n",
            " |      Truncate file to size bytes.\n",
            " |      \n",
            " |      File pointer is left unchanged.  Size defaults to the current IO\n",
            " |      position as reported by tell().  Returns the new size.\n",
            " |  \n",
            " |  writable(self, /)\n",
            " |      Return whether object was opened for writing.\n",
            " |      \n",
            " |      If False, write() will raise OSError.\n",
            " |  \n",
            " |  writelines(self, lines, /)\n",
            " |      Write a list of lines to stream.\n",
            " |      \n",
            " |      Line separators are not added, so it is usual for each of the\n",
            " |      lines provided to have a line separator at the end.\n",
            " |  \n",
            " |  ----------------------------------------------------------------------\n",
            " |  Static methods inherited from _io._IOBase:\n",
            " |  \n",
            " |  __new__(*args, **kwargs) from builtins.type\n",
            " |      Create and return a new object.  See help(type) for accurate signature.\n",
            " |  \n",
            " |  ----------------------------------------------------------------------\n",
            " |  Data descriptors inherited from _io._IOBase:\n",
            " |  \n",
            " |  __dict__\n",
            " |  \n",
            " |  closed\n",
            "\n"
          ]
        }
      ],
      "source": [
        "import io\n",
        "help(io.TextIOBase)"
      ]
    },
    {
      "cell_type": "markdown",
      "metadata": {
        "id": "oCOApVi4nsKn"
      },
      "source": [
        "# **Python Libraries**"
      ]
    },
    {
      "cell_type": "markdown",
      "metadata": {
        "id": "MaHOjSTgnvAt"
      },
      "source": [
        "A library allows to add more functions (methods) to the basic Python."
      ]
    },
    {
      "cell_type": "markdown",
      "metadata": {
        "id": "OaXyqZWBn8-t"
      },
      "source": [
        "\n",
        "The `import` + \"library\" statement allows to import all the methods in the library every related functions and methods will be called as library.nameOfTheFunction() or library.nameOfTheMethod."
      ]
    },
    {
      "cell_type": "markdown",
      "metadata": {
        "id": "C4K8KD4an-4j"
      },
      "source": [
        "You can import a library with a shortcut name by using the formula `import` + \"libarary\" + `as` + \"name\". We will go over an example in a second."
      ]
    },
    {
      "cell_type": "markdown",
      "metadata": {
        "id": "qmr4_WNJKNeM"
      },
      "source": [
        "# **Scientific Computation with Numpy**"
      ]
    },
    {
      "cell_type": "markdown",
      "metadata": {
        "id": "P8u4ptcHKPjP"
      },
      "source": [
        "Numpy is an open source Python library for scientific computing. It is very useful for performing computations in data science (In terms of syntax, it works similarly to Matlab)."
      ]
    },
    {
      "cell_type": "markdown",
      "metadata": {
        "id": "aonZsmSKKa_R"
      },
      "source": [
        "We import `numpy` using a name shortcut `np` for it so that we do not have to type \"numpy\" every time we want to access the library. Instead of `np` you can use any name you want."
      ]
    },
    {
      "cell_type": "code",
      "execution_count": null,
      "metadata": {
        "id": "jobNav1CKuw6"
      },
      "outputs": [],
      "source": [
        "import numpy as np"
      ]
    },
    {
      "cell_type": "markdown",
      "metadata": {
        "id": "2FEDuqvsLWoc"
      },
      "source": [
        "We use `numpy` to work with arrays. The array object in numpy is called `ndarray` and is created using the `array()` function."
      ]
    },
    {
      "cell_type": "code",
      "execution_count": null,
      "metadata": {
        "id": "NyVAcoZ6Lxbg"
      },
      "outputs": [],
      "source": [
        "my_list1 = [15, 16, 17, 18, 19, 20]\n",
        "my_list2 =[14.3, 0, 8.999]\n",
        "my_list3 = [0, 2, 3]"
      ]
    },
    {
      "cell_type": "markdown",
      "metadata": {
        "id": "t3SYH-oIL8QR"
      },
      "source": [
        "You can create one-dimensional arrays from the lists."
      ]
    },
    {
      "cell_type": "code",
      "execution_count": null,
      "metadata": {
        "id": "lIDTJ2NWKxG4"
      },
      "outputs": [],
      "source": [
        "x1 = np.array(my_list1)\n",
        "x2 = np.array(my_list2)\n",
        "x3 = np.array(my_list3)"
      ]
    },
    {
      "cell_type": "markdown",
      "metadata": {
        "id": "0MfnSk68Mjbh"
      },
      "source": [
        "You can add elements to your arrays by using the function `np.append()`."
      ]
    },
    {
      "cell_type": "code",
      "execution_count": null,
      "metadata": {
        "colab": {
          "base_uri": "https://localhost:8080/"
        },
        "id": "mjlgBC9GM9fR",
        "outputId": "b90e2860-4f0a-42f9-a921-bb75999f179a"
      },
      "outputs": [
        {
          "name": "stdout",
          "output_type": "stream",
          "text": [
            "[15 16 17 18 19 20 21 22]\n"
          ]
        }
      ],
      "source": [
        "x1_new = np.append(x1, [21,22])\n",
        "print(x1_new)"
      ]
    },
    {
      "cell_type": "markdown",
      "metadata": {
        "id": "OoB0FUnMNNik"
      },
      "source": [
        "Be careful, unlike lists, `np.append()` does not add elements to the existing array. You have to create a new variable to store the array containing the new elements.  "
      ]
    },
    {
      "cell_type": "code",
      "execution_count": null,
      "metadata": {
        "colab": {
          "base_uri": "https://localhost:8080/"
        },
        "id": "_1lWBdUGNrYq",
        "outputId": "2735a9ca-208e-4b44-8425-86debb4d6438"
      },
      "outputs": [
        {
          "name": "stdout",
          "output_type": "stream",
          "text": [
            "[15 16 17 18 19 20]\n"
          ]
        }
      ],
      "source": [
        "print(x1)"
      ]
    },
    {
      "cell_type": "markdown",
      "metadata": {
        "id": "Ia0XBxKBQeRk"
      },
      "source": [
        "You can create arrays in different ways"
      ]
    },
    {
      "cell_type": "code",
      "execution_count": null,
      "metadata": {
        "colab": {
          "base_uri": "https://localhost:8080/"
        },
        "id": "vSXDx-AHQimN",
        "outputId": "095d819b-8b71-4ad5-a288-54b719012910"
      },
      "outputs": [
        {
          "name": "stdout",
          "output_type": "stream",
          "text": [
            "[1 2 3 4]\n"
          ]
        }
      ],
      "source": [
        "a = np.array([1, 2, 3, 4])\n",
        "print(a)"
      ]
    },
    {
      "cell_type": "code",
      "execution_count": null,
      "metadata": {
        "colab": {
          "base_uri": "https://localhost:8080/"
        },
        "id": "uV3-7j6NQ7Vc",
        "outputId": "b326a427-875b-4a73-a0d5-23835e91f327"
      },
      "outputs": [
        {
          "name": "stdout",
          "output_type": "stream",
          "text": [
            "[[1.5 2.  3. ]\n",
            " [4.  5.  6. ]]\n"
          ]
        }
      ],
      "source": [
        "b = np.array([(1.5, 2, 3), (4, 5, 6)]) # two-dimensional array\n",
        "print(b)"
      ]
    },
    {
      "cell_type": "code",
      "execution_count": null,
      "metadata": {
        "colab": {
          "base_uri": "https://localhost:8080/"
        },
        "id": "oxRBl1z2Q8yJ",
        "outputId": "a7aeb9f2-ddaa-45de-f8e0-7d48d28994b0"
      },
      "outputs": [
        {
          "name": "stdout",
          "output_type": "stream",
          "text": [
            "[[1.+0.j 2.+0.j]\n",
            " [3.+0.j 4.+0.j]]\n"
          ]
        }
      ],
      "source": [
        "c = np.array([[1, 2], [3, 4]], dtype=complex) # two-dimensional array of complex numbers\n",
        "print(c)"
      ]
    },
    {
      "cell_type": "code",
      "execution_count": null,
      "metadata": {
        "colab": {
          "base_uri": "https://localhost:8080/"
        },
        "id": "03cMxwB_Q-Gy",
        "outputId": "65355a7e-71c7-47c0-db93-ecacd95c3af8"
      },
      "outputs": [
        {
          "name": "stdout",
          "output_type": "stream",
          "text": [
            "[[0. 0. 0. 0.]\n",
            " [0. 0. 0. 0.]\n",
            " [0. 0. 0. 0.]]\n"
          ]
        }
      ],
      "source": [
        "d = np.zeros((3, 4))\n",
        "print(d)"
      ]
    },
    {
      "cell_type": "code",
      "execution_count": null,
      "metadata": {
        "colab": {
          "base_uri": "https://localhost:8080/"
        },
        "id": "m0AiZC-CRIbc",
        "outputId": "a6fb7aa2-74a0-4a3f-964a-84e562f62574"
      },
      "outputs": [
        {
          "name": "stdout",
          "output_type": "stream",
          "text": [
            "[[1. 1. 1.]\n",
            " [1. 1. 1.]]\n"
          ]
        }
      ],
      "source": [
        "e = np.ones((2, 3))\n",
        "print(e)"
      ]
    },
    {
      "cell_type": "code",
      "execution_count": null,
      "metadata": {
        "colab": {
          "base_uri": "https://localhost:8080/"
        },
        "id": "19KpBQquRKvo",
        "outputId": "59cd5e3e-bf49-4026-9747-f9d280f28c2a"
      },
      "outputs": [
        {
          "name": "stdout",
          "output_type": "stream",
          "text": [
            "[10 15 20 25]\n"
          ]
        }
      ],
      "source": [
        "f = np.arange(10, 30, 5) # all numbers between 10 and 30 at intervals of 5\n",
        "print(f)"
      ]
    },
    {
      "cell_type": "code",
      "execution_count": null,
      "metadata": {
        "colab": {
          "base_uri": "https://localhost:8080/"
        },
        "id": "0KSWlRxWROiU",
        "outputId": "bbe6c976-8820-4287-9c3a-1e505dbaa766"
      },
      "outputs": [
        {
          "name": "stdout",
          "output_type": "stream",
          "text": [
            "[0.1 0.4 0.7 1.  1.3 1.6 1.9]\n"
          ]
        }
      ],
      "source": [
        "g = np.arange(0.1, 2, 0.3) # all numbers between 0.1 and 2 at intervals of 0.3\n",
        "print(g)"
      ]
    },
    {
      "cell_type": "code",
      "execution_count": null,
      "metadata": {
        "colab": {
          "base_uri": "https://localhost:8080/"
        },
        "id": "1grFG2rrRRGq",
        "outputId": "7b98b809-240e-4ee0-f7a7-39c0ce420dd1"
      },
      "outputs": [
        {
          "name": "stdout",
          "output_type": "stream",
          "text": [
            "[1.  2.5 4.  5.5 7. ]\n"
          ]
        }
      ],
      "source": [
        "h = np.linspace(1, 7, num=5) # five equally-spaced numbers between 1 and 7\n",
        "print(h)"
      ]
    },
    {
      "cell_type": "markdown",
      "metadata": {
        "id": "zXwPVaTcMefn"
      },
      "source": [
        "## **Array attributes**"
      ]
    },
    {
      "cell_type": "markdown",
      "metadata": {
        "id": "a5FVTeiXN-AE"
      },
      "source": [
        "`.ndim` tells you the number of axes or dimensions"
      ]
    },
    {
      "cell_type": "code",
      "execution_count": null,
      "metadata": {
        "colab": {
          "base_uri": "https://localhost:8080/"
        },
        "id": "wqAswpabN6bL",
        "outputId": "f13fc90a-b9be-4497-e0d3-6c7370c83e3a"
      },
      "outputs": [
        {
          "name": "stdout",
          "output_type": "stream",
          "text": [
            "1\n"
          ]
        }
      ],
      "source": [
        "print(x1.ndim)"
      ]
    },
    {
      "cell_type": "markdown",
      "metadata": {
        "id": "fhVF3eoyOKHl"
      },
      "source": [
        "`.shape` tells you the size of each dimension"
      ]
    },
    {
      "cell_type": "code",
      "execution_count": null,
      "metadata": {
        "colab": {
          "base_uri": "https://localhost:8080/"
        },
        "id": "STMEYvi5OeJq",
        "outputId": "4b9dab42-6329-4560-d637-3f36def1fd53"
      },
      "outputs": [
        {
          "name": "stdout",
          "output_type": "stream",
          "text": [
            "(6,)\n"
          ]
        }
      ],
      "source": [
        "print(x1.shape)"
      ]
    },
    {
      "cell_type": "markdown",
      "metadata": {
        "id": "uFk8qLa-ORKo"
      },
      "source": [
        "`.size` tells you the total number of elements in the array"
      ]
    },
    {
      "cell_type": "code",
      "execution_count": null,
      "metadata": {
        "colab": {
          "base_uri": "https://localhost:8080/"
        },
        "id": "B2WnSQTQOik8",
        "outputId": "5e846b53-abd3-453c-e7b0-1e36881f97fd"
      },
      "outputs": [
        {
          "name": "stdout",
          "output_type": "stream",
          "text": [
            "6\n"
          ]
        }
      ],
      "source": [
        "print(x1.size)"
      ]
    },
    {
      "cell_type": "markdown",
      "metadata": {
        "id": "0223dugxOYMG"
      },
      "source": [
        "`.dtype` tells you the type of elements in the array"
      ]
    },
    {
      "cell_type": "code",
      "execution_count": null,
      "metadata": {
        "colab": {
          "base_uri": "https://localhost:8080/"
        },
        "id": "lsYafNasOlRV",
        "outputId": "2c067ade-5a43-4900-fa88-4d787e3b0c07"
      },
      "outputs": [
        {
          "name": "stdout",
          "output_type": "stream",
          "text": [
            "int64\n"
          ]
        }
      ],
      "source": [
        "print(x1.dtype)"
      ]
    },
    {
      "cell_type": "markdown",
      "metadata": {
        "id": "k30Fyiz6TQCk"
      },
      "source": [
        "## **Accessing elements of an array**"
      ]
    },
    {
      "cell_type": "markdown",
      "metadata": {
        "id": "_isL_RQdTYGe"
      },
      "source": [
        "You can access elements in an array using standard indexing."
      ]
    },
    {
      "cell_type": "code",
      "execution_count": null,
      "metadata": {
        "colab": {
          "base_uri": "https://localhost:8080/"
        },
        "id": "uqhYzsCfSua-",
        "outputId": "96926a9e-7f45-4b0c-de76-be9c42551b04"
      },
      "outputs": [
        {
          "name": "stdout",
          "output_type": "stream",
          "text": [
            "15\n"
          ]
        }
      ],
      "source": [
        "# access the first element of the array\n",
        "print(x1[0])"
      ]
    },
    {
      "cell_type": "code",
      "execution_count": null,
      "metadata": {
        "colab": {
          "base_uri": "https://localhost:8080/"
        },
        "id": "XA_a341_Sua-",
        "outputId": "c1ff4c62-a7e1-49bd-ff5a-d2c8958557ab"
      },
      "outputs": [
        {
          "name": "stdout",
          "output_type": "stream",
          "text": [
            "20\n",
            "19\n"
          ]
        }
      ],
      "source": [
        "# access the last and second to last element of the array\n",
        "print(x1[-1])\n",
        "print(x1[-2])"
      ]
    },
    {
      "cell_type": "code",
      "execution_count": null,
      "metadata": {
        "colab": {
          "base_uri": "https://localhost:8080/"
        },
        "id": "oWJuJR67Sua_",
        "outputId": "06764f00-73a6-44f0-ed45-3c7185940f97"
      },
      "outputs": [
        {
          "name": "stdout",
          "output_type": "stream",
          "text": [
            "[15 16]\n"
          ]
        }
      ],
      "source": [
        "# access the first two\n",
        "print(x1[:2])"
      ]
    },
    {
      "cell_type": "code",
      "execution_count": null,
      "metadata": {
        "colab": {
          "base_uri": "https://localhost:8080/"
        },
        "id": "tFCwbwpuSua_",
        "outputId": "e39212e7-9c26-4c1c-a6bb-709fecb7c46a"
      },
      "outputs": [
        {
          "name": "stdout",
          "output_type": "stream",
          "text": [
            "[18 19 20]\n"
          ]
        }
      ],
      "source": [
        "# access the last three element\n",
        "print(x1[-3:])"
      ]
    },
    {
      "cell_type": "code",
      "execution_count": null,
      "metadata": {
        "colab": {
          "base_uri": "https://localhost:8080/"
        },
        "id": "tz9Jm7b8Sua_",
        "outputId": "d6acf0ed-e167-4fcc-8a6a-abc07b55e2d9"
      },
      "outputs": [
        {
          "name": "stdout",
          "output_type": "stream",
          "text": [
            "[16 17]\n"
          ]
        }
      ],
      "source": [
        "# access elements from index 1 to 3\n",
        "print(x1[1:3])"
      ]
    },
    {
      "cell_type": "code",
      "execution_count": null,
      "metadata": {
        "colab": {
          "base_uri": "https://localhost:8080/"
        },
        "id": "paQCfAItSua_",
        "outputId": "40199730-8d4e-4f2e-db18-928eadf3a04d"
      },
      "outputs": [
        {
          "name": "stdout",
          "output_type": "stream",
          "text": [
            "[15 17 19]\n"
          ]
        }
      ],
      "source": [
        "# access every other element\n",
        "print(x1[::2])"
      ]
    },
    {
      "cell_type": "markdown",
      "metadata": {
        "id": "vvaRr7JkSua_"
      },
      "source": [
        "You can also reverse an array."
      ]
    },
    {
      "cell_type": "code",
      "execution_count": null,
      "metadata": {
        "colab": {
          "base_uri": "https://localhost:8080/"
        },
        "id": "JdfSmS4RT79P",
        "outputId": "a4f7ec02-0cbd-47ca-f60b-0a30c223fc1c"
      },
      "outputs": [
        {
          "name": "stdout",
          "output_type": "stream",
          "text": [
            "[20 19 18 17 16 15]\n"
          ]
        }
      ],
      "source": [
        "print(x1[::-1])"
      ]
    },
    {
      "cell_type": "markdown",
      "metadata": {
        "id": "qUCstvHtUGqa"
      },
      "source": [
        "Note that reversing works for lists and strings too!"
      ]
    },
    {
      "cell_type": "code",
      "execution_count": null,
      "metadata": {
        "colab": {
          "base_uri": "https://localhost:8080/"
        },
        "id": "-tjPw9xeUDBW",
        "outputId": "5d16382c-6c6e-4bc6-c95d-de5c74ee82b2"
      },
      "outputs": [
        {
          "name": "stdout",
          "output_type": "stream",
          "text": [
            "!olleH\n"
          ]
        }
      ],
      "source": [
        "print(\"Hello!\"[::-1])"
      ]
    },
    {
      "cell_type": "markdown",
      "metadata": {
        "id": "ctwkD57iU94h"
      },
      "source": [
        "## **Array operations**"
      ]
    },
    {
      "cell_type": "markdown",
      "metadata": {
        "id": "tdQQKcOSVFre"
      },
      "source": [
        "To multiply each component of the array by a number (scalar)"
      ]
    },
    {
      "cell_type": "code",
      "execution_count": null,
      "metadata": {
        "id": "PPE4uDoYVAra"
      },
      "outputs": [],
      "source": [
        "y1 = 3*x1"
      ]
    },
    {
      "cell_type": "markdown",
      "metadata": {
        "id": "X0xzuSxrVI-c"
      },
      "source": [
        "Note that we don't need a for loop. This is much more efficient! Compare with the code below."
      ]
    },
    {
      "cell_type": "code",
      "execution_count": null,
      "metadata": {
        "colab": {
          "base_uri": "https://localhost:8080/"
        },
        "id": "5vOMV9kCVTY0",
        "outputId": "c33410bd-a852-44a2-f6e9-b34054c32cee"
      },
      "outputs": [
        {
          "name": "stdout",
          "output_type": "stream",
          "text": [
            "[ True  True  True  True  True  True]\n"
          ]
        }
      ],
      "source": [
        "yy1 = []\n",
        "for x in x1:\n",
        "   yy1.append(3*x)\n",
        "print(y1 == yy1)"
      ]
    },
    {
      "cell_type": "markdown",
      "metadata": {
        "id": "DXaN9QPMVdW2"
      },
      "source": [
        "To add/subtract a number to each component"
      ]
    },
    {
      "cell_type": "code",
      "execution_count": null,
      "metadata": {
        "colab": {
          "base_uri": "https://localhost:8080/"
        },
        "id": "ux1CxH6CVhq5",
        "outputId": "9b976618-507d-47c9-fd90-408b6310c98b"
      },
      "outputs": [
        {
          "name": "stdout",
          "output_type": "stream",
          "text": [
            "[18 19 20 21 22 23]\n",
            "[ 9.3   -5.     3.999]\n"
          ]
        }
      ],
      "source": [
        "print(3+x1)\n",
        "print(x2-5)"
      ]
    },
    {
      "cell_type": "markdown",
      "metadata": {
        "id": "5JkjnMfUVqX6"
      },
      "source": [
        "To perform component by component array addition/subtraction."
      ]
    },
    {
      "cell_type": "code",
      "execution_count": null,
      "metadata": {
        "colab": {
          "base_uri": "https://localhost:8080/"
        },
        "id": "g9JRZQOVXl--",
        "outputId": "a76728e8-bcbf-48c0-f437-c0d9cb175b17"
      },
      "outputs": [
        {
          "name": "stdout",
          "output_type": "stream",
          "text": [
            "[14.3    2.    11.999]\n",
            "[-14.3     2.     -5.999]\n"
          ]
        }
      ],
      "source": [
        "print(x2+x3)\n",
        "print(x3-x2)"
      ]
    },
    {
      "cell_type": "markdown",
      "metadata": {
        "id": "yDZAd2esXq0j"
      },
      "source": [
        "Note that arrays must have the same dimension."
      ]
    },
    {
      "cell_type": "code",
      "execution_count": null,
      "metadata": {
        "id": "DW5oi18fXw6t"
      },
      "outputs": [],
      "source": [
        "# print(x1-x3)"
      ]
    },
    {
      "cell_type": "markdown",
      "metadata": {
        "id": "JhFmUSP_Xpge"
      },
      "source": [
        "To preform component by component array multiplication/division/power."
      ]
    },
    {
      "cell_type": "code",
      "execution_count": null,
      "metadata": {
        "colab": {
          "base_uri": "https://localhost:8080/"
        },
        "id": "5hzPDI66YAri",
        "outputId": "e4c9643c-2dcf-4461-e0d9-f5b0a6ea312e"
      },
      "outputs": [
        {
          "name": "stdout",
          "output_type": "stream",
          "text": [
            "[ 0.     0.    26.997]\n",
            "[0.                inf 0.33337037]\n",
            "[  1.         0.       728.757027]\n"
          ]
        },
        {
          "name": "stderr",
          "output_type": "stream",
          "text": [
            "<ipython-input-125-f18ba86a05fa>:2: RuntimeWarning: divide by zero encountered in divide\n",
            "  print(x3/x2)\n"
          ]
        }
      ],
      "source": [
        "print(x2*x3)\n",
        "print(x3/x2)\n",
        "print(x2**x3)"
      ]
    },
    {
      "cell_type": "markdown",
      "metadata": {
        "id": "3F_AXvJfYhBk"
      },
      "source": [
        "You can modify existing arrays modify as follows.\n",
        "\n",
        "To add one to each element"
      ]
    },
    {
      "cell_type": "code",
      "execution_count": null,
      "metadata": {
        "colab": {
          "base_uri": "https://localhost:8080/"
        },
        "id": "2wMYBiF7Yly0",
        "outputId": "65cc3d12-e9a6-4b5b-f593-37923e495da9"
      },
      "outputs": [
        {
          "name": "stdout",
          "output_type": "stream",
          "text": [
            "[15.3    1.     9.999]\n"
          ]
        }
      ],
      "source": [
        "x2 += 1\n",
        "print(x2)"
      ]
    },
    {
      "cell_type": "markdown",
      "metadata": {
        "id": "ybQbPF2VSubA"
      },
      "source": [
        "Multiply each element by 2."
      ]
    },
    {
      "cell_type": "code",
      "execution_count": null,
      "metadata": {
        "colab": {
          "base_uri": "https://localhost:8080/"
        },
        "id": "SN_p6ZvwY6b6",
        "outputId": "ac4d1c82-f12c-45a5-cdfc-2e93961cca38"
      },
      "outputs": [
        {
          "name": "stdout",
          "output_type": "stream",
          "text": [
            "[0 4 6]\n"
          ]
        }
      ],
      "source": [
        "x3 *= 2\n",
        "print(x3)"
      ]
    },
    {
      "cell_type": "markdown",
      "metadata": {
        "id": "8XDOl6J3SubA"
      },
      "source": [
        "Note that x2 += 1 is equal to writing x2 = x2 + 1 and x3 *= 2 is equal to writing x3 = x3 * 2."
      ]
    },
    {
      "cell_type": "markdown",
      "metadata": {
        "id": "P7onohPmZApZ"
      },
      "source": [
        "## **Array methods** - **unary operations: mean, standard deviation, minimum, maximum, sum**"
      ]
    },
    {
      "cell_type": "code",
      "execution_count": null,
      "metadata": {
        "colab": {
          "base_uri": "https://localhost:8080/"
        },
        "id": "A6YEVtBBaB1v",
        "outputId": "84a4c745-21ea-4b92-a968-2bee0541bb64"
      },
      "outputs": [
        {
          "name": "stdout",
          "output_type": "stream",
          "text": [
            "17.5\n"
          ]
        }
      ],
      "source": [
        "print(x1.mean())"
      ]
    },
    {
      "cell_type": "code",
      "execution_count": null,
      "metadata": {
        "colab": {
          "base_uri": "https://localhost:8080/"
        },
        "id": "QzfZ4Gu7Zk4X",
        "outputId": "92b8f1ee-6a60-4156-8c6a-ba208997592f"
      },
      "outputs": [
        {
          "name": "stdout",
          "output_type": "stream",
          "text": [
            "1.707825127659933\n"
          ]
        }
      ],
      "source": [
        "print(x1.std())"
      ]
    },
    {
      "cell_type": "code",
      "execution_count": null,
      "metadata": {
        "colab": {
          "base_uri": "https://localhost:8080/"
        },
        "id": "t702e6W7Zlnf",
        "outputId": "2fa5e7de-a941-405b-9d51-59c71785acb0"
      },
      "outputs": [
        {
          "name": "stdout",
          "output_type": "stream",
          "text": [
            "15\n"
          ]
        }
      ],
      "source": [
        "print(x1.min())"
      ]
    },
    {
      "cell_type": "code",
      "execution_count": null,
      "metadata": {
        "colab": {
          "base_uri": "https://localhost:8080/"
        },
        "id": "XW-afNQBZoDe",
        "outputId": "cc492d22-ec3e-43e1-dd7b-823812a0024e"
      },
      "outputs": [
        {
          "name": "stdout",
          "output_type": "stream",
          "text": [
            "20\n"
          ]
        }
      ],
      "source": [
        "print(x1.max())"
      ]
    },
    {
      "cell_type": "code",
      "execution_count": null,
      "metadata": {
        "colab": {
          "base_uri": "https://localhost:8080/"
        },
        "id": "z_H86eEFZpl6",
        "outputId": "8ac9a8fc-ae9d-46e7-8d43-0770ac6e2d3a"
      },
      "outputs": [
        {
          "name": "stdout",
          "output_type": "stream",
          "text": [
            "105\n"
          ]
        }
      ],
      "source": [
        "print(x1.sum())"
      ]
    },
    {
      "cell_type": "markdown",
      "metadata": {
        "id": "-OceJ4huaNxT"
      },
      "source": [
        "You can also access built-in values and methods.\n",
        "\n",
        "Like the value of pi"
      ]
    },
    {
      "cell_type": "code",
      "execution_count": null,
      "metadata": {
        "colab": {
          "base_uri": "https://localhost:8080/"
        },
        "id": "uijdPk8BaXR4",
        "outputId": "6ce9c334-b042-41e9-f9c4-a3bc8d0f8e82"
      },
      "outputs": [
        {
          "name": "stdout",
          "output_type": "stream",
          "text": [
            "3.141592653589793\n"
          ]
        }
      ],
      "source": [
        "print(np.pi)"
      ]
    },
    {
      "cell_type": "markdown",
      "metadata": {
        "id": "e2yyyf4daYrt"
      },
      "source": [
        "Or the value of e (neper number)"
      ]
    },
    {
      "cell_type": "code",
      "execution_count": null,
      "metadata": {
        "colab": {
          "base_uri": "https://localhost:8080/"
        },
        "id": "PonW1cOgadgm",
        "outputId": "89bfad80-8efa-4a48-d8cc-4ce32e6c8135"
      },
      "outputs": [
        {
          "name": "stdout",
          "output_type": "stream",
          "text": [
            "2.718281828459045\n"
          ]
        }
      ],
      "source": [
        "print(np.e)"
      ]
    },
    {
      "cell_type": "markdown",
      "metadata": {
        "id": "VwSar10Paj_9"
      },
      "source": [
        "And perform with them any operation"
      ]
    },
    {
      "cell_type": "code",
      "execution_count": null,
      "metadata": {
        "colab": {
          "base_uri": "https://localhost:8080/"
        },
        "id": "e4CmZndPah04",
        "outputId": "2f64ca43-080b-41b0-df00-548e25ddbf69"
      },
      "outputs": [
        {
          "name": "stdout",
          "output_type": "stream",
          "text": [
            "[0.         1.57079633 3.14159265 4.71238898 6.28318531]\n"
          ]
        }
      ],
      "source": [
        "x4 = np.pi * np.array([0,0.5,1,1.5,2])\n",
        "print(x4)"
      ]
    },
    {
      "cell_type": "markdown",
      "metadata": {
        "id": "Gr-ZEVchazjR"
      },
      "source": [
        "## **Universal functions**"
      ]
    },
    {
      "cell_type": "markdown",
      "metadata": {
        "id": "BeNd26a1bNpW"
      },
      "source": [
        "These are applied to each value of an array.\n",
        "\n",
        "One example is the `np.sin()` function which gives the sin of a each array number."
      ]
    },
    {
      "cell_type": "code",
      "execution_count": null,
      "metadata": {
        "colab": {
          "base_uri": "https://localhost:8080/"
        },
        "id": "czWVbOnEbSMf",
        "outputId": "6151741e-9acd-4318-d432-3b25e018de10"
      },
      "outputs": [
        {
          "name": "stdout",
          "output_type": "stream",
          "text": [
            "[ 0.0000000e+00  1.0000000e+00  1.2246468e-16 -1.0000000e+00\n",
            " -2.4492936e-16]\n"
          ]
        }
      ],
      "source": [
        "y4 = np.sin(x4)\n",
        "print(y4)"
      ]
    },
    {
      "cell_type": "markdown",
      "metadata": {
        "id": "bN7BU1eJbkqA"
      },
      "source": [
        "The following are important Numpy functions, we recommend you take a look at them:\n",
        "`all`, `any`, `apply_along_axis`, `argmax`, `argmin`, `argsort`, `average`, `bincount`, `ceil`, `clip`, `conj`, `corrcoef`, `cov`, `cross`, `cumprod`, `cumsum`, `diff`, `dot`, `floor`, `inner`, `invert`, `lexsort`, `max`, `maximum`, `mean`, `median`, `min`, `minimum`, `nonzero`, `outer`, `prod`, `re`, `round`, `sort`, `std`, `sum`, `trace`, `transpose`, `var`, `vdot`, `vectorize`, `where`."
      ]
    },
    {
      "cell_type": "markdown",
      "metadata": {
        "id": "eyvdfZhAceQh"
      },
      "source": [
        "To look at the documentation (highly recommended in this case) you can visit https://numpy.org/learn/ or use `help(numpy)`."
      ]
    },
    {
      "cell_type": "markdown",
      "metadata": {
        "id": "tmgJ2qrucvgp"
      },
      "source": [
        "## **Two-dimentional arrays**"
      ]
    },
    {
      "cell_type": "markdown",
      "metadata": {
        "id": "1kebW6NEooPP"
      },
      "source": [
        "Arrays can have more than one dimension. Here are some examples of two-dimensional arrays."
      ]
    },
    {
      "cell_type": "code",
      "execution_count": null,
      "metadata": {
        "colab": {
          "base_uri": "https://localhost:8080/"
        },
        "id": "pAWOqLmposHJ",
        "outputId": "c7d9f69b-88ac-46bb-cbe5-389a57218601"
      },
      "outputs": [
        {
          "name": "stdout",
          "output_type": "stream",
          "text": [
            "[[11 12 13]\n",
            " [21 22 23]\n",
            " [31 32 33]]\n"
          ]
        }
      ],
      "source": [
        "X1 = np.array([[11, 12, 13], [21, 22, 23], [31, 32, 33]]) # only integers\n",
        "print(X1)"
      ]
    },
    {
      "cell_type": "code",
      "execution_count": null,
      "metadata": {
        "colab": {
          "base_uri": "https://localhost:8080/"
        },
        "id": "1EeGyty_ph3u",
        "outputId": "6c50a85b-3f3d-45a3-e0e7-6b44a3f78dfa"
      },
      "outputs": [
        {
          "name": "stdout",
          "output_type": "stream",
          "text": [
            "[[14.3    0.2    8.999 11.   ]\n",
            " [ 3.     5.     1.     4.   ]]\n"
          ]
        }
      ],
      "source": [
        "X2 = np.array([[14.3, 0.2, 8.999, 11], [3, 5, 1, 4]]) # floats and integers\n",
        "print(X2)"
      ]
    },
    {
      "cell_type": "code",
      "execution_count": null,
      "metadata": {
        "colab": {
          "base_uri": "https://localhost:8080/"
        },
        "id": "YAHky_cipklr",
        "outputId": "cc97b395-29a4-4454-827a-1d8ef968c293"
      },
      "outputs": [
        {
          "name": "stdout",
          "output_type": "stream",
          "text": [
            "[[31 32 33]\n",
            " [21 22 23]\n",
            " [11 12 13]]\n"
          ]
        }
      ],
      "source": [
        "X3 = np.array([[31, 32, 33], [21, 22, 23], [11, 12, 13]])\n",
        "print(X3)"
      ]
    },
    {
      "cell_type": "markdown",
      "metadata": {
        "id": "bO0zkSTuqHcp"
      },
      "source": [
        "Note that all the lists composing the array (i.e., the items inside the square brackets) have to be contain the same number of items."
      ]
    },
    {
      "cell_type": "markdown",
      "metadata": {
        "id": "arL4Zq4xp2PH"
      },
      "source": [
        "You can access shape and size the same way as for one-dimensional arrays. Try this in the cell below."
      ]
    },
    {
      "cell_type": "code",
      "execution_count": null,
      "metadata": {
        "id": "HKW0IkU8SubC"
      },
      "outputs": [],
      "source": [
        "# access shape and size of array X2\n",
        "X2.shape\n",
        "X2.size"
      ]
    },
    {
      "cell_type": "markdown",
      "metadata": {
        "id": "H2u-H3Osq51G"
      },
      "source": [
        "Accessing elements in a two-dimensional array is slightly different than in one-dimensional ones.\n",
        "\n",
        "You can access rows in the array by indexing over it."
      ]
    },
    {
      "cell_type": "code",
      "execution_count": null,
      "metadata": {
        "colab": {
          "base_uri": "https://localhost:8080/"
        },
        "id": "uKzRVi9trCsh",
        "outputId": "a5db2550-fba0-4ddd-e739-751760202895"
      },
      "outputs": [
        {
          "name": "stdout",
          "output_type": "stream",
          "text": [
            "[14.3    0.2    8.999 11.   ]\n"
          ]
        }
      ],
      "source": [
        "print(X2[0]) # first row"
      ]
    },
    {
      "cell_type": "code",
      "execution_count": null,
      "metadata": {
        "colab": {
          "base_uri": "https://localhost:8080/"
        },
        "id": "v98szZ4Qri_b",
        "outputId": "001ab0bb-bc3d-4ea7-d28e-d49ebd0e0d6d"
      },
      "outputs": [
        {
          "name": "stdout",
          "output_type": "stream",
          "text": [
            "[3. 5. 1. 4.]\n"
          ]
        }
      ],
      "source": [
        "print(X2[-1]) # last row"
      ]
    },
    {
      "cell_type": "markdown",
      "metadata": {
        "id": "55tHpX5aru7Q"
      },
      "source": [
        "To access columns you use"
      ]
    },
    {
      "cell_type": "code",
      "execution_count": null,
      "metadata": {
        "colab": {
          "base_uri": "https://localhost:8080/"
        },
        "id": "ZzyFCXndr8_c",
        "outputId": "0e5aafc8-0c41-48ad-d266-8784a7200523"
      },
      "outputs": [
        {
          "name": "stdout",
          "output_type": "stream",
          "text": [
            "[14.3  3. ]\n"
          ]
        }
      ],
      "source": [
        "print(X2[:,0]) # first column"
      ]
    },
    {
      "cell_type": "code",
      "execution_count": null,
      "metadata": {
        "colab": {
          "base_uri": "https://localhost:8080/"
        },
        "id": "emAAofEZsDgU",
        "outputId": "7cce9c14-e2eb-4342-cc17-4c0fb6cc4877"
      },
      "outputs": [
        {
          "name": "stdout",
          "output_type": "stream",
          "text": [
            "[11.  4.]\n"
          ]
        }
      ],
      "source": [
        "print(X2[:,-1]) # last column"
      ]
    },
    {
      "cell_type": "markdown",
      "metadata": {
        "id": "AKh-3_1ksUcN"
      },
      "source": [
        "You can access specific elements by specifying their positioning in the array. The first index corresponds to the row, the second to the column."
      ]
    },
    {
      "cell_type": "code",
      "execution_count": null,
      "metadata": {
        "colab": {
          "base_uri": "https://localhost:8080/"
        },
        "id": "6HvGsvHNsjM_",
        "outputId": "75a20440-cae3-4225-e2dd-6547b17ac041"
      },
      "outputs": [
        {
          "name": "stdout",
          "output_type": "stream",
          "text": [
            "1.0\n"
          ]
        }
      ],
      "source": [
        "print(X2[1,2]) # access the element at the second row, third column"
      ]
    },
    {
      "cell_type": "code",
      "execution_count": null,
      "metadata": {
        "colab": {
          "base_uri": "https://localhost:8080/"
        },
        "id": "N_V-7xsSsoTi",
        "outputId": "ae2806e0-57a0-4905-f488-2a32f1d1de76"
      },
      "outputs": [
        {
          "name": "stdout",
          "output_type": "stream",
          "text": [
            "[ 8.999 11.   ]\n"
          ]
        }
      ],
      "source": [
        "print(X2[0,-2:]) # access the last 2 elements of the first row"
      ]
    },
    {
      "cell_type": "markdown",
      "metadata": {
        "id": "JrKKTrZTs2zo"
      },
      "source": [
        "Note: the notation `X2[1,2]` is equivalent to `X2[1][2]`. Try it in the console."
      ]
    },
    {
      "cell_type": "code",
      "execution_count": null,
      "metadata": {
        "colab": {
          "base_uri": "https://localhost:8080/"
        },
        "id": "x7xaQ2_Ms6WO",
        "outputId": "33c06423-f16b-4569-8021-0d02927736ce"
      },
      "outputs": [
        {
          "name": "stdout",
          "output_type": "stream",
          "text": [
            "1.0\n",
            "1.0\n"
          ]
        }
      ],
      "source": [
        "print(X2[1,2])\n",
        "print(X2[1][2])"
      ]
    },
    {
      "cell_type": "markdown",
      "metadata": {
        "id": "VQPuGOZ2tFJV"
      },
      "source": [
        "You can  perform array operations the same way as for one-dimensional arrays.\n",
        "\n",
        "Try to multiply each component of the array by 3 (scalar) in the cell below."
      ]
    },
    {
      "cell_type": "code",
      "execution_count": null,
      "metadata": {
        "id": "V9DXVriRtUtZ"
      },
      "outputs": [],
      "source": [
        "# add code here\n",
        "Y2 = 3*X2"
      ]
    },
    {
      "cell_type": "markdown",
      "metadata": {
        "id": "DZ0fWGujtcMB"
      },
      "source": [
        "Compare with the code below. We could also do this with a for loop, but look how complicated..."
      ]
    },
    {
      "cell_type": "code",
      "execution_count": null,
      "metadata": {
        "colab": {
          "base_uri": "https://localhost:8080/"
        },
        "id": "0vUMrYFOtgP9",
        "outputId": "cbe50217-eb4b-4996-8e6b-95cf2d12acf6"
      },
      "outputs": [
        {
          "name": "stdout",
          "output_type": "stream",
          "text": [
            "[[ True  True  True  True]\n",
            " [ True  True  True  True]]\n"
          ]
        }
      ],
      "source": [
        "YY2 = []\n",
        "for i in [0, 1]:\n",
        "  YY2.append([])\n",
        "  for j in [0, 1, 2, 3]:\n",
        "    YY2[i].append(3*X2[i][j])\n",
        "print(Y2 == YY2)"
      ]
    },
    {
      "cell_type": "markdown",
      "metadata": {
        "id": "2dbJNv8dt2Yo"
      },
      "source": [
        "Try to add/subtract a number to each component."
      ]
    },
    {
      "cell_type": "code",
      "execution_count": null,
      "metadata": {
        "id": "VwkMRibStmnA"
      },
      "outputs": [],
      "source": [
        "# add and subtract any number from an array\n",
        "print(3+X1)\n",
        "print(X2-5)"
      ]
    },
    {
      "cell_type": "markdown",
      "metadata": {
        "id": "oM5e_CgPt49O"
      },
      "source": [
        "Try perform component by component array addition/subtraction. As per one-dimensional arrays, note that arrays must have the same dimension."
      ]
    },
    {
      "cell_type": "code",
      "execution_count": null,
      "metadata": {
        "id": "T8u2u-RPtrjX"
      },
      "outputs": [],
      "source": [
        "# add and subtract two\n",
        "print(X1+X3)\n",
        "print(X3-X1)"
      ]
    },
    {
      "cell_type": "markdown",
      "metadata": {
        "id": "3dgKn0DhuGTp"
      },
      "source": [
        "Try to perform component by component array multiplication/division/power"
      ]
    },
    {
      "cell_type": "code",
      "execution_count": null,
      "metadata": {
        "id": "gjvlWtZuuFjt"
      },
      "outputs": [],
      "source": [
        "# multiply, divide and exponentiate an array by another\n",
        "print(X1*X3)\n",
        "print(X1/X3)\n",
        "print(X3**X1)"
      ]
    },
    {
      "cell_type": "markdown",
      "metadata": {
        "id": "6BYYbG_QuTZF"
      },
      "source": [
        "Also array methods are the same as for one-dimensional array, just they operate on the entire array."
      ]
    },
    {
      "cell_type": "code",
      "execution_count": null,
      "metadata": {
        "id": "rpDIL0ZGucog"
      },
      "outputs": [],
      "source": [
        "# access mean, standard deviation, sum, minimum and maximum values of an array.\n",
        "print(X1.mean())\n",
        "print(X1.std())\n",
        "print(X1.min())\n",
        "print(X1.max())\n",
        "print(X1.sum())"
      ]
    },
    {
      "cell_type": "markdown",
      "metadata": {
        "id": "ntDaUy7Aukz8"
      },
      "source": [
        "If you want this to apply at the row or column level you have to select the row or column first."
      ]
    },
    {
      "cell_type": "code",
      "execution_count": null,
      "metadata": {
        "colab": {
          "base_uri": "https://localhost:8080/"
        },
        "id": "KA8cy82NutM9",
        "outputId": "0694fdb5-f6eb-4040-a56b-81f34616fe36"
      },
      "outputs": [
        {
          "name": "stdout",
          "output_type": "stream",
          "text": [
            "12.0\n",
            "21.0\n"
          ]
        }
      ],
      "source": [
        "print(X1[0].mean())\n",
        "print(X1[:,0].mean())"
      ]
    },
    {
      "cell_type": "markdown",
      "metadata": {
        "id": "RWViNARwu9Is"
      },
      "source": [
        "Numpy arrays can have an arbitrary number of dimensions."
      ]
    },
    {
      "cell_type": "code",
      "execution_count": null,
      "metadata": {
        "colab": {
          "base_uri": "https://localhost:8080/"
        },
        "id": "U4raYKx9u-Dy",
        "outputId": "5ef48a97-053b-485e-b37a-36419cb42bd3"
      },
      "outputs": [
        {
          "name": "stdout",
          "output_type": "stream",
          "text": [
            "[[[ 2 17]\n",
            "  [45 78]]\n",
            "\n",
            " [[88 92]\n",
            "  [60 76]]\n",
            "\n",
            " [[76 33]\n",
            "  [20 18]]]\n"
          ]
        }
      ],
      "source": [
        "array3D = np.array([[[2,17], [45, 78]], [[88, 92], [60, 76]],[[76,33],[20,18]]])\n",
        "print(array3D)"
      ]
    },
    {
      "cell_type": "markdown",
      "metadata": {
        "id": "C-y8USePvxiB"
      },
      "source": [
        "## **Gini Index Practice Example**"
      ]
    },
    {
      "cell_type": "markdown",
      "metadata": {
        "id": "ucwco1a5mKAn"
      },
      "source": [
        "To refresh your knowledge about the Gini Index visit http://www.statsdirect.com/help/default.htm#nonparametric_methods/gini.htm."
      ]
    },
    {
      "cell_type": "markdown",
      "metadata": {
        "id": "noC3a1_F0_gD"
      },
      "source": [
        "Always start with importing relevant libraries"
      ]
    },
    {
      "cell_type": "code",
      "execution_count": null,
      "metadata": {
        "id": "Blnlucsj1EXB"
      },
      "outputs": [],
      "source": [
        "import numpy as np"
      ]
    },
    {
      "cell_type": "markdown",
      "metadata": {
        "id": "yuA9IbP9wRO9"
      },
      "source": [
        "Create a function that calculates the Gini coefficient of an array of values using the formula below."
      ]
    },
    {
      "cell_type": "markdown",
      "metadata": {
        "id": "-4x7hX9nN3YB"
      },
      "source": [
        "![Screenshot 2024-01-16 at 10.11.01.png](data:image/png;base64,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)"
      ]
    },
    {
      "cell_type": "code",
      "execution_count": null,
      "metadata": {
        "id": "jZuZRI8wmnwA"
      },
      "outputs": [],
      "source": [
        "def calculateGini(X):\n",
        "\n",
        "    # Calculate nominator\n",
        "    nominator = 0\n",
        "    for Xi in X:\n",
        "      for Xj in X:\n",
        "        nominator += abs(Xi - Xj)\n",
        "\n",
        "    # Calculate denominator\n",
        "    n = len(X)\n",
        "    xbar = sum(X) / n\n",
        "    denominator = 2*n*(n-1)*xbar\n",
        "\n",
        "    # final calculation\n",
        "    giniIndex = nominator / denominator\n",
        "\n",
        "    return giniIndex\n"
      ]
    },
    {
      "cell_type": "markdown",
      "metadata": {
        "id": "MeXHKwGwmsOJ"
      },
      "source": [
        "Let's check that the function works in practice."
      ]
    },
    {
      "cell_type": "code",
      "execution_count": null,
      "metadata": {
        "colab": {
          "base_uri": "https://localhost:8080/"
        },
        "id": "xRr7MmJrmsts",
        "outputId": "7119eb0e-43a4-42b5-fd94-cd16dbf799e5"
      },
      "outputs": [
        {
          "name": "stdout",
          "output_type": "stream",
          "text": [
            "0.6470588235294118\n"
          ]
        }
      ],
      "source": [
        "myPopulation = [1200, 600, 5000]\n",
        "gini = calculateGini(myPopulation)\n",
        "\n",
        "print(gini)"
      ]
    },
    {
      "cell_type": "markdown",
      "metadata": {
        "id": "KnEY2_ut05OT"
      },
      "source": [
        "Now let's create a population sample of 25000 individuals."
      ]
    },
    {
      "cell_type": "code",
      "execution_count": null,
      "metadata": {
        "id": "KJfnPTil1LO2"
      },
      "outputs": [],
      "source": [
        "Npoints = 25000\n",
        "pop = np.ones([Npoints,1])"
      ]
    },
    {
      "cell_type": "markdown",
      "metadata": {
        "id": "tMSx9xt1ymq3"
      },
      "source": [
        "Note that in this population all people have the same income 1."
      ]
    },
    {
      "cell_type": "code",
      "execution_count": null,
      "metadata": {
        "id": "K6TnY8NS1ldN"
      },
      "outputs": [],
      "source": [
        "# gini0 = calculateGini(pop)\n",
        "# print(gini0)"
      ]
    },
    {
      "cell_type": "markdown",
      "metadata": {
        "id": "gY8EZLEGyrYo"
      },
      "source": [
        "As you may have noticed, the code is taking a long time to compute the coefficient - this si because concatenating loops is not very computationally efficient."
      ]
    },
    {
      "cell_type": "markdown",
      "metadata": {
        "id": "8VDl0tJryuDf"
      },
      "source": [
        "Using numpy can make this function much more efficient. Here is a more efficient way to compute the Gini coefficient."
      ]
    },
    {
      "cell_type": "code",
      "execution_count": null,
      "metadata": {
        "id": "Lgnrv_rcK5p3"
      },
      "outputs": [],
      "source": [
        "def get_gini(array):\n",
        "    array = array.ravel()\n",
        "    n = array.shape[0] # our sample size\n",
        "\n",
        "    array_diff = np.abs(np.subtract.outer(array, array)) # absolute difference between each pair of x\n",
        "    nominator = array_diff.sum()\n",
        "\n",
        "    xbar = array.mean() # average value of x\n",
        "    denominator = 2 * n * (n - 1) * xbar\n",
        "\n",
        "    gini_index = nominator / denominator\n",
        "    return gini_index"
      ]
    },
    {
      "cell_type": "markdown",
      "metadata": {
        "id": "hra04vtb1ZwB"
      },
      "source": [
        "Now can get the Gini Index for the larger population using the new function."
      ]
    },
    {
      "cell_type": "code",
      "execution_count": null,
      "metadata": {
        "colab": {
          "base_uri": "https://localhost:8080/"
        },
        "id": "H4kTBavkYaNv",
        "outputId": "85b97c39-e448-40dd-e201-912cc489e2c9"
      },
      "outputs": [
        {
          "name": "stdout",
          "output_type": "stream",
          "text": [
            "0.0\n"
          ]
        }
      ],
      "source": [
        "gini1 = get_gini(pop)\n",
        "print(gini1)"
      ]
    },
    {
      "cell_type": "markdown",
      "metadata": {
        "id": "ReIQ5uB3SubE"
      },
      "source": [
        "### **Matplotlib**"
      ]
    },
    {
      "cell_type": "markdown",
      "metadata": {
        "id": "SgWhi64h1vGI"
      },
      "source": [
        "Using the `pyplot` from the `matplotlib` library you can create a histogram of the data (for more information on `matplotlib` you can visit https://matplotlib.org/stable/index.html). (More on this in the upcoming tutorials!)"
      ]
    },
    {
      "cell_type": "code",
      "execution_count": null,
      "metadata": {
        "id": "M7HHpH_jSubE"
      },
      "outputs": [],
      "source": [
        "from matplotlib import pyplot as plt"
      ]
    },
    {
      "cell_type": "code",
      "execution_count": null,
      "metadata": {
        "colab": {
          "base_uri": "https://localhost:8080/",
          "height": 925
        },
        "id": "LfWjiKGV17_n",
        "outputId": "80f2ac99-fda3-4f80-8e1c-8d5bd2bb4d53"
      },
      "outputs": [
        {
          "data": {
            "image/png": "[encoded data removed]",
            "text/plain": [
              "<Figure size 1280x960 with 1 Axes>"
            ]
          },
          "metadata": {},
          "output_type": "display_data"
        }
      ],
      "source": [
        "plt.figure(dpi=200)\n",
        "plt.hist(pop, bins=20)\n",
        "plt.xlabel(\"Income [-]\")\n",
        "plt.ylabel(\"Number of people [-]\")\n",
        "plt.title(\"Gini: %.4f\" %(gini1))\n",
        "plt.show()"
      ]
    },
    {
      "cell_type": "markdown",
      "metadata": {
        "id": "EA3oQbCw3mY4"
      },
      "source": [
        "Let's compute the Gini Index for other, more meaningful, populations (distributions)."
      ]
    },
    {
      "cell_type": "code",
      "execution_count": null,
      "metadata": {
        "id": "Z63GV4Om3lHX"
      },
      "outputs": [],
      "source": [
        "populations = {\n",
        "    'Flat': 5*np.ones([int(Npoints/3),1]),\n",
        "    'Uniform': np.random.uniform(low=0, high=15, size=Npoints),\n",
        "    'Normal': np.random.normal(loc=5, scale=2, size=Npoints),\n",
        "    'Exponential': np.random.exponential(scale=1, size=Npoints),\n",
        "    'Gamma': np.random.gamma(2, 2, Npoints),\n",
        "    'Beta': np.random.beta(0.5, 0.5, Npoints),\n",
        "    }"
      ]
    },
    {
      "cell_type": "code",
      "execution_count": null,
      "metadata": {
        "colab": {
          "base_uri": "https://localhost:8080/",
          "height": 882
        },
        "id": "TODLoF9A3wI0",
        "outputId": "d5d5d471-bb51-4d41-a8fd-50d606fb4018"
      },
      "outputs": [
        {
          "data": {
            "image/png": "[encoded data removed]",
            "text/plain": [
              "<Figure size 1280x960 with 1 Axes>"
            ]
          },
          "metadata": {},
          "output_type": "display_data"
        }
      ],
      "source": [
        "plt.figure(dpi=200)\n",
        "for pop in populations:\n",
        "    gini = get_gini(populations[pop])\n",
        "    plt.hist(populations[pop], bins=20, label=\"%s: %.4f\" %(pop,gini),\n",
        "             alpha=0.4)\n",
        "\n",
        "plt.legend()\n",
        "plt.xlabel(\"Income [-]\")\n",
        "plt.ylabel(\"Number of people [-]\")\n",
        "plt.show()"
      ]
    },
    {
      "cell_type": "markdown",
      "metadata": {
        "id": "s0mApcZPmvTU"
      },
      "source": [
        "Look in the \"files\" folder for the by-hand example."
      ]
    },
    {
      "cell_type": "markdown",
      "metadata": {},
      "source": [
        "Additional resources with practical exercises:\n",
        "Python basics: https://www.codecademy.com/learn/learn-python-3\n",
        "Numpy: https://www.codecademy.com/learn/intro-statistics-numpy"
      ]
    }
  ],
  "metadata": {
    "colab": {
      "collapsed_sections": [
        "oCOApVi4nsKn"
      ],
      "provenance": []
    },
    "kernelspec": {
      "display_name": "Python 3",
      "name": "python3"
    },
    "language_info": {
      "name": "python"
    }
  },
  "nbformat": 4,
  "nbformat_minor": 0
}
